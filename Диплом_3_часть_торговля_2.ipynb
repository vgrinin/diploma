{
  "nbformat": 4,
  "nbformat_minor": 0,
  "metadata": {
    "colab": {
      "name": "Диплом_3_часть_торговля_2",
      "provenance": [],
      "collapsed_sections": [],
      "authorship_tag": "ABX9TyMV/r99eKP5M0bYZyR44EVx",
      "include_colab_link": true
    },
    "kernelspec": {
      "display_name": "Python 3",
      "name": "python3"
    },
    "language_info": {
      "name": "python"
    }
  },
  "cells": [
    {
      "cell_type": "markdown",
      "metadata": {
        "id": "view-in-github",
        "colab_type": "text"
      },
      "source": [
        "<a href=\"https://colab.research.google.com/github/vgrinin/diploma/blob/main/%D0%94%D0%B8%D0%BF%D0%BB%D0%BE%D0%BC_3_%D1%87%D0%B0%D1%81%D1%82%D1%8C_%D1%82%D0%BE%D1%80%D0%B3%D0%BE%D0%B2%D0%BB%D1%8F_2.ipynb\" target=\"_parent\"><img src=\"https://colab.research.google.com/assets/colab-badge.svg\" alt=\"Open In Colab\"/></a>"
      ]
    },
    {
      "cell_type": "markdown",
      "metadata": {
        "id": "xsf5yqyP6UMZ"
      },
      "source": [
        "###Предсказание тренда"
      ]
    },
    {
      "cell_type": "markdown",
      "metadata": {
        "id": "kEgDio8l3-Sx"
      },
      "source": [
        "А что если поискать автокорреляцию, в поисках например недельных или месячных корреляций?\n",
        "\n",
        "многое взято отсюда https://habr.com/ru/post/584896/\n",
        "\n",
        "чтобы сэкономить код\n",
        "df = pd.read_csv(PATH,\t\t   # путь к файлу\n",
        "               index_col=[0],   # столбец, который будет индексом\n",
        "               parse_dates=[0]  # столбец, который надо перевести в формат даты\n",
        "df.resample(‘w’).sum()                       # Пример ресемплирования данных\n",
        "df.index.is_monotonic # проверка на монотонность\n",
        "df['month'] = df.index.month  # можно выделить например месяц из индекса по дате  https://pandas.pydata.org/pandas-docs/stable/user_guide/timeseries.html#time-date-components\n",
        "df[‘rolling_window’] = df[‘value’].rolling(6).mean()  # так делается скользящее окно на последнююю дату окна\n",
        "В большинстве задач помогает окно от 3 до 7 последовательных записей\n",
        "df[‘lag_1’] = df[‘value’].shift(1)  # аргумент shift равен кол-ву шагов для сдвига\n",
        "\n",
        "df[‘year’] = df[‘year’].apply(lambda x: 2021 – x) # минимизация значений улучшает качество работы сети\n",
        "\n",
        "http://mathprofi.ru/assimetriya_i_excess.html\n",
        "df[‘peaks’] = df[‘value’].rolling(6).apply(lambda x: len(find_peaks(x)[0]) --пики\n",
        "df[‘kurtosis’] = df[‘value’].rolling(6).apply(lambda x: kurtosis(x)) -- эксцессы\n",
        "\n",
        "может имеет смысл учитывать выходные дни и праздники, так как за проаздники может накопиться напряжения ожидания отчего выброс в понедельник будт сильнее, проверить на реальных данных\n",
        "https://kaggle.com/kingoffitpredict/nta-timeseries\n",
        "\n",
        "библиотеки для выделения признаков\n",
        "https://featuretools.com/\n",
        "https://tsfresh.readthedocs.io/"
      ]
    },
    {
      "cell_type": "code",
      "metadata": {
        "id": "awKY2q7u8hCv"
      },
      "source": [
        "#Загружаем библиотеки\n",
        "\n",
        "import pandas as pd #Пандас\n",
        "import matplotlib.pyplot as plt #Отрисовка графиков\n",
        "from tensorflow.keras.utils import to_categorical \n",
        "import numpy as np #Numpy\n",
        "from tensorflow.keras.optimizers import Adam #Оптимизатор\n",
        "from tensorflow.keras.models import Sequential, Model #Два варианты моделей\n",
        "from tensorflow.keras.layers import concatenate, Input, Dense, Dropout, BatchNormalization, Flatten, Conv1D, Conv2D, LSTM, GlobalMaxPooling1D, MaxPooling1D, RepeatVector #Стандартные слои\n",
        "from sklearn.preprocessing import StandardScaler, MinMaxScaler #Нормировщики\n",
        "from tensorflow.keras.preprocessing.sequence import TimeseriesGenerator # для генерации выборки временных рядов\n",
        "\n",
        "import warnings\n",
        "warnings.filterwarnings(\"ignore\")\n",
        "%matplotlib inline\n",
        "\n",
        "from google.colab import drive\n",
        "\n",
        "\n",
        "import plotly.graph_objects as go\n",
        "from plotly.offline import iplot\n",
        "\n",
        "from plotly.subplots import make_subplots\n",
        "\n",
        "from sklearn.preprocessing import StandardScaler, RobustScaler, MinMaxScaler # проверить все"
      ],
      "execution_count": 1,
      "outputs": []
    },
    {
      "cell_type": "code",
      "metadata": {
        "colab": {
          "base_uri": "https://localhost:8080/"
        },
        "id": "r2zxlpFt8p5i",
        "outputId": "848fb779-bab6-4080-ed3a-ef8f89ea824a"
      },
      "source": [
        "drive.mount('/content/drive')\n",
        "driveFolder = '/content/drive/My Drive/neuralnetwork/diploma/'\n",
        "ticker = 'TGKA'\n",
        "period = 'hour'  # day or hour\n",
        "fileName = driveFolder + ticker + '_' + period + '.csv'"
      ],
      "execution_count": 2,
      "outputs": [
        {
          "output_type": "stream",
          "name": "stdout",
          "text": [
            "Drive already mounted at /content/drive; to attempt to forcibly remount, call drive.mount(\"/content/drive\", force_remount=True).\n"
          ]
        }
      ]
    },
    {
      "cell_type": "code",
      "metadata": {
        "colab": {
          "base_uri": "https://localhost:8080/",
          "height": 511
        },
        "id": "_1_UgDqY9AW1",
        "outputId": "e393fd8c-2c36-4b04-f146-26fbf0ef52b8"
      },
      "source": [
        "# загрузим данные и посмотрим как они выглядят\n",
        "data = pd.read_csv(fileName)\n",
        "data[:15]"
      ],
      "execution_count": 3,
      "outputs": [
        {
          "output_type": "execute_result",
          "data": {
            "text/html": [
              "<div>\n",
              "<style scoped>\n",
              "    .dataframe tbody tr th:only-of-type {\n",
              "        vertical-align: middle;\n",
              "    }\n",
              "\n",
              "    .dataframe tbody tr th {\n",
              "        vertical-align: top;\n",
              "    }\n",
              "\n",
              "    .dataframe thead th {\n",
              "        text-align: right;\n",
              "    }\n",
              "</style>\n",
              "<table border=\"1\" class=\"dataframe\">\n",
              "  <thead>\n",
              "    <tr style=\"text-align: right;\">\n",
              "      <th></th>\n",
              "      <th>time</th>\n",
              "      <th>open</th>\n",
              "      <th>high</th>\n",
              "      <th>low</th>\n",
              "      <th>close</th>\n",
              "      <th>volume</th>\n",
              "    </tr>\n",
              "  </thead>\n",
              "  <tbody>\n",
              "    <tr>\n",
              "      <th>0</th>\n",
              "      <td>2018-03-07 18:00:00+00:00</td>\n",
              "      <td>0.011710</td>\n",
              "      <td>0.011710</td>\n",
              "      <td>0.011665</td>\n",
              "      <td>0.011665</td>\n",
              "      <td>107</td>\n",
              "    </tr>\n",
              "    <tr>\n",
              "      <th>1</th>\n",
              "      <td>2018-03-07 19:00:00+00:00</td>\n",
              "      <td>0.011670</td>\n",
              "      <td>0.011705</td>\n",
              "      <td>0.011670</td>\n",
              "      <td>0.011685</td>\n",
              "      <td>320</td>\n",
              "    </tr>\n",
              "    <tr>\n",
              "      <th>2</th>\n",
              "      <td>2018-03-07 20:00:00+00:00</td>\n",
              "      <td>0.011690</td>\n",
              "      <td>0.011695</td>\n",
              "      <td>0.011670</td>\n",
              "      <td>0.011680</td>\n",
              "      <td>71</td>\n",
              "    </tr>\n",
              "    <tr>\n",
              "      <th>3</th>\n",
              "      <td>2018-03-07 21:00:00+00:00</td>\n",
              "      <td>0.011695</td>\n",
              "      <td>0.011695</td>\n",
              "      <td>0.011670</td>\n",
              "      <td>0.011675</td>\n",
              "      <td>174</td>\n",
              "    </tr>\n",
              "    <tr>\n",
              "      <th>4</th>\n",
              "      <td>2018-03-07 22:00:00+00:00</td>\n",
              "      <td>0.011690</td>\n",
              "      <td>0.011695</td>\n",
              "      <td>0.011655</td>\n",
              "      <td>0.011670</td>\n",
              "      <td>798</td>\n",
              "    </tr>\n",
              "    <tr>\n",
              "      <th>5</th>\n",
              "      <td>2018-03-07 23:00:00+00:00</td>\n",
              "      <td>0.011670</td>\n",
              "      <td>0.011685</td>\n",
              "      <td>0.011650</td>\n",
              "      <td>0.011660</td>\n",
              "      <td>1400</td>\n",
              "    </tr>\n",
              "    <tr>\n",
              "      <th>6</th>\n",
              "      <td>2018-03-08 07:00:00+00:00</td>\n",
              "      <td>0.011710</td>\n",
              "      <td>0.011780</td>\n",
              "      <td>0.011710</td>\n",
              "      <td>0.011780</td>\n",
              "      <td>5929</td>\n",
              "    </tr>\n",
              "    <tr>\n",
              "      <th>7</th>\n",
              "      <td>2018-03-09 14:00:00+00:00</td>\n",
              "      <td>0.011770</td>\n",
              "      <td>0.011770</td>\n",
              "      <td>0.011670</td>\n",
              "      <td>0.011755</td>\n",
              "      <td>482</td>\n",
              "    </tr>\n",
              "    <tr>\n",
              "      <th>8</th>\n",
              "      <td>2018-03-09 15:00:00+00:00</td>\n",
              "      <td>0.011715</td>\n",
              "      <td>0.011730</td>\n",
              "      <td>0.011670</td>\n",
              "      <td>0.011700</td>\n",
              "      <td>1703</td>\n",
              "    </tr>\n",
              "    <tr>\n",
              "      <th>9</th>\n",
              "      <td>2018-03-09 16:00:00+00:00</td>\n",
              "      <td>0.011700</td>\n",
              "      <td>0.011720</td>\n",
              "      <td>0.011700</td>\n",
              "      <td>0.011715</td>\n",
              "      <td>193</td>\n",
              "    </tr>\n",
              "    <tr>\n",
              "      <th>10</th>\n",
              "      <td>2018-03-09 17:00:00+00:00</td>\n",
              "      <td>0.011710</td>\n",
              "      <td>0.011725</td>\n",
              "      <td>0.011710</td>\n",
              "      <td>0.011710</td>\n",
              "      <td>13</td>\n",
              "    </tr>\n",
              "    <tr>\n",
              "      <th>11</th>\n",
              "      <td>2018-03-09 18:00:00+00:00</td>\n",
              "      <td>0.011715</td>\n",
              "      <td>0.011715</td>\n",
              "      <td>0.011705</td>\n",
              "      <td>0.011705</td>\n",
              "      <td>26</td>\n",
              "    </tr>\n",
              "    <tr>\n",
              "      <th>12</th>\n",
              "      <td>2018-03-09 19:00:00+00:00</td>\n",
              "      <td>0.011710</td>\n",
              "      <td>0.011710</td>\n",
              "      <td>0.011705</td>\n",
              "      <td>0.011705</td>\n",
              "      <td>77</td>\n",
              "    </tr>\n",
              "    <tr>\n",
              "      <th>13</th>\n",
              "      <td>2018-03-09 20:00:00+00:00</td>\n",
              "      <td>0.011705</td>\n",
              "      <td>0.011730</td>\n",
              "      <td>0.011705</td>\n",
              "      <td>0.011725</td>\n",
              "      <td>21</td>\n",
              "    </tr>\n",
              "    <tr>\n",
              "      <th>14</th>\n",
              "      <td>2018-03-09 21:00:00+00:00</td>\n",
              "      <td>0.011730</td>\n",
              "      <td>0.011760</td>\n",
              "      <td>0.011725</td>\n",
              "      <td>0.011760</td>\n",
              "      <td>242</td>\n",
              "    </tr>\n",
              "  </tbody>\n",
              "</table>\n",
              "</div>"
            ],
            "text/plain": [
              "                         time      open      high       low     close  volume\n",
              "0   2018-03-07 18:00:00+00:00  0.011710  0.011710  0.011665  0.011665     107\n",
              "1   2018-03-07 19:00:00+00:00  0.011670  0.011705  0.011670  0.011685     320\n",
              "2   2018-03-07 20:00:00+00:00  0.011690  0.011695  0.011670  0.011680      71\n",
              "3   2018-03-07 21:00:00+00:00  0.011695  0.011695  0.011670  0.011675     174\n",
              "4   2018-03-07 22:00:00+00:00  0.011690  0.011695  0.011655  0.011670     798\n",
              "5   2018-03-07 23:00:00+00:00  0.011670  0.011685  0.011650  0.011660    1400\n",
              "6   2018-03-08 07:00:00+00:00  0.011710  0.011780  0.011710  0.011780    5929\n",
              "7   2018-03-09 14:00:00+00:00  0.011770  0.011770  0.011670  0.011755     482\n",
              "8   2018-03-09 15:00:00+00:00  0.011715  0.011730  0.011670  0.011700    1703\n",
              "9   2018-03-09 16:00:00+00:00  0.011700  0.011720  0.011700  0.011715     193\n",
              "10  2018-03-09 17:00:00+00:00  0.011710  0.011725  0.011710  0.011710      13\n",
              "11  2018-03-09 18:00:00+00:00  0.011715  0.011715  0.011705  0.011705      26\n",
              "12  2018-03-09 19:00:00+00:00  0.011710  0.011710  0.011705  0.011705      77\n",
              "13  2018-03-09 20:00:00+00:00  0.011705  0.011730  0.011705  0.011725      21\n",
              "14  2018-03-09 21:00:00+00:00  0.011730  0.011760  0.011725  0.011760     242"
            ]
          },
          "metadata": {},
          "execution_count": 3
        }
      ]
    },
    {
      "cell_type": "code",
      "metadata": {
        "colab": {
          "base_uri": "https://localhost:8080/",
          "height": 499
        },
        "id": "ayVCEvVU6lXL",
        "outputId": "42b958db-8797-4d31-ecdf-6aaf0a57c5ea"
      },
      "source": [
        "# Построим график цены закрытия и объема торгов\n",
        "plt.figure(figsize=(20,8))\n",
        "ax0 = plt.subplot2grid((4,4), (0, 0), rowspan=3, colspan=4)\n",
        "ax1 = plt.subplot2grid((4,4), (3, 0), rowspan=1, colspan=4)\n",
        "data['close'].plot(ax = ax0, title = 'График цены закрытия на '+ ticker + ' (' + period + ')')\n",
        "data['volume'].plot(ax = ax1, title = 'Объем торгов')\n",
        "plt.show()"
      ],
      "execution_count": 4,
      "outputs": [
        {
          "output_type": "display_data",
          "data": {
            "image/png": "[encoded data removed]",
            "text/plain": [
              "<Figure size 1440x576 with 2 Axes>"
            ]
          },
          "metadata": {
            "needs_background": "light"
          }
        }
      ]
    },
    {
      "cell_type": "code",
      "metadata": {
        "id": "zKdRTvlk6TR0"
      },
      "source": [
        "step_in_the_last = 14     # По скольки шагам в прошлое определяем тренд     ##20,16,16,4\n",
        "n_steps = 19              # Серию из скольки баров анализируем         ##44,42,48,6  - необходимо найти оптимальный\n",
        "forward_lag = 1           # Предсказание какого бара в будущем делаем       ##1"
      ],
      "execution_count": 5,
      "outputs": []
    },
    {
      "cell_type": "code",
      "metadata": {
        "id": "XuPMpgwk6iyl"
      },
      "source": [
        "# оставляем только OHLCV (убираем время, чтобы не мешало)\n",
        "df_data = data[['open','low','high','close','volume']]"
      ],
      "execution_count": 6,
      "outputs": []
    },
    {
      "cell_type": "code",
      "metadata": {
        "id": "piC8VWivN1xU",
        "colab": {
          "base_uri": "https://localhost:8080/",
          "height": 223
        },
        "outputId": "7b3a6e0e-1258-4501-957f-7e03f18053ec"
      },
      "source": [
        "# считаем относительную доходность по цене close на step_in_the_last шагов назад\n",
        "for i in range(step_in_the_last):\n",
        "  indicator_name = 'close_chng_%d' % (i+1)\n",
        "  df_data[indicator_name] = df_data['close'].pct_change(i+1) # относительная доходность\n",
        "\n",
        "# посмотрим, что получилось\n",
        "df_data.head()"
      ],
      "execution_count": 7,
      "outputs": [
        {
          "output_type": "execute_result",
          "data": {
            "text/html": [
              "<div>\n",
              "<style scoped>\n",
              "    .dataframe tbody tr th:only-of-type {\n",
              "        vertical-align: middle;\n",
              "    }\n",
              "\n",
              "    .dataframe tbody tr th {\n",
              "        vertical-align: top;\n",
              "    }\n",
              "\n",
              "    .dataframe thead th {\n",
              "        text-align: right;\n",
              "    }\n",
              "</style>\n",
              "<table border=\"1\" class=\"dataframe\">\n",
              "  <thead>\n",
              "    <tr style=\"text-align: right;\">\n",
              "      <th></th>\n",
              "      <th>open</th>\n",
              "      <th>low</th>\n",
              "      <th>high</th>\n",
              "      <th>close</th>\n",
              "      <th>volume</th>\n",
              "      <th>close_chng_1</th>\n",
              "      <th>close_chng_2</th>\n",
              "      <th>close_chng_3</th>\n",
              "      <th>close_chng_4</th>\n",
              "      <th>close_chng_5</th>\n",
              "      <th>close_chng_6</th>\n",
              "      <th>close_chng_7</th>\n",
              "      <th>close_chng_8</th>\n",
              "      <th>close_chng_9</th>\n",
              "      <th>close_chng_10</th>\n",
              "      <th>close_chng_11</th>\n",
              "      <th>close_chng_12</th>\n",
              "      <th>close_chng_13</th>\n",
              "      <th>close_chng_14</th>\n",
              "    </tr>\n",
              "  </thead>\n",
              "  <tbody>\n",
              "    <tr>\n",
              "      <th>0</th>\n",
              "      <td>0.011710</td>\n",
              "      <td>0.011665</td>\n",
              "      <td>0.011710</td>\n",
              "      <td>0.011665</td>\n",
              "      <td>107</td>\n",
              "      <td>NaN</td>\n",
              "      <td>NaN</td>\n",
              "      <td>NaN</td>\n",
              "      <td>NaN</td>\n",
              "      <td>NaN</td>\n",
              "      <td>NaN</td>\n",
              "      <td>NaN</td>\n",
              "      <td>NaN</td>\n",
              "      <td>NaN</td>\n",
              "      <td>NaN</td>\n",
              "      <td>NaN</td>\n",
              "      <td>NaN</td>\n",
              "      <td>NaN</td>\n",
              "      <td>NaN</td>\n",
              "    </tr>\n",
              "    <tr>\n",
              "      <th>1</th>\n",
              "      <td>0.011670</td>\n",
              "      <td>0.011670</td>\n",
              "      <td>0.011705</td>\n",
              "      <td>0.011685</td>\n",
              "      <td>320</td>\n",
              "      <td>0.001715</td>\n",
              "      <td>NaN</td>\n",
              "      <td>NaN</td>\n",
              "      <td>NaN</td>\n",
              "      <td>NaN</td>\n",
              "      <td>NaN</td>\n",
              "      <td>NaN</td>\n",
              "      <td>NaN</td>\n",
              "      <td>NaN</td>\n",
              "      <td>NaN</td>\n",
              "      <td>NaN</td>\n",
              "      <td>NaN</td>\n",
              "      <td>NaN</td>\n",
              "      <td>NaN</td>\n",
              "    </tr>\n",
              "    <tr>\n",
              "      <th>2</th>\n",
              "      <td>0.011690</td>\n",
              "      <td>0.011670</td>\n",
              "      <td>0.011695</td>\n",
              "      <td>0.011680</td>\n",
              "      <td>71</td>\n",
              "      <td>-0.000428</td>\n",
              "      <td>0.001286</td>\n",
              "      <td>NaN</td>\n",
              "      <td>NaN</td>\n",
              "      <td>NaN</td>\n",
              "      <td>NaN</td>\n",
              "      <td>NaN</td>\n",
              "      <td>NaN</td>\n",
              "      <td>NaN</td>\n",
              "      <td>NaN</td>\n",
              "      <td>NaN</td>\n",
              "      <td>NaN</td>\n",
              "      <td>NaN</td>\n",
              "      <td>NaN</td>\n",
              "    </tr>\n",
              "    <tr>\n",
              "      <th>3</th>\n",
              "      <td>0.011695</td>\n",
              "      <td>0.011670</td>\n",
              "      <td>0.011695</td>\n",
              "      <td>0.011675</td>\n",
              "      <td>174</td>\n",
              "      <td>-0.000428</td>\n",
              "      <td>-0.000856</td>\n",
              "      <td>0.000857</td>\n",
              "      <td>NaN</td>\n",
              "      <td>NaN</td>\n",
              "      <td>NaN</td>\n",
              "      <td>NaN</td>\n",
              "      <td>NaN</td>\n",
              "      <td>NaN</td>\n",
              "      <td>NaN</td>\n",
              "      <td>NaN</td>\n",
              "      <td>NaN</td>\n",
              "      <td>NaN</td>\n",
              "      <td>NaN</td>\n",
              "    </tr>\n",
              "    <tr>\n",
              "      <th>4</th>\n",
              "      <td>0.011690</td>\n",
              "      <td>0.011655</td>\n",
              "      <td>0.011695</td>\n",
              "      <td>0.011670</td>\n",
              "      <td>798</td>\n",
              "      <td>-0.000428</td>\n",
              "      <td>-0.000856</td>\n",
              "      <td>-0.001284</td>\n",
              "      <td>0.000429</td>\n",
              "      <td>NaN</td>\n",
              "      <td>NaN</td>\n",
              "      <td>NaN</td>\n",
              "      <td>NaN</td>\n",
              "      <td>NaN</td>\n",
              "      <td>NaN</td>\n",
              "      <td>NaN</td>\n",
              "      <td>NaN</td>\n",
              "      <td>NaN</td>\n",
              "      <td>NaN</td>\n",
              "    </tr>\n",
              "  </tbody>\n",
              "</table>\n",
              "</div>"
            ],
            "text/plain": [
              "       open       low      high  ...  close_chng_12  close_chng_13  close_chng_14\n",
              "0  0.011710  0.011665  0.011710  ...            NaN            NaN            NaN\n",
              "1  0.011670  0.011670  0.011705  ...            NaN            NaN            NaN\n",
              "2  0.011690  0.011670  0.011695  ...            NaN            NaN            NaN\n",
              "3  0.011695  0.011670  0.011695  ...            NaN            NaN            NaN\n",
              "4  0.011690  0.011655  0.011695  ...            NaN            NaN            NaN\n",
              "\n",
              "[5 rows x 19 columns]"
            ]
          },
          "metadata": {},
          "execution_count": 7
        }
      ]
    },
    {
      "cell_type": "code",
      "metadata": {
        "colab": {
          "base_uri": "https://localhost:8080/",
          "height": 223
        },
        "id": "KNFTJXUjcrfp",
        "outputId": "22a12f8c-aae0-4810-841c-400b3c2216f6"
      },
      "source": [
        "# удалим недозаполненные строчки\n",
        "df_data = df_data.dropna() # удаляем строки с NaN\n",
        "df_data.head()\n",
        "# индексация начинается с 14 - потерял первые 14 отсчетов (с 0 по 13), \n",
        "# так как для них не были вычислены все step_in_the_last показателей close_chng"
      ],
      "execution_count": 8,
      "outputs": [
        {
          "output_type": "execute_result",
          "data": {
            "text/html": [
              "<div>\n",
              "<style scoped>\n",
              "    .dataframe tbody tr th:only-of-type {\n",
              "        vertical-align: middle;\n",
              "    }\n",
              "\n",
              "    .dataframe tbody tr th {\n",
              "        vertical-align: top;\n",
              "    }\n",
              "\n",
              "    .dataframe thead th {\n",
              "        text-align: right;\n",
              "    }\n",
              "</style>\n",
              "<table border=\"1\" class=\"dataframe\">\n",
              "  <thead>\n",
              "    <tr style=\"text-align: right;\">\n",
              "      <th></th>\n",
              "      <th>open</th>\n",
              "      <th>low</th>\n",
              "      <th>high</th>\n",
              "      <th>close</th>\n",
              "      <th>volume</th>\n",
              "      <th>close_chng_1</th>\n",
              "      <th>close_chng_2</th>\n",
              "      <th>close_chng_3</th>\n",
              "      <th>close_chng_4</th>\n",
              "      <th>close_chng_5</th>\n",
              "      <th>close_chng_6</th>\n",
              "      <th>close_chng_7</th>\n",
              "      <th>close_chng_8</th>\n",
              "      <th>close_chng_9</th>\n",
              "      <th>close_chng_10</th>\n",
              "      <th>close_chng_11</th>\n",
              "      <th>close_chng_12</th>\n",
              "      <th>close_chng_13</th>\n",
              "      <th>close_chng_14</th>\n",
              "    </tr>\n",
              "  </thead>\n",
              "  <tbody>\n",
              "    <tr>\n",
              "      <th>14</th>\n",
              "      <td>0.011730</td>\n",
              "      <td>0.011725</td>\n",
              "      <td>0.011760</td>\n",
              "      <td>0.011760</td>\n",
              "      <td>242</td>\n",
              "      <td>0.002985</td>\n",
              "      <td>0.004699</td>\n",
              "      <td>0.004699</td>\n",
              "      <td>0.004270</td>\n",
              "      <td>0.003841</td>\n",
              "      <td>0.005128</td>\n",
              "      <td>0.000425</td>\n",
              "      <td>-0.001698</td>\n",
              "      <td>0.008576</td>\n",
              "      <td>0.007712</td>\n",
              "      <td>0.007281</td>\n",
              "      <td>0.006849</td>\n",
              "      <td>0.006418</td>\n",
              "      <td>0.008144</td>\n",
              "    </tr>\n",
              "    <tr>\n",
              "      <th>15</th>\n",
              "      <td>0.011755</td>\n",
              "      <td>0.011740</td>\n",
              "      <td>0.011755</td>\n",
              "      <td>0.011740</td>\n",
              "      <td>6</td>\n",
              "      <td>-0.001701</td>\n",
              "      <td>0.001279</td>\n",
              "      <td>0.002990</td>\n",
              "      <td>0.002990</td>\n",
              "      <td>0.002562</td>\n",
              "      <td>0.002134</td>\n",
              "      <td>0.003419</td>\n",
              "      <td>-0.001276</td>\n",
              "      <td>-0.003396</td>\n",
              "      <td>0.006861</td>\n",
              "      <td>0.005998</td>\n",
              "      <td>0.005567</td>\n",
              "      <td>0.005137</td>\n",
              "      <td>0.004707</td>\n",
              "    </tr>\n",
              "    <tr>\n",
              "      <th>16</th>\n",
              "      <td>0.011745</td>\n",
              "      <td>0.011745</td>\n",
              "      <td>0.011750</td>\n",
              "      <td>0.011750</td>\n",
              "      <td>3</td>\n",
              "      <td>0.000852</td>\n",
              "      <td>-0.000850</td>\n",
              "      <td>0.002132</td>\n",
              "      <td>0.003845</td>\n",
              "      <td>0.003845</td>\n",
              "      <td>0.003416</td>\n",
              "      <td>0.002988</td>\n",
              "      <td>0.004274</td>\n",
              "      <td>-0.000425</td>\n",
              "      <td>-0.002547</td>\n",
              "      <td>0.007719</td>\n",
              "      <td>0.006855</td>\n",
              "      <td>0.006424</td>\n",
              "      <td>0.005993</td>\n",
              "    </tr>\n",
              "    <tr>\n",
              "      <th>17</th>\n",
              "      <td>0.011760</td>\n",
              "      <td>0.011760</td>\n",
              "      <td>0.011785</td>\n",
              "      <td>0.011765</td>\n",
              "      <td>708</td>\n",
              "      <td>0.001277</td>\n",
              "      <td>0.002129</td>\n",
              "      <td>0.000425</td>\n",
              "      <td>0.003412</td>\n",
              "      <td>0.005126</td>\n",
              "      <td>0.005126</td>\n",
              "      <td>0.004697</td>\n",
              "      <td>0.004268</td>\n",
              "      <td>0.005556</td>\n",
              "      <td>0.000851</td>\n",
              "      <td>-0.001273</td>\n",
              "      <td>0.009005</td>\n",
              "      <td>0.008141</td>\n",
              "      <td>0.007709</td>\n",
              "    </tr>\n",
              "    <tr>\n",
              "      <th>18</th>\n",
              "      <td>0.011805</td>\n",
              "      <td>0.011805</td>\n",
              "      <td>0.011805</td>\n",
              "      <td>0.011805</td>\n",
              "      <td>100</td>\n",
              "      <td>0.003400</td>\n",
              "      <td>0.004681</td>\n",
              "      <td>0.005537</td>\n",
              "      <td>0.003827</td>\n",
              "      <td>0.006823</td>\n",
              "      <td>0.008543</td>\n",
              "      <td>0.008543</td>\n",
              "      <td>0.008113</td>\n",
              "      <td>0.007682</td>\n",
              "      <td>0.008974</td>\n",
              "      <td>0.004254</td>\n",
              "      <td>0.002122</td>\n",
              "      <td>0.012436</td>\n",
              "      <td>0.011568</td>\n",
              "    </tr>\n",
              "  </tbody>\n",
              "</table>\n",
              "</div>"
            ],
            "text/plain": [
              "        open       low      high  ...  close_chng_12  close_chng_13  close_chng_14\n",
              "14  0.011730  0.011725  0.011760  ...       0.006849       0.006418       0.008144\n",
              "15  0.011755  0.011740  0.011755  ...       0.005567       0.005137       0.004707\n",
              "16  0.011745  0.011745  0.011750  ...       0.006855       0.006424       0.005993\n",
              "17  0.011760  0.011760  0.011785  ...       0.009005       0.008141       0.007709\n",
              "18  0.011805  0.011805  0.011805  ...       0.002122       0.012436       0.011568\n",
              "\n",
              "[5 rows x 19 columns]"
            ]
          },
          "metadata": {},
          "execution_count": 8
        }
      ]
    },
    {
      "cell_type": "markdown",
      "metadata": {
        "id": "uL-PaRzDcXQW"
      },
      "source": [
        "Здесь, например close_chng_14 для 14 строчки показывает относительное изменение цены в 14 строчке относительно цены в 0-й строчке, т.е.:\n",
        "\n",
        "close_chng_14[14]=(close[14]-close[0])/close[0]\n",
        "\n",
        "Или более общая формула:\n",
        "\n",
        "close_chng_N[i]=(close[i]-close[i-N])/close[i-N]\n",
        "\n",
        "Проверим: \n",
        "close_chng_3[15]=(close[15]-close[12])/close[12]\n",
        "\n",
        "0.002990 = (0.011740-0.011705)/0.011705 (верно!)"
      ]
    },
    {
      "cell_type": "code",
      "metadata": {
        "id": "InewCqEg6srb"
      },
      "source": [
        "# Определим направление тренда\n",
        "# 0 - нейтральное изменения тренда\n",
        "# 1 - ход тренда вверх\n",
        "# 2 - ход тренда вниз\n",
        "hold_signal_value=0\n",
        "up_signal_value=1\n",
        "down_signal_value=2\n",
        "\n",
        "# Относительное изменение цены (close_chng_X) будут сравниваться с пороговым \n",
        "# (его можно подобрать оптимально при отладке нейросетки)\n",
        "# Изменение по модулю меньше этого значения будут считаться нейтральным трендом, \n",
        "# изменение ниже чем (-delta_trend) - нисходящим трендом, \n",
        "# изменение выше чем (+delta_trend) - восходящим трендом\n",
        "delta_trend=0.005 \n",
        "\n",
        "for i in range(step_in_the_last):\n",
        "  indicator_name = 'close_chng_%d' % (i+1)\n",
        "  indicator_name_new = 'Y_%d' % (i+1)\n",
        "  df_data[indicator_name_new] = hold_signal_value\n",
        "  df_data.loc[df_data[indicator_name] >= delta_trend , indicator_name_new] = up_signal_value\n",
        "  df_data.loc[df_data[indicator_name] <= -delta_trend , indicator_name_new] = down_signal_value\n",
        "\n",
        "# удалим ставшие ненужными колонки с относительной доходностью\n",
        "for i in range(step_in_the_last):\n",
        "  indicator_name = 'close_chng_%d' % (i+1)\n",
        "  del df_data[indicator_name]"
      ],
      "execution_count": 9,
      "outputs": []
    },
    {
      "cell_type": "markdown",
      "metadata": {
        "id": "7gE89UAnbeTU"
      },
      "source": [
        "Однако стоит также попробовать сетку в которой в качестве направления тренда используется не (0,1,2) а все таки исходные close_chng_X"
      ]
    },
    {
      "cell_type": "code",
      "metadata": {
        "colab": {
          "base_uri": "https://localhost:8080/",
          "height": 357
        },
        "id": "lYSm4gcqajPM",
        "outputId": "2b274798-ca33-4cd9-fb5e-a009879ddeb7"
      },
      "source": [
        "df_data[:10]"
      ],
      "execution_count": 10,
      "outputs": [
        {
          "output_type": "execute_result",
          "data": {
            "text/html": [
              "<div>\n",
              "<style scoped>\n",
              "    .dataframe tbody tr th:only-of-type {\n",
              "        vertical-align: middle;\n",
              "    }\n",
              "\n",
              "    .dataframe tbody tr th {\n",
              "        vertical-align: top;\n",
              "    }\n",
              "\n",
              "    .dataframe thead th {\n",
              "        text-align: right;\n",
              "    }\n",
              "</style>\n",
              "<table border=\"1\" class=\"dataframe\">\n",
              "  <thead>\n",
              "    <tr style=\"text-align: right;\">\n",
              "      <th></th>\n",
              "      <th>open</th>\n",
              "      <th>low</th>\n",
              "      <th>high</th>\n",
              "      <th>close</th>\n",
              "      <th>volume</th>\n",
              "      <th>Y_1</th>\n",
              "      <th>Y_2</th>\n",
              "      <th>Y_3</th>\n",
              "      <th>Y_4</th>\n",
              "      <th>Y_5</th>\n",
              "      <th>Y_6</th>\n",
              "      <th>Y_7</th>\n",
              "      <th>Y_8</th>\n",
              "      <th>Y_9</th>\n",
              "      <th>Y_10</th>\n",
              "      <th>Y_11</th>\n",
              "      <th>Y_12</th>\n",
              "      <th>Y_13</th>\n",
              "      <th>Y_14</th>\n",
              "    </tr>\n",
              "  </thead>\n",
              "  <tbody>\n",
              "    <tr>\n",
              "      <th>14</th>\n",
              "      <td>0.011730</td>\n",
              "      <td>0.011725</td>\n",
              "      <td>0.011760</td>\n",
              "      <td>0.011760</td>\n",
              "      <td>242</td>\n",
              "      <td>0</td>\n",
              "      <td>0</td>\n",
              "      <td>0</td>\n",
              "      <td>0</td>\n",
              "      <td>0</td>\n",
              "      <td>1</td>\n",
              "      <td>0</td>\n",
              "      <td>0</td>\n",
              "      <td>1</td>\n",
              "      <td>1</td>\n",
              "      <td>1</td>\n",
              "      <td>1</td>\n",
              "      <td>1</td>\n",
              "      <td>1</td>\n",
              "    </tr>\n",
              "    <tr>\n",
              "      <th>15</th>\n",
              "      <td>0.011755</td>\n",
              "      <td>0.011740</td>\n",
              "      <td>0.011755</td>\n",
              "      <td>0.011740</td>\n",
              "      <td>6</td>\n",
              "      <td>0</td>\n",
              "      <td>0</td>\n",
              "      <td>0</td>\n",
              "      <td>0</td>\n",
              "      <td>0</td>\n",
              "      <td>0</td>\n",
              "      <td>0</td>\n",
              "      <td>0</td>\n",
              "      <td>0</td>\n",
              "      <td>1</td>\n",
              "      <td>1</td>\n",
              "      <td>1</td>\n",
              "      <td>1</td>\n",
              "      <td>0</td>\n",
              "    </tr>\n",
              "    <tr>\n",
              "      <th>16</th>\n",
              "      <td>0.011745</td>\n",
              "      <td>0.011745</td>\n",
              "      <td>0.011750</td>\n",
              "      <td>0.011750</td>\n",
              "      <td>3</td>\n",
              "      <td>0</td>\n",
              "      <td>0</td>\n",
              "      <td>0</td>\n",
              "      <td>0</td>\n",
              "      <td>0</td>\n",
              "      <td>0</td>\n",
              "      <td>0</td>\n",
              "      <td>0</td>\n",
              "      <td>0</td>\n",
              "      <td>0</td>\n",
              "      <td>1</td>\n",
              "      <td>1</td>\n",
              "      <td>1</td>\n",
              "      <td>1</td>\n",
              "    </tr>\n",
              "    <tr>\n",
              "      <th>17</th>\n",
              "      <td>0.011760</td>\n",
              "      <td>0.011760</td>\n",
              "      <td>0.011785</td>\n",
              "      <td>0.011765</td>\n",
              "      <td>708</td>\n",
              "      <td>0</td>\n",
              "      <td>0</td>\n",
              "      <td>0</td>\n",
              "      <td>0</td>\n",
              "      <td>1</td>\n",
              "      <td>1</td>\n",
              "      <td>0</td>\n",
              "      <td>0</td>\n",
              "      <td>1</td>\n",
              "      <td>0</td>\n",
              "      <td>0</td>\n",
              "      <td>1</td>\n",
              "      <td>1</td>\n",
              "      <td>1</td>\n",
              "    </tr>\n",
              "    <tr>\n",
              "      <th>18</th>\n",
              "      <td>0.011805</td>\n",
              "      <td>0.011805</td>\n",
              "      <td>0.011805</td>\n",
              "      <td>0.011805</td>\n",
              "      <td>100</td>\n",
              "      <td>0</td>\n",
              "      <td>0</td>\n",
              "      <td>1</td>\n",
              "      <td>0</td>\n",
              "      <td>1</td>\n",
              "      <td>1</td>\n",
              "      <td>1</td>\n",
              "      <td>1</td>\n",
              "      <td>1</td>\n",
              "      <td>1</td>\n",
              "      <td>0</td>\n",
              "      <td>0</td>\n",
              "      <td>1</td>\n",
              "      <td>1</td>\n",
              "    </tr>\n",
              "    <tr>\n",
              "      <th>19</th>\n",
              "      <td>0.011805</td>\n",
              "      <td>0.011775</td>\n",
              "      <td>0.011945</td>\n",
              "      <td>0.011840</td>\n",
              "      <td>4227</td>\n",
              "      <td>0</td>\n",
              "      <td>1</td>\n",
              "      <td>1</td>\n",
              "      <td>1</td>\n",
              "      <td>1</td>\n",
              "      <td>1</td>\n",
              "      <td>1</td>\n",
              "      <td>1</td>\n",
              "      <td>1</td>\n",
              "      <td>1</td>\n",
              "      <td>1</td>\n",
              "      <td>1</td>\n",
              "      <td>1</td>\n",
              "      <td>1</td>\n",
              "    </tr>\n",
              "    <tr>\n",
              "      <th>20</th>\n",
              "      <td>0.011845</td>\n",
              "      <td>0.011810</td>\n",
              "      <td>0.011910</td>\n",
              "      <td>0.011835</td>\n",
              "      <td>6614</td>\n",
              "      <td>0</td>\n",
              "      <td>0</td>\n",
              "      <td>1</td>\n",
              "      <td>1</td>\n",
              "      <td>1</td>\n",
              "      <td>1</td>\n",
              "      <td>1</td>\n",
              "      <td>1</td>\n",
              "      <td>1</td>\n",
              "      <td>1</td>\n",
              "      <td>1</td>\n",
              "      <td>1</td>\n",
              "      <td>1</td>\n",
              "      <td>0</td>\n",
              "    </tr>\n",
              "    <tr>\n",
              "      <th>21</th>\n",
              "      <td>0.011840</td>\n",
              "      <td>0.011810</td>\n",
              "      <td>0.011865</td>\n",
              "      <td>0.011845</td>\n",
              "      <td>2799</td>\n",
              "      <td>0</td>\n",
              "      <td>0</td>\n",
              "      <td>0</td>\n",
              "      <td>1</td>\n",
              "      <td>1</td>\n",
              "      <td>1</td>\n",
              "      <td>1</td>\n",
              "      <td>1</td>\n",
              "      <td>1</td>\n",
              "      <td>1</td>\n",
              "      <td>1</td>\n",
              "      <td>1</td>\n",
              "      <td>1</td>\n",
              "      <td>1</td>\n",
              "    </tr>\n",
              "    <tr>\n",
              "      <th>22</th>\n",
              "      <td>0.011845</td>\n",
              "      <td>0.011805</td>\n",
              "      <td>0.011880</td>\n",
              "      <td>0.011850</td>\n",
              "      <td>1346</td>\n",
              "      <td>0</td>\n",
              "      <td>0</td>\n",
              "      <td>0</td>\n",
              "      <td>0</td>\n",
              "      <td>1</td>\n",
              "      <td>1</td>\n",
              "      <td>1</td>\n",
              "      <td>1</td>\n",
              "      <td>1</td>\n",
              "      <td>1</td>\n",
              "      <td>1</td>\n",
              "      <td>1</td>\n",
              "      <td>1</td>\n",
              "      <td>1</td>\n",
              "    </tr>\n",
              "    <tr>\n",
              "      <th>23</th>\n",
              "      <td>0.011870</td>\n",
              "      <td>0.011815</td>\n",
              "      <td>0.011870</td>\n",
              "      <td>0.011835</td>\n",
              "      <td>1525</td>\n",
              "      <td>0</td>\n",
              "      <td>0</td>\n",
              "      <td>0</td>\n",
              "      <td>0</td>\n",
              "      <td>0</td>\n",
              "      <td>1</td>\n",
              "      <td>1</td>\n",
              "      <td>1</td>\n",
              "      <td>1</td>\n",
              "      <td>1</td>\n",
              "      <td>1</td>\n",
              "      <td>1</td>\n",
              "      <td>1</td>\n",
              "      <td>1</td>\n",
              "    </tr>\n",
              "  </tbody>\n",
              "</table>\n",
              "</div>"
            ],
            "text/plain": [
              "        open       low      high     close  ...  Y_11  Y_12  Y_13  Y_14\n",
              "14  0.011730  0.011725  0.011760  0.011760  ...     1     1     1     1\n",
              "15  0.011755  0.011740  0.011755  0.011740  ...     1     1     1     0\n",
              "16  0.011745  0.011745  0.011750  0.011750  ...     1     1     1     1\n",
              "17  0.011760  0.011760  0.011785  0.011765  ...     0     1     1     1\n",
              "18  0.011805  0.011805  0.011805  0.011805  ...     0     0     1     1\n",
              "19  0.011805  0.011775  0.011945  0.011840  ...     1     1     1     1\n",
              "20  0.011845  0.011810  0.011910  0.011835  ...     1     1     1     0\n",
              "21  0.011840  0.011810  0.011865  0.011845  ...     1     1     1     1\n",
              "22  0.011845  0.011805  0.011880  0.011850  ...     1     1     1     1\n",
              "23  0.011870  0.011815  0.011870  0.011835  ...     1     1     1     1\n",
              "\n",
              "[10 rows x 19 columns]"
            ]
          },
          "metadata": {},
          "execution_count": 10
        }
      ]
    },
    {
      "cell_type": "code",
      "metadata": {
        "colab": {
          "base_uri": "https://localhost:8080/"
        },
        "id": "coQw5gnSbw37",
        "outputId": "2ea6c4b1-67f2-4cb7-aa84-f6e8373f23bd"
      },
      "source": [
        "print(df_data.shape)\n",
        "# размерность 19 = сумме 5 характеристик торгов (OHLCV) и 14 вычисленных показателей тренда"
      ],
      "execution_count": 11,
      "outputs": [
        {
          "output_type": "stream",
          "name": "stdout",
          "text": [
            "(8325, 19)\n"
          ]
        }
      ]
    },
    {
      "cell_type": "code",
      "metadata": {
        "colab": {
          "base_uri": "https://localhost:8080/"
        },
        "id": "DyU74xgY6-QQ",
        "outputId": "ce6abb11-d780-4730-baf9-e67144b38793"
      },
      "source": [
        "#формируем yTrain\n",
        "indicator_name = 'Y_%d' % forward_lag\n",
        "data_Y = df_data[indicator_name]\n",
        "\n",
        "data_Y.head()"
      ],
      "execution_count": 12,
      "outputs": [
        {
          "output_type": "execute_result",
          "data": {
            "text/plain": [
              "14    0\n",
              "15    0\n",
              "16    0\n",
              "17    0\n",
              "18    0\n",
              "Name: Y_1, dtype: int64"
            ]
          },
          "metadata": {},
          "execution_count": 12
        }
      ]
    },
    {
      "cell_type": "code",
      "metadata": {
        "colab": {
          "base_uri": "https://localhost:8080/"
        },
        "id": "vSBjqg-U7DDT",
        "outputId": "272f35af-a44d-436d-fc9a-e7f93e8dcf59"
      },
      "source": [
        "Y_ohe = to_categorical(data_Y, num_classes = 3)\n",
        "print(Y_ohe[:5])"
      ],
      "execution_count": 13,
      "outputs": [
        {
          "output_type": "stream",
          "name": "stdout",
          "text": [
            "[[1. 0. 0.]\n",
            " [1. 0. 0.]\n",
            " [1. 0. 0.]\n",
            " [1. 0. 0.]\n",
            " [1. 0. 0.]]\n"
          ]
        }
      ]
    },
    {
      "cell_type": "code",
      "metadata": {
        "colab": {
          "base_uri": "https://localhost:8080/"
        },
        "id": "y6zWE1Ub7H8J",
        "outputId": "3089c6a8-7a39-431f-f230-af6323638ff8"
      },
      "source": [
        "# берем для xTest последние 10 процентов от всего графика цены\n",
        "n_test = len(df_data)//10\n",
        "xTrain_ = df_data[:-n_test-n_steps]\n",
        "xTest_ = df_data[-n_test:]\n",
        "yTrain_ = Y_ohe[:-n_test-n_steps]\n",
        "yTest_ = Y_ohe[-n_test:]\n",
        "\n",
        "print('xTrain: ', xTrain_.shape, '\\tyTrain:', yTrain_.shape,\n",
        "      '\\nxTest:  ', xTest_.shape, '\\tyTest: ', yTest_.shape)\n",
        "xTrain_.shape[0]+xTest_.shape[0]"
      ],
      "execution_count": 14,
      "outputs": [
        {
          "output_type": "stream",
          "name": "stdout",
          "text": [
            "xTrain:  (7474, 19) \tyTrain: (7474, 3) \n",
            "xTest:   (832, 19) \tyTest:  (832, 3)\n"
          ]
        },
        {
          "output_type": "execute_result",
          "data": {
            "text/plain": [
              "8306"
            ]
          },
          "metadata": {},
          "execution_count": 14
        }
      ]
    },
    {
      "cell_type": "code",
      "metadata": {
        "id": "IEYne9cs7Kc7"
      },
      "source": [
        "# Масштабируем X при помощи RobustScaler чтобы избавиться от выбросов\n",
        "xScaler = RobustScaler()\n",
        "xScaler.fit(xTrain_, yTrain_)\n",
        "xTrain = xScaler.transform(xTrain_)\n",
        "xTest = xScaler.transform(xTest_)"
      ],
      "execution_count": 15,
      "outputs": []
    },
    {
      "cell_type": "code",
      "metadata": {
        "id": "SwQ6QEiAjxd6"
      },
      "source": [
        "def split_sequences(x, y, n_steps):\n",
        "  gen = TimeseriesGenerator(\n",
        "      x, y,\n",
        "      length=n_steps,\n",
        "      sampling_rate=1, stride=1,\n",
        "      batch_size=1\n",
        "      )\n",
        "\n",
        "  x_ = []\n",
        "  y_ = []\n",
        "  for i, g in enumerate(gen):\n",
        "    x_.append(g[0])  \n",
        "    y_.append(g[1])\n",
        "\n",
        "  # переводим из типа list в ndarray\n",
        "  x_ = np.concatenate(x_)\n",
        "  y_ = np.concatenate(y_)\n",
        "  return (x_, y_)"
      ],
      "execution_count": 16,
      "outputs": []
    },
    {
      "cell_type": "code",
      "metadata": {
        "id": "uF557BVbtxX2"
      },
      "source": [
        "# Формируем выборки для обучения\n",
        "xTrain, yTrain = split_sequences(xTrain, yTrain_, n_steps)\n",
        "\n",
        "# Формируем выборки для валидации\n",
        "xTest, yTest = split_sequences(xTest, yTest_, n_steps)"
      ],
      "execution_count": 17,
      "outputs": []
    },
    {
      "cell_type": "code",
      "metadata": {
        "colab": {
          "base_uri": "https://localhost:8080/"
        },
        "id": "9lf533fr2l0F",
        "outputId": "add8c6da-caa8-4554-ba2a-ec6a22607487"
      },
      "source": [
        "print('xTrain', xTrain.shape, '=>', 'yTrain', yTrain.shape)\n",
        "print('xTest', xTest.shape, '=>', 'yTest', yTest.shape)"
      ],
      "execution_count": 18,
      "outputs": [
        {
          "output_type": "stream",
          "name": "stdout",
          "text": [
            "xTrain (7455, 19, 19) => yTrain (7455, 3)\n",
            "xTest (813, 19, 19) => yTest (813, 3)\n"
          ]
        }
      ]
    },
    {
      "cell_type": "code",
      "metadata": {
        "id": "fA14ggpWlOup"
      },
      "source": [
        "# определяет текущую сделку и состояние алгоритма по предикту сетки\n",
        "def get_deal(i, prediction, state):\n",
        "\n",
        "  if i==0: #на первом шаге ничего не делаем\n",
        "    return hold_signal_value, hold_signal_value\n",
        "\n",
        "  # при нулевом тренде просто держим позицию, какой она ни была до этого\n",
        "  if prediction == hold_signal_value:\n",
        "    return state, hold_signal_value\n",
        "\n",
        "  # если пришел сигнал на снижающийся тренд\n",
        "  if prediction == down_signal_value and prediction != state:\n",
        "    # то продаем\n",
        "    return down_signal_value, down_signal_value\n",
        "\n",
        "  # если пришел сигнал на растущий тренд\n",
        "  if prediction == up_signal_value and prediction != state:\n",
        "    # то покупаем\n",
        "    return up_signal_value, up_signal_value\n",
        "\n",
        "  # этот блок сработает если предсказан тренд, который ранее начал осблуживаться сеткой\n",
        "  return state, hold_signal_value"
      ],
      "execution_count": 19,
      "outputs": []
    },
    {
      "cell_type": "code",
      "metadata": {
        "id": "mX8Wf0IRo_A2"
      },
      "source": [
        "def count_deals(deals):\n",
        "  # Посчитаем предсказанные ненулевые сделки (тренды)\n",
        "  nonnul_deals = 0\n",
        "  ret = []\n",
        "  for i, d in enumerate(deals):\n",
        "    if d > 0:\n",
        "      nonnul_deals+=1\n",
        "      ret.append([i, d])\n",
        "  print('Всего', nonnul_deals, 'сделок')\n",
        "  return np.array(ret)"
      ],
      "execution_count": 20,
      "outputs": []
    },
    {
      "cell_type": "code",
      "metadata": {
        "id": "_3Fcd_8QmKMx"
      },
      "source": [
        "def calc_cheats(yTest):\n",
        "  # цикл для формирования сделок по реальным значениям, читерский, как если бы мы могли заглянуть в будущее\n",
        "  nonnul_answer=0\n",
        "  state = 0\n",
        "\n",
        "  # учитываем, что 0-й элемент yTest показывает тренд на шаге n_steps\n",
        "  # а применять сделку по нему надо на шаг назад = (n_steps-1)\n",
        "  # т.е. при торговле находясь на 18 шаге мы берем для предсказания\n",
        "  # отсчеты с индексами [0..18] и \"угадав\" тренд который будет далее (на 19 шаге)\n",
        "  # совершаем сделку\n",
        "  cheats = [0] * (n_steps-1)  # когда купить (1), когда продать (-1), когда держать(0)\n",
        "  for i in range(len(yTest)-n_steps):\n",
        "    prediction = np.argmax(yTest[i])\n",
        "\n",
        "    if prediction != hold_signal_value:\n",
        "      nonnul_answer+=1\n",
        "\n",
        "    state, deal = get_deal(i, prediction, state)\n",
        "    cheats.append(deal)\n",
        "\n",
        "  print('Ненулевых ответов:', nonnul_answer)\n",
        "  cheats_scatter = count_deals(cheats)\n",
        "  print(cheats_scatter[:5])\n",
        "  return cheats_scatter, cheats"
      ],
      "execution_count": 55,
      "outputs": []
    },
    {
      "cell_type": "code",
      "metadata": {
        "id": "kLBKA99OqXVi"
      },
      "source": [
        "def plot_deals(prices, deals, title):\n",
        "\n",
        "  pr = go.Line(x=np.arange(0, len(prices), 1), \n",
        "               y=prices)\n",
        "  \n",
        "  dl = go.Scatter(\n",
        "      mode='markers',\n",
        "      x=deals[:,0], \n",
        "      y=prices[deals[:,0]], \n",
        "      marker_symbol=['triangle-down' if deals[i,1]==down_signal_value else 'triangle-up' for i in range(len(deals))],\n",
        "      marker_color=['red' if deals[i,1]==down_signal_value else 'green' for i in range(len(deals))], \n",
        "      marker_size=12\n",
        "      )\n",
        "\n",
        "  data = [pr, dl]\n",
        "  figure = dict(data=data)\n",
        "  iplot(figure)"
      ],
      "execution_count": 22,
      "outputs": []
    },
    {
      "cell_type": "code",
      "metadata": {
        "colab": {
          "base_uri": "https://localhost:8080/"
        },
        "id": "W3-APChOIvMM",
        "outputId": "9a0728e2-8e3e-450b-a258-c9b07766f88c"
      },
      "source": [
        "cheats_scatter, cheats = calc_cheats(yTest)"
      ],
      "execution_count": 56,
      "outputs": [
        {
          "output_type": "stream",
          "name": "stdout",
          "text": [
            "Ненулевых ответов: 110\n",
            "Всего 55 сделок\n",
            "[[ 20   2]\n",
            " [ 21   1]\n",
            " [ 40   2]\n",
            " [120   1]\n",
            " [121   2]]\n"
          ]
        }
      ]
    },
    {
      "cell_type": "code",
      "metadata": {
        "id": "vq0lzuXDRUge"
      },
      "source": [
        "#xTest - 1-й индекс - номер батча, 2-й индекс - номер элемента внутри батча, 3-1 - индекс характристики (OHLCV и т .д)\n",
        "tradeXTest = xScaler.inverse_transform(xTest[:,0,:])\n",
        "prices = tradeXTest[:,3]"
      ],
      "execution_count": null,
      "outputs": []
    },
    {
      "cell_type": "code",
      "metadata": {
        "colab": {
          "base_uri": "https://localhost:8080/",
          "height": 694
        },
        "id": "caSfO1gyL3BJ",
        "outputId": "5e891ec6-0345-4f2c-8506-d004d56136e5"
      },
      "source": [
        "plot_deals(prices, cheats_scatter, 'Читерские сделки от оракула')"
      ],
      "execution_count": 57,
      "outputs": [
        {
          "output_type": "stream",
          "name": "stderr",
          "text": [
            "/usr/local/lib/python3.7/dist-packages/plotly/graph_objs/_deprecations.py:385: DeprecationWarning:\n",
            "\n",
            "plotly.graph_objs.Line is deprecated.\n",
            "Please replace it with one of the following more specific types\n",
            "  - plotly.graph_objs.scatter.Line\n",
            "  - plotly.graph_objs.layout.shape.Line\n",
            "  - etc.\n",
            "\n",
            "\n"
          ]
        },
        {
          "output_type": "display_data",
          "data": {
            "text/html": [
              "<html>\n",
              "<head><meta charset=\"utf-8\" /></head>\n",
              "<body>\n",
              "    <div>\n",
              "            <script src=\"https://cdnjs.cloudflare.com/ajax/libs/mathjax/2.7.5/MathJax.js?config=TeX-AMS-MML_SVG\"></script><script type=\"text/javascript\">if (window.MathJax) {MathJax.Hub.Config({SVG: {font: \"STIX-Web\"}});}</script>\n",
              "                <script type=\"text/javascript\">window.PlotlyConfig = {MathJaxConfig: 'local'};</script>\n",
              "        <script src=\"https://cdn.plot.ly/plotly-latest.min.js\"></script>    \n",
              "            <div id=\"4d29e648-2a56-4791-bb67-84dd00336923\" class=\"plotly-graph-div\" style=\"height:525px; width:100%;\"></div>\n",
              "            <script type=\"text/javascript\">\n",
              "                \n",
              "                    window.PLOTLYENV=window.PLOTLYENV || {};\n",
              "                    \n",
              "                if (document.getElementById(\"4d29e648-2a56-4791-bb67-84dd00336923\")) {\n",
              "                    Plotly.newPlot(\n",
              "                        '4d29e648-2a56-4791-bb67-84dd00336923',\n",
              "                        [{\"type\": \"scatter\", \"x\": [0, 1, 2, 3, 4, 5, 6, 7, 8, 9, 10, 11, 12, 13, 14, 15, 16, 17, 18, 19, 20, 21, 22, 23, 24, 25, 26, 27, 28, 29, 30, 31, 32, 33, 34, 35, 36, 37, 38, 39, 40, 41, 42, 43, 44, 45, 46, 47, 48, 49, 50, 51, 52, 53, 54, 55, 56, 57, 58, 59, 60, 61, 62, 63, 64, 65, 66, 67, 68, 69, 70, 71, 72, 73, 74, 75, 76, 77, 78, 79, 80, 81, 82, 83, 84, 85, 86, 87, 88, 89, 90, 91, 92, 93, 94, 95, 96, 97, 98, 99, 100, 101, 102, 103, 104, 105, 106, 107, 108, 109, 110, 111, 112, 113, 114, 115, 116, 117, 118, 119, 120, 121, 122, 123, 124, 125, 126, 127, 128, 129, 130, 131, 132, 133, 134, 135, 136, 137, 138, 139, 140, 141, 142, 143, 144, 145, 146, 147, 148, 149, 150, 151, 152, 153, 154, 155, 156, 157, 158, 159, 160, 161, 162, 163, 164, 165, 166, 167, 168, 169, 170, 171, 172, 173, 174, 175, 176, 177, 178, 179, 180, 181, 182, 183, 184, 185, 186, 187, 188, 189, 190, 191, 192, 193, 194, 195, 196, 197, 198, 199, 200, 201, 202, 203, 204, 205, 206, 207, 208, 209, 210, 211, 212, 213, 214, 215, 216, 217, 218, 219, 220, 221, 222, 223, 224, 225, 226, 227, 228, 229, 230, 231, 232, 233, 234, 235, 236, 237, 238, 239, 240, 241, 242, 243, 244, 245, 246, 247, 248, 249, 250, 251, 252, 253, 254, 255, 256, 257, 258, 259, 260, 261, 262, 263, 264, 265, 266, 267, 268, 269, 270, 271, 272, 273, 274, 275, 276, 277, 278, 279, 280, 281, 282, 283, 284, 285, 286, 287, 288, 289, 290, 291, 292, 293, 294, 295, 296, 297, 298, 299, 300, 301, 302, 303, 304, 305, 306, 307, 308, 309, 310, 311, 312, 313, 314, 315, 316, 317, 318, 319, 320, 321, 322, 323, 324, 325, 326, 327, 328, 329, 330, 331, 332, 333, 334, 335, 336, 337, 338, 339, 340, 341, 342, 343, 344, 345, 346, 347, 348, 349, 350, 351, 352, 353, 354, 355, 356, 357, 358, 359, 360, 361, 362, 363, 364, 365, 366, 367, 368, 369, 370, 371, 372, 373, 374, 375, 376, 377, 378, 379, 380, 381, 382, 383, 384, 385, 386, 387, 388, 389, 390, 391, 392, 393, 394, 395, 396, 397, 398, 399, 400, 401, 402, 403, 404, 405, 406, 407, 408, 409, 410, 411, 412, 413, 414, 415, 416, 417, 418, 419, 420, 421, 422, 423, 424, 425, 426, 427, 428, 429, 430, 431, 432, 433, 434, 435, 436, 437, 438, 439, 440, 441, 442, 443, 444, 445, 446, 447, 448, 449, 450, 451, 452, 453, 454, 455, 456, 457, 458, 459, 460, 461, 462, 463, 464, 465, 466, 467, 468, 469, 470, 471, 472, 473, 474, 475, 476, 477, 478, 479, 480, 481, 482, 483, 484, 485, 486, 487, 488, 489, 490, 491, 492, 493, 494, 495, 496, 497, 498, 499, 500, 501, 502, 503, 504, 505, 506, 507, 508, 509, 510, 511, 512, 513, 514, 515, 516, 517, 518, 519, 520, 521, 522, 523, 524, 525, 526, 527, 528, 529, 530, 531, 532, 533, 534, 535, 536, 537, 538, 539, 540, 541, 542, 543, 544, 545, 546, 547, 548, 549, 550, 551, 552, 553, 554, 555, 556, 557, 558, 559, 560, 561, 562, 563, 564, 565, 566, 567, 568, 569, 570, 571, 572, 573, 574, 575, 576, 577, 578, 579, 580, 581, 582, 583, 584, 585, 586, 587, 588, 589, 590, 591, 592, 593, 594, 595, 596, 597, 598, 599, 600, 601, 602, 603, 604, 605, 606, 607, 608, 609, 610, 611, 612, 613, 614, 615, 616, 617, 618, 619, 620, 621, 622, 623, 624, 625, 626, 627, 628, 629, 630, 631, 632, 633, 634, 635, 636, 637, 638, 639, 640, 641, 642, 643, 644, 645, 646, 647, 648, 649, 650, 651, 652, 653, 654, 655, 656, 657, 658, 659, 660, 661, 662, 663, 664, 665, 666, 667, 668, 669, 670, 671, 672, 673, 674, 675, 676, 677, 678, 679, 680, 681, 682, 683, 684, 685, 686, 687, 688, 689, 690, 691, 692, 693, 694, 695, 696, 697, 698, 699, 700, 701, 702, 703, 704, 705, 706, 707, 708, 709, 710, 711, 712, 713, 714, 715, 716, 717, 718, 719, 720, 721, 722, 723, 724, 725, 726, 727, 728, 729, 730, 731, 732, 733, 734, 735, 736, 737, 738, 739, 740, 741, 742, 743, 744, 745, 746, 747, 748, 749, 750, 751, 752, 753, 754, 755, 756, 757, 758, 759, 760, 761, 762, 763, 764, 765, 766, 767, 768, 769, 770, 771, 772, 773, 774, 775, 776, 777, 778, 779, 780, 781, 782, 783, 784, 785, 786, 787, 788, 789, 790, 791, 792, 793, 794, 795, 796, 797, 798, 799, 800, 801, 802, 803, 804, 805, 806, 807, 808, 809, 810, 811, 812], \"y\": [0.012824, 0.01285, 0.012846000000000002, 0.012858000000000001, 0.0129, 0.012908000000000001, 0.01289, 0.012804, 0.012744, 0.012764, 0.01277, 0.012762, 0.012736, 0.01281, 0.012806, 0.01273, 0.012742, 0.012724, 0.012738, 0.01277, 0.01277, 0.0127, 0.012796, 0.012773999999999999, 0.012778, 0.012798, 0.0128, 0.012812, 0.012813999999999999, 0.012802000000000001, 0.012834, 0.01285, 0.012790000000000001, 0.012847999999999998, 0.01286, 0.01286, 0.012846000000000002, 0.012842, 0.012832, 0.012819999999999998, 0.01284, 0.01275, 0.012752, 0.012778, 0.012778, 0.012778, 0.012752, 0.012776000000000001, 0.012813999999999999, 0.0128, 0.012787999999999999, 0.012794, 0.012792, 0.012758, 0.012740000000000001, 0.012742, 0.012742, 0.01272, 0.012738, 0.012787999999999999, 0.012759999999999999, 0.012764, 0.01278, 0.0128, 0.012804, 0.012794, 0.01277, 0.012796, 0.012766, 0.01278, 0.012759999999999999, 0.012759999999999999, 0.012782, 0.012766, 0.012758, 0.01275, 0.012772, 0.012762, 0.01273, 0.012745999999999999, 0.012778, 0.01275, 0.012756, 0.012734, 0.01273, 0.01273, 0.012736, 0.012718, 0.012731999999999999, 0.012740000000000001, 0.012758, 0.01275, 0.012782, 0.012762, 0.012786, 0.012764, 0.012745999999999999, 0.012772, 0.01277, 0.012759999999999999, 0.01275, 0.012758, 0.012631999999999999, 0.012596, 0.012622, 0.01264, 0.012642, 0.012643999999999999, 0.012626, 0.012622, 0.012608, 0.01255, 0.01253, 0.01255, 0.012528000000000001, 0.01253, 0.01253, 0.012528000000000001, 0.012484, 0.012498, 0.012490000000000001, 0.01258, 0.012512, 0.012564, 0.012522, 0.012558, 0.012492, 0.012486, 0.012484, 0.01248, 0.012523999999999999, 0.012554000000000001, 0.012522, 0.012523999999999999, 0.01258, 0.012576, 0.012572, 0.012578, 0.012574, 0.012565999999999999, 0.012551999999999999, 0.01251, 0.012408, 0.01243, 0.01242, 0.012422, 0.012418, 0.012406, 0.012329999999999999, 0.012352, 0.01235, 0.012484, 0.012462, 0.01247, 0.012406, 0.012402, 0.012322, 0.012522, 0.012518000000000001, 0.012506, 0.012504000000000001, 0.012514, 0.012528000000000001, 0.012522, 0.012534, 0.012536, 0.012523999999999999, 0.012431999999999999, 0.012440000000000001, 0.0124, 0.012388, 0.0124, 0.012404, 0.012394, 0.012394, 0.01243, 0.01235, 0.01235, 0.012329999999999999, 0.012320000000000001, 0.012304, 0.012315999999999999, 0.012332, 0.012326, 0.012246, 0.012222, 0.012222, 0.012202, 0.012214000000000001, 0.012212, 0.012204000000000001, 0.012172, 0.01218, 0.011290000000000001, 0.011266, 0.0113, 0.011288, 0.011290000000000001, 0.011284, 0.011245999999999999, 0.01123, 0.011224, 0.01124, 0.011179999999999999, 0.01115, 0.011182, 0.011192, 0.011179999999999999, 0.011138, 0.011064000000000001, 0.01111, 0.011094, 0.011082, 0.011016, 0.011016, 0.011018, 0.011008, 0.011040000000000001, 0.011018, 0.011014, 0.011018, 0.011016, 0.011042, 0.011032, 0.011042, 0.011016, 0.010988, 0.010920000000000001, 0.010914, 0.010926, 0.010946, 0.010936, 0.010934000000000001, 0.010918, 0.01091, 0.010904, 0.0109, 0.0109, 0.010978, 0.011042, 0.011064000000000001, 0.01107, 0.011090000000000001, 0.011092, 0.011098, 0.011098, 0.011090000000000001, 0.0111, 0.011108, 0.01112, 0.01113, 0.01114, 0.01116, 0.011165999999999999, 0.011172, 0.01115, 0.011176, 0.011170000000000001, 0.011176, 0.011144, 0.0111, 0.011078, 0.011096, 0.011072, 0.011094, 0.011086, 0.010998, 0.011009999999999999, 0.010981999999999999, 0.01097, 0.01097, 0.01095, 0.010948000000000001, 0.01096, 0.011008, 0.010984, 0.010998, 0.010962000000000001, 0.010952, 0.01094, 0.010956, 0.01095, 0.010926, 0.010936, 0.01095, 0.01094, 0.010988, 0.0112, 0.01123, 0.011306, 0.011306, 0.011328, 0.011098, 0.011044, 0.0111, 0.011059999999999999, 0.010995999999999999, 0.011016, 0.011002, 0.010978, 0.010920000000000001, 0.01108, 0.011073999999999999, 0.01108, 0.011054000000000001, 0.01103, 0.01103, 0.01103, 0.011086, 0.011045999999999999, 0.011108, 0.01113, 0.011059999999999999, 0.011058, 0.011022, 0.01105, 0.011058, 0.011054000000000001, 0.011059999999999999, 0.011000000000000001, 0.011023999999999999, 0.011045999999999999, 0.011026000000000001, 0.011006, 0.011009999999999999, 0.010995999999999999, 0.010998, 0.011000000000000001, 0.011000000000000001, 0.010992, 0.011023999999999999, 0.011048, 0.01103, 0.011044, 0.011012000000000001, 0.01102, 0.011000000000000001, 0.010998, 0.011004, 0.011022, 0.01103, 0.011052, 0.011056, 0.011022, 0.011022, 0.011016, 0.011028, 0.01093, 0.010966, 0.010994, 0.011023999999999999, 0.011014, 0.011234000000000001, 0.011244, 0.011226, 0.011401999999999999, 0.011479999999999999, 0.011452, 0.011508, 0.011492, 0.011559999999999999, 0.011508, 0.01151, 0.011594, 0.011642, 0.011574, 0.01157, 0.011548000000000001, 0.011592, 0.011623999999999999, 0.01163, 0.011598, 0.011556, 0.011493999999999999, 0.011415999999999999, 0.011308, 0.01122, 0.011236, 0.011248000000000001, 0.011238, 0.011234000000000001, 0.011222, 0.011488, 0.0115, 0.011478, 0.011488, 0.011493999999999999, 0.011492, 0.011482, 0.011479999999999999, 0.011476, 0.011476, 0.011412, 0.011426, 0.011418000000000001, 0.011415999999999999, 0.011406, 0.011362, 0.011384, 0.0114, 0.011478, 0.011472, 0.011458, 0.011452, 0.011396, 0.01141, 0.011448, 0.011418000000000001, 0.01145, 0.011479999999999999, 0.011456000000000001, 0.011606, 0.011595999999999999, 0.011668000000000001, 0.01165, 0.011698, 0.011718000000000001, 0.011715999999999999, 0.0117, 0.011612, 0.011654000000000001, 0.01171, 0.0117, 0.01175, 0.011684, 0.011666, 0.011674, 0.01172, 0.011708, 0.011706, 0.011704, 0.011698, 0.011646, 0.01166, 0.011654000000000001, 0.01168, 0.011714, 0.011742, 0.01167, 0.011687999999999999, 0.011692000000000001, 0.011698, 0.011698, 0.011686, 0.011687999999999999, 0.011708, 0.011729999999999999, 0.011704, 0.011726, 0.011728, 0.011708, 0.011694, 0.011682, 0.011687999999999999, 0.011726, 0.011687999999999999, 0.0117, 0.011706, 0.011706, 0.011706, 0.011687999999999999, 0.01168, 0.011696, 0.011644, 0.011636, 0.01162, 0.011578, 0.011608, 0.011618, 0.011616, 0.011612, 0.01163, 0.011594, 0.011556, 0.011618, 0.01162, 0.011664, 0.011656, 0.011628, 0.011686, 0.011623999999999999, 0.011658, 0.011646, 0.011674, 0.011654000000000001, 0.011658, 0.01165, 0.011658, 0.011658, 0.01169, 0.011656, 0.01165, 0.011674, 0.011664, 0.011684, 0.011687999999999999, 0.011694, 0.01166, 0.01168, 0.011496, 0.0115, 0.011470000000000001, 0.011514, 0.011472, 0.011493999999999999, 0.011504, 0.011538, 0.011466, 0.011462, 0.01141, 0.011442, 0.011414, 0.011428, 0.011458, 0.011464, 0.011446, 0.01143, 0.011502, 0.011526, 0.011516, 0.01152, 0.01152, 0.011514, 0.011496, 0.01151, 0.011522, 0.011514, 0.011512, 0.01151, 0.011522, 0.011538, 0.01154, 0.011531999999999999, 0.01153, 0.01151, 0.011522, 0.011522, 0.01153, 0.0116, 0.011623999999999999, 0.011616, 0.01154, 0.011558, 0.011609999999999999, 0.011566, 0.011566, 0.011548000000000001, 0.011558, 0.011531999999999999, 0.01149, 0.011496, 0.011498, 0.011476, 0.011514, 0.01149, 0.011496, 0.01151, 0.011492, 0.011488, 0.011476, 0.011528, 0.011528, 0.011496, 0.011474, 0.011504, 0.01151, 0.01151, 0.011508, 0.0115, 0.011502, 0.011472, 0.011484000000000001, 0.011468, 0.011493999999999999, 0.011482, 0.011488, 0.011470000000000001, 0.011468, 0.011468, 0.011479999999999999, 0.011458, 0.011458, 0.01144, 0.01142, 0.011404000000000001, 0.01142, 0.011428, 0.011432, 0.011479999999999999, 0.011464, 0.011558, 0.011559999999999999, 0.011715999999999999, 0.01172, 0.011701999999999999, 0.011706, 0.0117, 0.011722, 0.011590000000000001, 0.011714, 0.011816, 0.01182, 0.011859999999999999, 0.01185, 0.011852, 0.01185, 0.011856, 0.011940000000000001, 0.012001999999999999, 0.012008, 0.012001999999999999, 0.012001999999999999, 0.012026, 0.01198, 0.011936, 0.011974, 0.012012, 0.011928, 0.011828, 0.011892, 0.011884, 0.011926, 0.011918000000000002, 0.011902, 0.011914, 0.01179, 0.011770000000000001, 0.01182, 0.011822, 0.01183, 0.011859999999999999, 0.011786, 0.011770000000000001, 0.01185, 0.011712, 0.011648, 0.011662, 0.011684, 0.011774, 0.011742, 0.011706, 0.011696, 0.0117, 0.011784000000000001, 0.011781999999999999, 0.011742, 0.011708, 0.011684, 0.011640000000000001, 0.011662, 0.011538, 0.011598, 0.011479999999999999, 0.011476, 0.01149, 0.011568, 0.011496, 0.011482, 0.011486, 0.01145, 0.0115, 0.011482, 0.01137, 0.011396, 0.011415999999999999, 0.0113, 0.0113, 0.011198, 0.011193999999999999, 0.0112, 0.011302, 0.011268, 0.011298, 0.011298, 0.011316, 0.011294, 0.01126, 0.01126, 0.011196, 0.011274, 0.011262000000000001, 0.011182, 0.011136, 0.011094, 0.011059999999999999, 0.01107, 0.011082, 0.011094, 0.011144, 0.0111, 0.011144, 0.011073999999999999, 0.011094, 0.011086, 0.011018, 0.011048, 0.011000000000000001, 0.011108, 0.011000000000000001, 0.011000000000000001, 0.011000000000000001, 0.011000000000000001, 0.010981999999999999, 0.01099, 0.010998, 0.01096, 0.01111, 0.011006, 0.010994, 0.011000000000000001, 0.010998, 0.011000000000000001, 0.010995999999999999, 0.010994, 0.011000000000000001, 0.011000000000000001, 0.011000000000000001, 0.011000000000000001, 0.011000000000000001, 0.011000000000000001, 0.011000000000000001, 0.010995999999999999, 0.010974, 0.010981999999999999, 0.011036, 0.011018, 0.011034, 0.011018, 0.011006, 0.011000000000000001, 0.010998, 0.011014, 0.011016, 0.011006, 0.010971999999999999, 0.011040000000000001, 0.011008, 0.010978, 0.010944, 0.01093, 0.01095, 0.010948000000000001, 0.011000000000000001, 0.010978, 0.010884, 0.010896, 0.010896, 0.010896, 0.010946, 0.010964, 0.010978, 0.010978, 0.0109, 0.010894, 0.010876, 0.010879999999999999, 0.01089, 0.0109, 0.010808, 0.010848, 0.010838, 0.01084, 0.010868000000000001, 0.0108, 0.0108, 0.010798, 0.0108, 0.01075, 0.01075, 0.010698000000000001, 0.010695999999999999, 0.0107, 0.010698000000000001, 0.010698000000000001, 0.0107, 0.010759999999999999, 0.010716, 0.01077, 0.0107, 0.0107, 0.0107, 0.0107, 0.0107, 0.0107, 0.010698000000000001, 0.01067, 0.010688, 0.010702, 0.01085, 0.0109, 0.010902, 0.010882, 0.01086, 0.01087, 0.010968, 0.010936, 0.011068000000000001, 0.011078, 0.011094, 0.01113, 0.011132, 0.01114, 0.0112, 0.011196, 0.011188, 0.011162, 0.011122, 0.011066, 0.011036, 0.011082, 0.011073999999999999, 0.010981999999999999, 0.011016]}, {\"marker\": {\"color\": [\"red\", \"green\", \"red\", \"green\", \"red\", \"green\", \"red\", \"green\", \"red\", \"green\", \"red\", \"green\", \"red\", \"green\", \"red\", \"green\", \"red\", \"green\", \"red\", \"green\", \"red\", \"green\", \"red\", \"green\", \"red\", \"green\", \"red\", \"green\", \"red\", \"green\", \"red\", \"green\", \"red\", \"green\", \"red\", \"green\", \"red\", \"green\", \"red\", \"green\", \"red\", \"green\", \"red\", \"green\", \"red\", \"green\", \"red\", \"green\", \"red\", \"green\", \"red\", \"green\", \"red\", \"green\", \"red\"], \"size\": 12, \"symbol\": [\"triangle-down\", \"triangle-up\", \"triangle-down\", \"triangle-up\", \"triangle-down\", \"triangle-up\", \"triangle-down\", \"triangle-up\", \"triangle-down\", \"triangle-up\", \"triangle-down\", \"triangle-up\", \"triangle-down\", \"triangle-up\", \"triangle-down\", \"triangle-up\", \"triangle-down\", \"triangle-up\", \"triangle-down\", \"triangle-up\", \"triangle-down\", \"triangle-up\", \"triangle-down\", \"triangle-up\", \"triangle-down\", \"triangle-up\", \"triangle-down\", \"triangle-up\", \"triangle-down\", \"triangle-up\", \"triangle-down\", \"triangle-up\", \"triangle-down\", \"triangle-up\", \"triangle-down\", \"triangle-up\", \"triangle-down\", \"triangle-up\", \"triangle-down\", \"triangle-up\", \"triangle-down\", \"triangle-up\", \"triangle-down\", \"triangle-up\", \"triangle-down\", \"triangle-up\", \"triangle-down\", \"triangle-up\", \"triangle-down\", \"triangle-up\", \"triangle-down\", \"triangle-up\", \"triangle-down\", \"triangle-up\", \"triangle-down\"]}, \"mode\": \"markers\", \"type\": \"scatter\", \"x\": [20, 21, 40, 120, 121, 150, 153, 156, 166, 237, 265, 286, 291, 293, 295, 300, 311, 351, 364, 381, 391, 399, 418, 473, 479, 516, 540, 589, 597, 598, 616, 618, 624, 632, 633, 637, 649, 650, 651, 654, 655, 669, 677, 678, 680, 696, 697, 705, 706, 734, 743, 774, 777, 787, 806], \"y\": [0.01277, 0.0127, 0.01284, 0.012490000000000001, 0.01258, 0.01235, 0.01247, 0.012322, 0.012523999999999999, 0.0109, 0.011086, 0.010988, 0.011328, 0.011044, 0.011059999999999999, 0.010920000000000001, 0.01113, 0.011014, 0.011642, 0.011222, 0.011476, 0.0114, 0.0117, 0.011556, 0.011686, 0.01143, 0.011616, 0.011464, 0.011722, 0.011590000000000001, 0.012012, 0.011828, 0.011914, 0.011770000000000001, 0.01185, 0.011684, 0.011662, 0.011538, 0.011598, 0.01149, 0.011568, 0.0112, 0.01126, 0.011196, 0.011262000000000001, 0.011000000000000001, 0.011108, 0.01096, 0.01111, 0.010971999999999999, 0.010978, 0.0107, 0.01077, 0.010702, 0.011122]}],\n",
              "                        {\"template\": {\"data\": {\"bar\": [{\"error_x\": {\"color\": \"#2a3f5f\"}, \"error_y\": {\"color\": \"#2a3f5f\"}, \"marker\": {\"line\": {\"color\": \"#E5ECF6\", \"width\": 0.5}}, \"type\": \"bar\"}], \"barpolar\": [{\"marker\": {\"line\": {\"color\": \"#E5ECF6\", \"width\": 0.5}}, \"type\": \"barpolar\"}], \"carpet\": [{\"aaxis\": {\"endlinecolor\": \"#2a3f5f\", \"gridcolor\": \"white\", \"linecolor\": \"white\", \"minorgridcolor\": \"white\", \"startlinecolor\": \"#2a3f5f\"}, \"baxis\": {\"endlinecolor\": \"#2a3f5f\", \"gridcolor\": \"white\", \"linecolor\": \"white\", \"minorgridcolor\": \"white\", \"startlinecolor\": \"#2a3f5f\"}, \"type\": \"carpet\"}], \"choropleth\": [{\"colorbar\": {\"outlinewidth\": 0, \"ticks\": \"\"}, \"type\": \"choropleth\"}], \"contour\": [{\"colorbar\": {\"outlinewidth\": 0, \"ticks\": \"\"}, \"colorscale\": [[0.0, \"#0d0887\"], [0.1111111111111111, \"#46039f\"], [0.2222222222222222, \"#7201a8\"], [0.3333333333333333, \"#9c179e\"], [0.4444444444444444, \"#bd3786\"], [0.5555555555555556, \"#d8576b\"], [0.6666666666666666, \"#ed7953\"], [0.7777777777777778, \"#fb9f3a\"], [0.8888888888888888, \"#fdca26\"], [1.0, \"#f0f921\"]], \"type\": \"contour\"}], \"contourcarpet\": [{\"colorbar\": {\"outlinewidth\": 0, \"ticks\": \"\"}, \"type\": \"contourcarpet\"}], \"heatmap\": [{\"colorbar\": {\"outlinewidth\": 0, \"ticks\": \"\"}, \"colorscale\": [[0.0, \"#0d0887\"], [0.1111111111111111, \"#46039f\"], [0.2222222222222222, \"#7201a8\"], [0.3333333333333333, \"#9c179e\"], [0.4444444444444444, \"#bd3786\"], [0.5555555555555556, \"#d8576b\"], [0.6666666666666666, \"#ed7953\"], [0.7777777777777778, \"#fb9f3a\"], [0.8888888888888888, \"#fdca26\"], [1.0, \"#f0f921\"]], \"type\": \"heatmap\"}], \"heatmapgl\": [{\"colorbar\": {\"outlinewidth\": 0, \"ticks\": \"\"}, \"colorscale\": [[0.0, \"#0d0887\"], [0.1111111111111111, \"#46039f\"], [0.2222222222222222, \"#7201a8\"], [0.3333333333333333, \"#9c179e\"], [0.4444444444444444, \"#bd3786\"], [0.5555555555555556, \"#d8576b\"], [0.6666666666666666, \"#ed7953\"], [0.7777777777777778, \"#fb9f3a\"], [0.8888888888888888, \"#fdca26\"], [1.0, \"#f0f921\"]], \"type\": \"heatmapgl\"}], \"histogram\": [{\"marker\": {\"colorbar\": {\"outlinewidth\": 0, \"ticks\": \"\"}}, \"type\": \"histogram\"}], \"histogram2d\": [{\"colorbar\": {\"outlinewidth\": 0, \"ticks\": \"\"}, \"colorscale\": [[0.0, \"#0d0887\"], [0.1111111111111111, \"#46039f\"], [0.2222222222222222, \"#7201a8\"], [0.3333333333333333, \"#9c179e\"], [0.4444444444444444, \"#bd3786\"], [0.5555555555555556, \"#d8576b\"], [0.6666666666666666, \"#ed7953\"], [0.7777777777777778, \"#fb9f3a\"], [0.8888888888888888, \"#fdca26\"], [1.0, \"#f0f921\"]], \"type\": \"histogram2d\"}], \"histogram2dcontour\": [{\"colorbar\": {\"outlinewidth\": 0, \"ticks\": \"\"}, \"colorscale\": [[0.0, \"#0d0887\"], [0.1111111111111111, \"#46039f\"], [0.2222222222222222, \"#7201a8\"], [0.3333333333333333, \"#9c179e\"], [0.4444444444444444, \"#bd3786\"], [0.5555555555555556, \"#d8576b\"], [0.6666666666666666, \"#ed7953\"], [0.7777777777777778, \"#fb9f3a\"], [0.8888888888888888, \"#fdca26\"], [1.0, \"#f0f921\"]], \"type\": \"histogram2dcontour\"}], \"mesh3d\": [{\"colorbar\": {\"outlinewidth\": 0, \"ticks\": \"\"}, \"type\": \"mesh3d\"}], \"parcoords\": [{\"line\": {\"colorbar\": {\"outlinewidth\": 0, \"ticks\": \"\"}}, \"type\": \"parcoords\"}], \"pie\": [{\"automargin\": true, \"type\": \"pie\"}], \"scatter\": [{\"marker\": {\"colorbar\": {\"outlinewidth\": 0, \"ticks\": \"\"}}, \"type\": \"scatter\"}], \"scatter3d\": [{\"line\": {\"colorbar\": {\"outlinewidth\": 0, \"ticks\": \"\"}}, \"marker\": {\"colorbar\": {\"outlinewidth\": 0, \"ticks\": \"\"}}, \"type\": \"scatter3d\"}], \"scattercarpet\": [{\"marker\": {\"colorbar\": {\"outlinewidth\": 0, \"ticks\": \"\"}}, \"type\": \"scattercarpet\"}], \"scattergeo\": [{\"marker\": {\"colorbar\": {\"outlinewidth\": 0, \"ticks\": \"\"}}, \"type\": \"scattergeo\"}], \"scattergl\": [{\"marker\": {\"colorbar\": {\"outlinewidth\": 0, \"ticks\": \"\"}}, \"type\": \"scattergl\"}], \"scattermapbox\": [{\"marker\": {\"colorbar\": {\"outlinewidth\": 0, \"ticks\": \"\"}}, \"type\": \"scattermapbox\"}], \"scatterpolar\": [{\"marker\": {\"colorbar\": {\"outlinewidth\": 0, \"ticks\": \"\"}}, \"type\": \"scatterpolar\"}], \"scatterpolargl\": [{\"marker\": {\"colorbar\": {\"outlinewidth\": 0, \"ticks\": \"\"}}, \"type\": \"scatterpolargl\"}], \"scatterternary\": [{\"marker\": {\"colorbar\": {\"outlinewidth\": 0, \"ticks\": \"\"}}, \"type\": \"scatterternary\"}], \"surface\": [{\"colorbar\": {\"outlinewidth\": 0, \"ticks\": \"\"}, \"colorscale\": [[0.0, \"#0d0887\"], [0.1111111111111111, \"#46039f\"], [0.2222222222222222, \"#7201a8\"], [0.3333333333333333, \"#9c179e\"], [0.4444444444444444, \"#bd3786\"], [0.5555555555555556, \"#d8576b\"], [0.6666666666666666, \"#ed7953\"], [0.7777777777777778, \"#fb9f3a\"], [0.8888888888888888, \"#fdca26\"], [1.0, \"#f0f921\"]], \"type\": \"surface\"}], \"table\": [{\"cells\": {\"fill\": {\"color\": \"#EBF0F8\"}, \"line\": {\"color\": \"white\"}}, \"header\": {\"fill\": {\"color\": \"#C8D4E3\"}, \"line\": {\"color\": \"white\"}}, \"type\": \"table\"}]}, \"layout\": {\"annotationdefaults\": {\"arrowcolor\": \"#2a3f5f\", \"arrowhead\": 0, \"arrowwidth\": 1}, \"coloraxis\": {\"colorbar\": {\"outlinewidth\": 0, \"ticks\": \"\"}}, \"colorscale\": {\"diverging\": [[0, \"#8e0152\"], [0.1, \"#c51b7d\"], [0.2, \"#de77ae\"], [0.3, \"#f1b6da\"], [0.4, \"#fde0ef\"], [0.5, \"#f7f7f7\"], [0.6, \"#e6f5d0\"], [0.7, \"#b8e186\"], [0.8, \"#7fbc41\"], [0.9, \"#4d9221\"], [1, \"#276419\"]], \"sequential\": [[0.0, \"#0d0887\"], [0.1111111111111111, \"#46039f\"], [0.2222222222222222, \"#7201a8\"], [0.3333333333333333, \"#9c179e\"], [0.4444444444444444, \"#bd3786\"], [0.5555555555555556, \"#d8576b\"], [0.6666666666666666, \"#ed7953\"], [0.7777777777777778, \"#fb9f3a\"], [0.8888888888888888, \"#fdca26\"], [1.0, \"#f0f921\"]], \"sequentialminus\": [[0.0, \"#0d0887\"], [0.1111111111111111, \"#46039f\"], [0.2222222222222222, \"#7201a8\"], [0.3333333333333333, \"#9c179e\"], [0.4444444444444444, \"#bd3786\"], [0.5555555555555556, \"#d8576b\"], [0.6666666666666666, \"#ed7953\"], [0.7777777777777778, \"#fb9f3a\"], [0.8888888888888888, \"#fdca26\"], [1.0, \"#f0f921\"]]}, \"colorway\": [\"#636efa\", \"#EF553B\", \"#00cc96\", \"#ab63fa\", \"#FFA15A\", \"#19d3f3\", \"#FF6692\", \"#B6E880\", \"#FF97FF\", \"#FECB52\"], \"font\": {\"color\": \"#2a3f5f\"}, \"geo\": {\"bgcolor\": \"white\", \"lakecolor\": \"white\", \"landcolor\": \"#E5ECF6\", \"showlakes\": true, \"showland\": true, \"subunitcolor\": \"white\"}, \"hoverlabel\": {\"align\": \"left\"}, \"hovermode\": \"closest\", \"mapbox\": {\"style\": \"light\"}, \"paper_bgcolor\": \"white\", \"plot_bgcolor\": \"#E5ECF6\", \"polar\": {\"angularaxis\": {\"gridcolor\": \"white\", \"linecolor\": \"white\", \"ticks\": \"\"}, \"bgcolor\": \"#E5ECF6\", \"radialaxis\": {\"gridcolor\": \"white\", \"linecolor\": \"white\", \"ticks\": \"\"}}, \"scene\": {\"xaxis\": {\"backgroundcolor\": \"#E5ECF6\", \"gridcolor\": \"white\", \"gridwidth\": 2, \"linecolor\": \"white\", \"showbackground\": true, \"ticks\": \"\", \"zerolinecolor\": \"white\"}, \"yaxis\": {\"backgroundcolor\": \"#E5ECF6\", \"gridcolor\": \"white\", \"gridwidth\": 2, \"linecolor\": \"white\", \"showbackground\": true, \"ticks\": \"\", \"zerolinecolor\": \"white\"}, \"zaxis\": {\"backgroundcolor\": \"#E5ECF6\", \"gridcolor\": \"white\", \"gridwidth\": 2, \"linecolor\": \"white\", \"showbackground\": true, \"ticks\": \"\", \"zerolinecolor\": \"white\"}}, \"shapedefaults\": {\"line\": {\"color\": \"#2a3f5f\"}}, \"ternary\": {\"aaxis\": {\"gridcolor\": \"white\", \"linecolor\": \"white\", \"ticks\": \"\"}, \"baxis\": {\"gridcolor\": \"white\", \"linecolor\": \"white\", \"ticks\": \"\"}, \"bgcolor\": \"#E5ECF6\", \"caxis\": {\"gridcolor\": \"white\", \"linecolor\": \"white\", \"ticks\": \"\"}}, \"title\": {\"x\": 0.05}, \"xaxis\": {\"automargin\": true, \"gridcolor\": \"white\", \"linecolor\": \"white\", \"ticks\": \"\", \"title\": {\"standoff\": 15}, \"zerolinecolor\": \"white\", \"zerolinewidth\": 2}, \"yaxis\": {\"automargin\": true, \"gridcolor\": \"white\", \"linecolor\": \"white\", \"ticks\": \"\", \"title\": {\"standoff\": 15}, \"zerolinecolor\": \"white\", \"zerolinewidth\": 2}}}},\n",
              "                        {\"responsive\": true}\n",
              "                    ).then(function(){\n",
              "                            \n",
              "var gd = document.getElementById('4d29e648-2a56-4791-bb67-84dd00336923');\n",
              "var x = new MutationObserver(function (mutations, observer) {{\n",
              "        var display = window.getComputedStyle(gd).display;\n",
              "        if (!display || display === 'none') {{\n",
              "            console.log([gd, 'removed!']);\n",
              "            Plotly.purge(gd);\n",
              "            observer.disconnect();\n",
              "        }}\n",
              "}});\n",
              "\n",
              "// Listen for the removal of the full notebook cells\n",
              "var notebookContainer = gd.closest('#notebook-container');\n",
              "if (notebookContainer) {{\n",
              "    x.observe(notebookContainer, {childList: true});\n",
              "}}\n",
              "\n",
              "// Listen for the clearing of the current output cell\n",
              "var outputEl = gd.closest('.output');\n",
              "if (outputEl) {{\n",
              "    x.observe(outputEl, {childList: true});\n",
              "}}\n",
              "\n",
              "                        })\n",
              "                };\n",
              "                \n",
              "            </script>\n",
              "        </div>\n",
              "</body>\n",
              "</html>"
            ]
          },
          "metadata": {}
        }
      ]
    },
    {
      "cell_type": "code",
      "metadata": {
        "id": "SazOsrdl5pk8"
      },
      "source": [
        "def test_deals(tradeXTest, deals, money):\n",
        "  # стартовый капитал\n",
        "  ms = []\n",
        "  stocks = 0.0\n",
        "  for i in range(0, tradeXTest.shape[0], 1):\n",
        "    if money==0:\n",
        "      ms.append(ms[-1])\n",
        "    else:\n",
        "      ms.append(money)\n",
        "    if deals[i]==up_signal_value and stocks==0:\n",
        "      stocks = money / tradeXTest[i, 3]\n",
        "      money = 0\n",
        "      continue\n",
        "    if deals[i]==down_signal_value and stocks>0:\n",
        "      money = stocks * tradeXTest[i, 3]\n",
        "      stocks = 0\n",
        "      continue\n",
        "  if stocks>0:\n",
        "    money = stocks * tradeXTest[i, 3]\n",
        "    stocks = 0\n",
        "  return money, stocks, ms"
      ],
      "execution_count": 58,
      "outputs": []
    },
    {
      "cell_type": "code",
      "metadata": {
        "colab": {
          "base_uri": "https://localhost:8080/"
        },
        "id": "rAYnF_lB8BRR",
        "outputId": "94503cf3-1cc5-424b-982e-3ec4be23d4f5"
      },
      "source": [
        "# проведем тестовую торговлю на читах\n",
        "cheats2 = np.zeros(xTest.shape[0])\n",
        "for i in range(len(cheats2)):\n",
        "  for k in range(cheats_scatter.shape[0]):\n",
        "    if i==cheats_scatter[k,0]:\n",
        "      cheats2[i]=cheats_scatter[k,1]\n",
        "  \n",
        "money, stocks, ms2 = test_deals(tradeXTest, cheats2, 100000.0)\n",
        "print(money)\n",
        "print(stocks)"
      ],
      "execution_count": 63,
      "outputs": [
        {
          "output_type": "stream",
          "name": "stdout",
          "text": [
            "149983.16030547497\n",
            "0\n"
          ]
        }
      ]
    },
    {
      "cell_type": "code",
      "metadata": {
        "colab": {
          "base_uri": "https://localhost:8080/",
          "height": 265
        },
        "id": "qPxbtm7N85EA",
        "outputId": "8d14f0fa-e695-4348-d77a-b87053cdbfe9"
      },
      "source": [
        "# Построим график капитала на читах\n",
        "plt.plot(ms2)\n",
        "plt.show()"
      ],
      "execution_count": 64,
      "outputs": [
        {
          "output_type": "display_data",
          "data": {
            "image/png": "[encoded data removed]",
            "text/plain": [
              "<Figure size 432x288 with 1 Axes>"
            ]
          },
          "metadata": {
            "needs_background": "light"
          }
        }
      ]
    },
    {
      "cell_type": "code",
      "metadata": {
        "id": "CY5Z2PrP7bnE"
      },
      "source": [
        "# -----------------------------\n",
        "# Conv1D = создаем модель\n",
        "# -----------------------------\n",
        "\n",
        "# xTrain.shape[1] - число шагов назад для обучения\n",
        "# xTrain.shape[2] - число столбцов в обучающей выборке\n",
        "  \n",
        "drop = 0.4\n",
        "input = Input(shape=(xTest.shape[1], xTest.shape[2]))\n",
        "x = Flatten()(input)\n",
        "x = RepeatVector(4)(x)\n",
        "x = Conv1D(n_steps*2, 5, padding='same', activation='relu')(x)\n",
        "x = MaxPooling1D(pool_size=2)(x)\n",
        "x = Flatten()(x)\n",
        "x = RepeatVector(4)(x)\n",
        "x = Conv1D(n_steps, 5, padding='same', activation='relu')(x)\n",
        "x = MaxPooling1D(pool_size=2)(x)\n",
        "x = Flatten()(x)\n",
        "x = Dense(n_steps*100, activation='relu')(x)\n",
        "x = Dropout(drop)(x)\n",
        "x = Dense(yTrain.shape[1], activation='sigmoid')(x)\n",
        "model = Model(input, x)\n"
      ],
      "execution_count": 65,
      "outputs": []
    },
    {
      "cell_type": "code",
      "metadata": {
        "id": "0dA4V8s17dWr"
      },
      "source": [
        "def train_nn(model, epochs, verbose):\n",
        "  model.compile(optimizer=Adam(learning_rate = 5e-05),\n",
        "                loss='categorical_crossentropy',\n",
        "                metrics=['accuracy']) \n",
        "\n",
        "  # fit model\n",
        "  history = model.fit(xTrain, yTrain, epochs=epochs, verbose = verbose,\n",
        "                      validation_data=(xTest, yTest))\n",
        "\n",
        "  plt.figure(figsize=(6,4))\n",
        "  plt.plot(history.history['accuracy'], label='accuracy')\n",
        "  plt.plot(history.history['val_accuracy'], label='val_accuracy')\n",
        "  plt.legend()\n",
        "  plt.show()\n",
        "  plt.plot(history.history['loss'], label='loss')\n",
        "  plt.plot(history.history['val_loss'], label='val_loss')\n",
        "  plt.legend()\n",
        "  plt.show()"
      ],
      "execution_count": 29,
      "outputs": []
    },
    {
      "cell_type": "code",
      "metadata": {
        "id": "Oe742TzA7fR4"
      },
      "source": [
        "def calc_deals(model, xTest, yTest):\n",
        "  # цикл для распознавания всех тестовых вариантов и вывода класса\n",
        "  true_answer = 0\n",
        "  true_nonnul_answer=0\n",
        "  nonnul_answer=0\n",
        "  true_nonnul_moves=0\n",
        "  nonnul_moves=0\n",
        "  state = 0\n",
        "  predictions = [] # само предсказание \n",
        "\n",
        "  # учитываем, что 0-й элемент yTest показывает тренд на шаге n_steps\n",
        "  # а применять сделку по нему надо на шаг назад = (n_steps-1)\n",
        "  # т.е. при торговле находясь на 18 шаге мы берем для предсказания\n",
        "  # отсчеты с индексами [0..18] и \"угадав\" тренд который будет далее (на 19 шаге)\n",
        "  # совершаем сделку\n",
        "  deals = [0] * (n_steps-1) # когда купить (1), когда продать (-1), когда держать(0)\n",
        "  for i in range(len(xTest)-n_steps):\n",
        "    x = xTest[i]\n",
        "    x = np.expand_dims(x, axis=0)\n",
        "    prediction = model.predict(x)\n",
        "    prediction = np.argmax(prediction)\n",
        "    predictions.append(prediction)\n",
        "\n",
        "    if prediction == np.argmax(yTest[i]):\n",
        "      true_answer+=1\n",
        "\n",
        "    if prediction != hold_signal_value:\n",
        "      nonnul_answer+=1\n",
        "      if prediction == np.argmax(yTest[i]):\n",
        "        true_nonnul_answer+=1\n",
        "\n",
        "    if np.argmax(yTest[i]) != hold_signal_value:\n",
        "      nonnul_moves+=1\n",
        "      if prediction == np.argmax(yTest[i]):\n",
        "        true_nonnul_moves+=1\n",
        "\n",
        "    state, deal = get_deal(i, prediction, state)\n",
        "    deals.append(deal)\n",
        "\n",
        "  print('Правильных ответов: {:.2f} %'.format(true_answer*100/len(xTest)))\n",
        "  print('Случаи, когда сетка предсказывала наклонный тренд и угадала: {:.2f}% = {:} / {:}'.format(true_nonnul_answer*100/nonnul_answer, true_nonnul_answer, nonnul_answer))\n",
        "  print('Случаи, когда сетка угадала реальный наклонный тренд: {:.2f}% = {:} / {:}'.format(true_nonnul_moves*100/nonnul_moves, true_nonnul_moves, nonnul_moves))\n",
        "  deals_scatter = count_deals(deals)\n",
        "  print(deals_scatter[:5])\n",
        "  return deals_scatter, deals"
      ],
      "execution_count": 61,
      "outputs": []
    },
    {
      "cell_type": "code",
      "metadata": {
        "colab": {
          "base_uri": "https://localhost:8080/",
          "height": 664
        },
        "id": "BPhjduPYLUb_",
        "outputId": "e493be17-a3ff-4e25-94e7-437877e4091c"
      },
      "source": [
        "train_nn(model_conv1, 25, 0)"
      ],
      "execution_count": 31,
      "outputs": [
        {
          "output_type": "display_data",
          "data": {
            "image/png": "[encoded data removed]",
            "text/plain": [
              "<Figure size 432x288 with 1 Axes>"
            ]
          },
          "metadata": {
            "needs_background": "light"
          }
        },
        {
          "output_type": "display_data",
          "data": {
            "image/png": "[encoded data removed]",
            "text/plain": [
              "<Figure size 432x288 with 1 Axes>"
            ]
          },
          "metadata": {
            "needs_background": "light"
          }
        },
        {
          "output_type": "stream",
          "name": "stdout",
          "text": [
            "Правильных ответов: 80.57 %\n",
            "Случаи, когда сетка предсказывала наклонный тренд и угадала: 5.17% = 3 / 58\n",
            "Случаи, когда сетка угадала реальный наклонный тренд: 2.68% = 3 / 112\n",
            "Всего 31 сделок\n",
            "[[  2   1]\n",
            " [  3   2]\n",
            " [ 92   1]\n",
            " [106   2]\n",
            " [169   1]]\n"
          ]
        }
      ]
    },
    {
      "cell_type": "code",
      "metadata": {
        "colab": {
          "base_uri": "https://localhost:8080/"
        },
        "id": "XhXeFGUEaw0B",
        "outputId": "d52d0bbe-4882-4f8d-a856-0e34819bb77b"
      },
      "source": [
        "deals_scatter, deals = calc_deals(model_conv1, xTest, yTest)"
      ],
      "execution_count": 62,
      "outputs": [
        {
          "output_type": "stream",
          "name": "stdout",
          "text": [
            "Правильных ответов: 78.60 %\n",
            "Случаи, когда сетка предсказывала наклонный тренд и угадала: 5.26% = 3 / 57\n",
            "Случаи, когда сетка угадала реальный наклонный тренд: 2.73% = 3 / 110\n",
            "Всего 31 сделок\n",
            "[[ 20   1]\n",
            " [ 21   2]\n",
            " [110   1]\n",
            " [124   2]\n",
            " [187   1]]\n"
          ]
        }
      ]
    },
    {
      "cell_type": "code",
      "metadata": {
        "colab": {
          "base_uri": "https://localhost:8080/",
          "height": 727
        },
        "id": "-4_E7tXlxVNr",
        "outputId": "215a9fdf-615b-4c20-f287-f44a210ce20d"
      },
      "source": [
        "# проведем тестовую торговлю на полученных результатах от сетки\n",
        "plot_deals(prices, deals_scatter, 'Торговля на сетке')\n",
        "\n",
        "# проведем тестовую торговлю на читах\n",
        "deals2 = np.zeros(xTest.shape[0])\n",
        "for i in range(len(deals2)):\n",
        "  for k in range(deals_scatter.shape[0]):\n",
        "    if i==deals_scatter[k,0]:\n",
        "      deals2[i]=deals_scatter[k,1]\n",
        "  \n",
        "money, stocks, ms1 = test_deals(tradeXTest, deals2, 100000.0)\n",
        "print(money)\n",
        "print(stocks)\n",
        "\n",
        "\n"
      ],
      "execution_count": 66,
      "outputs": [
        {
          "output_type": "stream",
          "name": "stderr",
          "text": [
            "/usr/local/lib/python3.7/dist-packages/plotly/graph_objs/_deprecations.py:385: DeprecationWarning:\n",
            "\n",
            "plotly.graph_objs.Line is deprecated.\n",
            "Please replace it with one of the following more specific types\n",
            "  - plotly.graph_objs.scatter.Line\n",
            "  - plotly.graph_objs.layout.shape.Line\n",
            "  - etc.\n",
            "\n",
            "\n"
          ]
        },
        {
          "output_type": "display_data",
          "data": {
            "text/html": [
              "<html>\n",
              "<head><meta charset=\"utf-8\" /></head>\n",
              "<body>\n",
              "    <div>\n",
              "            <script src=\"https://cdnjs.cloudflare.com/ajax/libs/mathjax/2.7.5/MathJax.js?config=TeX-AMS-MML_SVG\"></script><script type=\"text/javascript\">if (window.MathJax) {MathJax.Hub.Config({SVG: {font: \"STIX-Web\"}});}</script>\n",
              "                <script type=\"text/javascript\">window.PlotlyConfig = {MathJaxConfig: 'local'};</script>\n",
              "        <script src=\"https://cdn.plot.ly/plotly-latest.min.js\"></script>    \n",
              "            <div id=\"62b2221a-d08d-4982-b19b-13c029416259\" class=\"plotly-graph-div\" style=\"height:525px; width:100%;\"></div>\n",
              "            <script type=\"text/javascript\">\n",
              "                \n",
              "                    window.PLOTLYENV=window.PLOTLYENV || {};\n",
              "                    \n",
              "                if (document.getElementById(\"62b2221a-d08d-4982-b19b-13c029416259\")) {\n",
              "                    Plotly.newPlot(\n",
              "                        '62b2221a-d08d-4982-b19b-13c029416259',\n",
              "                        [{\"type\": \"scatter\", \"x\": [0, 1, 2, 3, 4, 5, 6, 7, 8, 9, 10, 11, 12, 13, 14, 15, 16, 17, 18, 19, 20, 21, 22, 23, 24, 25, 26, 27, 28, 29, 30, 31, 32, 33, 34, 35, 36, 37, 38, 39, 40, 41, 42, 43, 44, 45, 46, 47, 48, 49, 50, 51, 52, 53, 54, 55, 56, 57, 58, 59, 60, 61, 62, 63, 64, 65, 66, 67, 68, 69, 70, 71, 72, 73, 74, 75, 76, 77, 78, 79, 80, 81, 82, 83, 84, 85, 86, 87, 88, 89, 90, 91, 92, 93, 94, 95, 96, 97, 98, 99, 100, 101, 102, 103, 104, 105, 106, 107, 108, 109, 110, 111, 112, 113, 114, 115, 116, 117, 118, 119, 120, 121, 122, 123, 124, 125, 126, 127, 128, 129, 130, 131, 132, 133, 134, 135, 136, 137, 138, 139, 140, 141, 142, 143, 144, 145, 146, 147, 148, 149, 150, 151, 152, 153, 154, 155, 156, 157, 158, 159, 160, 161, 162, 163, 164, 165, 166, 167, 168, 169, 170, 171, 172, 173, 174, 175, 176, 177, 178, 179, 180, 181, 182, 183, 184, 185, 186, 187, 188, 189, 190, 191, 192, 193, 194, 195, 196, 197, 198, 199, 200, 201, 202, 203, 204, 205, 206, 207, 208, 209, 210, 211, 212, 213, 214, 215, 216, 217, 218, 219, 220, 221, 222, 223, 224, 225, 226, 227, 228, 229, 230, 231, 232, 233, 234, 235, 236, 237, 238, 239, 240, 241, 242, 243, 244, 245, 246, 247, 248, 249, 250, 251, 252, 253, 254, 255, 256, 257, 258, 259, 260, 261, 262, 263, 264, 265, 266, 267, 268, 269, 270, 271, 272, 273, 274, 275, 276, 277, 278, 279, 280, 281, 282, 283, 284, 285, 286, 287, 288, 289, 290, 291, 292, 293, 294, 295, 296, 297, 298, 299, 300, 301, 302, 303, 304, 305, 306, 307, 308, 309, 310, 311, 312, 313, 314, 315, 316, 317, 318, 319, 320, 321, 322, 323, 324, 325, 326, 327, 328, 329, 330, 331, 332, 333, 334, 335, 336, 337, 338, 339, 340, 341, 342, 343, 344, 345, 346, 347, 348, 349, 350, 351, 352, 353, 354, 355, 356, 357, 358, 359, 360, 361, 362, 363, 364, 365, 366, 367, 368, 369, 370, 371, 372, 373, 374, 375, 376, 377, 378, 379, 380, 381, 382, 383, 384, 385, 386, 387, 388, 389, 390, 391, 392, 393, 394, 395, 396, 397, 398, 399, 400, 401, 402, 403, 404, 405, 406, 407, 408, 409, 410, 411, 412, 413, 414, 415, 416, 417, 418, 419, 420, 421, 422, 423, 424, 425, 426, 427, 428, 429, 430, 431, 432, 433, 434, 435, 436, 437, 438, 439, 440, 441, 442, 443, 444, 445, 446, 447, 448, 449, 450, 451, 452, 453, 454, 455, 456, 457, 458, 459, 460, 461, 462, 463, 464, 465, 466, 467, 468, 469, 470, 471, 472, 473, 474, 475, 476, 477, 478, 479, 480, 481, 482, 483, 484, 485, 486, 487, 488, 489, 490, 491, 492, 493, 494, 495, 496, 497, 498, 499, 500, 501, 502, 503, 504, 505, 506, 507, 508, 509, 510, 511, 512, 513, 514, 515, 516, 517, 518, 519, 520, 521, 522, 523, 524, 525, 526, 527, 528, 529, 530, 531, 532, 533, 534, 535, 536, 537, 538, 539, 540, 541, 542, 543, 544, 545, 546, 547, 548, 549, 550, 551, 552, 553, 554, 555, 556, 557, 558, 559, 560, 561, 562, 563, 564, 565, 566, 567, 568, 569, 570, 571, 572, 573, 574, 575, 576, 577, 578, 579, 580, 581, 582, 583, 584, 585, 586, 587, 588, 589, 590, 591, 592, 593, 594, 595, 596, 597, 598, 599, 600, 601, 602, 603, 604, 605, 606, 607, 608, 609, 610, 611, 612, 613, 614, 615, 616, 617, 618, 619, 620, 621, 622, 623, 624, 625, 626, 627, 628, 629, 630, 631, 632, 633, 634, 635, 636, 637, 638, 639, 640, 641, 642, 643, 644, 645, 646, 647, 648, 649, 650, 651, 652, 653, 654, 655, 656, 657, 658, 659, 660, 661, 662, 663, 664, 665, 666, 667, 668, 669, 670, 671, 672, 673, 674, 675, 676, 677, 678, 679, 680, 681, 682, 683, 684, 685, 686, 687, 688, 689, 690, 691, 692, 693, 694, 695, 696, 697, 698, 699, 700, 701, 702, 703, 704, 705, 706, 707, 708, 709, 710, 711, 712, 713, 714, 715, 716, 717, 718, 719, 720, 721, 722, 723, 724, 725, 726, 727, 728, 729, 730, 731, 732, 733, 734, 735, 736, 737, 738, 739, 740, 741, 742, 743, 744, 745, 746, 747, 748, 749, 750, 751, 752, 753, 754, 755, 756, 757, 758, 759, 760, 761, 762, 763, 764, 765, 766, 767, 768, 769, 770, 771, 772, 773, 774, 775, 776, 777, 778, 779, 780, 781, 782, 783, 784, 785, 786, 787, 788, 789, 790, 791, 792, 793, 794, 795, 796, 797, 798, 799, 800, 801, 802, 803, 804, 805, 806, 807, 808, 809, 810, 811, 812], \"y\": [0.012824, 0.01285, 0.012846000000000002, 0.012858000000000001, 0.0129, 0.012908000000000001, 0.01289, 0.012804, 0.012744, 0.012764, 0.01277, 0.012762, 0.012736, 0.01281, 0.012806, 0.01273, 0.012742, 0.012724, 0.012738, 0.01277, 0.01277, 0.0127, 0.012796, 0.012773999999999999, 0.012778, 0.012798, 0.0128, 0.012812, 0.012813999999999999, 0.012802000000000001, 0.012834, 0.01285, 0.012790000000000001, 0.012847999999999998, 0.01286, 0.01286, 0.012846000000000002, 0.012842, 0.012832, 0.012819999999999998, 0.01284, 0.01275, 0.012752, 0.012778, 0.012778, 0.012778, 0.012752, 0.012776000000000001, 0.012813999999999999, 0.0128, 0.012787999999999999, 0.012794, 0.012792, 0.012758, 0.012740000000000001, 0.012742, 0.012742, 0.01272, 0.012738, 0.012787999999999999, 0.012759999999999999, 0.012764, 0.01278, 0.0128, 0.012804, 0.012794, 0.01277, 0.012796, 0.012766, 0.01278, 0.012759999999999999, 0.012759999999999999, 0.012782, 0.012766, 0.012758, 0.01275, 0.012772, 0.012762, 0.01273, 0.012745999999999999, 0.012778, 0.01275, 0.012756, 0.012734, 0.01273, 0.01273, 0.012736, 0.012718, 0.012731999999999999, 0.012740000000000001, 0.012758, 0.01275, 0.012782, 0.012762, 0.012786, 0.012764, 0.012745999999999999, 0.012772, 0.01277, 0.012759999999999999, 0.01275, 0.012758, 0.012631999999999999, 0.012596, 0.012622, 0.01264, 0.012642, 0.012643999999999999, 0.012626, 0.012622, 0.012608, 0.01255, 0.01253, 0.01255, 0.012528000000000001, 0.01253, 0.01253, 0.012528000000000001, 0.012484, 0.012498, 0.012490000000000001, 0.01258, 0.012512, 0.012564, 0.012522, 0.012558, 0.012492, 0.012486, 0.012484, 0.01248, 0.012523999999999999, 0.012554000000000001, 0.012522, 0.012523999999999999, 0.01258, 0.012576, 0.012572, 0.012578, 0.012574, 0.012565999999999999, 0.012551999999999999, 0.01251, 0.012408, 0.01243, 0.01242, 0.012422, 0.012418, 0.012406, 0.012329999999999999, 0.012352, 0.01235, 0.012484, 0.012462, 0.01247, 0.012406, 0.012402, 0.012322, 0.012522, 0.012518000000000001, 0.012506, 0.012504000000000001, 0.012514, 0.012528000000000001, 0.012522, 0.012534, 0.012536, 0.012523999999999999, 0.012431999999999999, 0.012440000000000001, 0.0124, 0.012388, 0.0124, 0.012404, 0.012394, 0.012394, 0.01243, 0.01235, 0.01235, 0.012329999999999999, 0.012320000000000001, 0.012304, 0.012315999999999999, 0.012332, 0.012326, 0.012246, 0.012222, 0.012222, 0.012202, 0.012214000000000001, 0.012212, 0.012204000000000001, 0.012172, 0.01218, 0.011290000000000001, 0.011266, 0.0113, 0.011288, 0.011290000000000001, 0.011284, 0.011245999999999999, 0.01123, 0.011224, 0.01124, 0.011179999999999999, 0.01115, 0.011182, 0.011192, 0.011179999999999999, 0.011138, 0.011064000000000001, 0.01111, 0.011094, 0.011082, 0.011016, 0.011016, 0.011018, 0.011008, 0.011040000000000001, 0.011018, 0.011014, 0.011018, 0.011016, 0.011042, 0.011032, 0.011042, 0.011016, 0.010988, 0.010920000000000001, 0.010914, 0.010926, 0.010946, 0.010936, 0.010934000000000001, 0.010918, 0.01091, 0.010904, 0.0109, 0.0109, 0.010978, 0.011042, 0.011064000000000001, 0.01107, 0.011090000000000001, 0.011092, 0.011098, 0.011098, 0.011090000000000001, 0.0111, 0.011108, 0.01112, 0.01113, 0.01114, 0.01116, 0.011165999999999999, 0.011172, 0.01115, 0.011176, 0.011170000000000001, 0.011176, 0.011144, 0.0111, 0.011078, 0.011096, 0.011072, 0.011094, 0.011086, 0.010998, 0.011009999999999999, 0.010981999999999999, 0.01097, 0.01097, 0.01095, 0.010948000000000001, 0.01096, 0.011008, 0.010984, 0.010998, 0.010962000000000001, 0.010952, 0.01094, 0.010956, 0.01095, 0.010926, 0.010936, 0.01095, 0.01094, 0.010988, 0.0112, 0.01123, 0.011306, 0.011306, 0.011328, 0.011098, 0.011044, 0.0111, 0.011059999999999999, 0.010995999999999999, 0.011016, 0.011002, 0.010978, 0.010920000000000001, 0.01108, 0.011073999999999999, 0.01108, 0.011054000000000001, 0.01103, 0.01103, 0.01103, 0.011086, 0.011045999999999999, 0.011108, 0.01113, 0.011059999999999999, 0.011058, 0.011022, 0.01105, 0.011058, 0.011054000000000001, 0.011059999999999999, 0.011000000000000001, 0.011023999999999999, 0.011045999999999999, 0.011026000000000001, 0.011006, 0.011009999999999999, 0.010995999999999999, 0.010998, 0.011000000000000001, 0.011000000000000001, 0.010992, 0.011023999999999999, 0.011048, 0.01103, 0.011044, 0.011012000000000001, 0.01102, 0.011000000000000001, 0.010998, 0.011004, 0.011022, 0.01103, 0.011052, 0.011056, 0.011022, 0.011022, 0.011016, 0.011028, 0.01093, 0.010966, 0.010994, 0.011023999999999999, 0.011014, 0.011234000000000001, 0.011244, 0.011226, 0.011401999999999999, 0.011479999999999999, 0.011452, 0.011508, 0.011492, 0.011559999999999999, 0.011508, 0.01151, 0.011594, 0.011642, 0.011574, 0.01157, 0.011548000000000001, 0.011592, 0.011623999999999999, 0.01163, 0.011598, 0.011556, 0.011493999999999999, 0.011415999999999999, 0.011308, 0.01122, 0.011236, 0.011248000000000001, 0.011238, 0.011234000000000001, 0.011222, 0.011488, 0.0115, 0.011478, 0.011488, 0.011493999999999999, 0.011492, 0.011482, 0.011479999999999999, 0.011476, 0.011476, 0.011412, 0.011426, 0.011418000000000001, 0.011415999999999999, 0.011406, 0.011362, 0.011384, 0.0114, 0.011478, 0.011472, 0.011458, 0.011452, 0.011396, 0.01141, 0.011448, 0.011418000000000001, 0.01145, 0.011479999999999999, 0.011456000000000001, 0.011606, 0.011595999999999999, 0.011668000000000001, 0.01165, 0.011698, 0.011718000000000001, 0.011715999999999999, 0.0117, 0.011612, 0.011654000000000001, 0.01171, 0.0117, 0.01175, 0.011684, 0.011666, 0.011674, 0.01172, 0.011708, 0.011706, 0.011704, 0.011698, 0.011646, 0.01166, 0.011654000000000001, 0.01168, 0.011714, 0.011742, 0.01167, 0.011687999999999999, 0.011692000000000001, 0.011698, 0.011698, 0.011686, 0.011687999999999999, 0.011708, 0.011729999999999999, 0.011704, 0.011726, 0.011728, 0.011708, 0.011694, 0.011682, 0.011687999999999999, 0.011726, 0.011687999999999999, 0.0117, 0.011706, 0.011706, 0.011706, 0.011687999999999999, 0.01168, 0.011696, 0.011644, 0.011636, 0.01162, 0.011578, 0.011608, 0.011618, 0.011616, 0.011612, 0.01163, 0.011594, 0.011556, 0.011618, 0.01162, 0.011664, 0.011656, 0.011628, 0.011686, 0.011623999999999999, 0.011658, 0.011646, 0.011674, 0.011654000000000001, 0.011658, 0.01165, 0.011658, 0.011658, 0.01169, 0.011656, 0.01165, 0.011674, 0.011664, 0.011684, 0.011687999999999999, 0.011694, 0.01166, 0.01168, 0.011496, 0.0115, 0.011470000000000001, 0.011514, 0.011472, 0.011493999999999999, 0.011504, 0.011538, 0.011466, 0.011462, 0.01141, 0.011442, 0.011414, 0.011428, 0.011458, 0.011464, 0.011446, 0.01143, 0.011502, 0.011526, 0.011516, 0.01152, 0.01152, 0.011514, 0.011496, 0.01151, 0.011522, 0.011514, 0.011512, 0.01151, 0.011522, 0.011538, 0.01154, 0.011531999999999999, 0.01153, 0.01151, 0.011522, 0.011522, 0.01153, 0.0116, 0.011623999999999999, 0.011616, 0.01154, 0.011558, 0.011609999999999999, 0.011566, 0.011566, 0.011548000000000001, 0.011558, 0.011531999999999999, 0.01149, 0.011496, 0.011498, 0.011476, 0.011514, 0.01149, 0.011496, 0.01151, 0.011492, 0.011488, 0.011476, 0.011528, 0.011528, 0.011496, 0.011474, 0.011504, 0.01151, 0.01151, 0.011508, 0.0115, 0.011502, 0.011472, 0.011484000000000001, 0.011468, 0.011493999999999999, 0.011482, 0.011488, 0.011470000000000001, 0.011468, 0.011468, 0.011479999999999999, 0.011458, 0.011458, 0.01144, 0.01142, 0.011404000000000001, 0.01142, 0.011428, 0.011432, 0.011479999999999999, 0.011464, 0.011558, 0.011559999999999999, 0.011715999999999999, 0.01172, 0.011701999999999999, 0.011706, 0.0117, 0.011722, 0.011590000000000001, 0.011714, 0.011816, 0.01182, 0.011859999999999999, 0.01185, 0.011852, 0.01185, 0.011856, 0.011940000000000001, 0.012001999999999999, 0.012008, 0.012001999999999999, 0.012001999999999999, 0.012026, 0.01198, 0.011936, 0.011974, 0.012012, 0.011928, 0.011828, 0.011892, 0.011884, 0.011926, 0.011918000000000002, 0.011902, 0.011914, 0.01179, 0.011770000000000001, 0.01182, 0.011822, 0.01183, 0.011859999999999999, 0.011786, 0.011770000000000001, 0.01185, 0.011712, 0.011648, 0.011662, 0.011684, 0.011774, 0.011742, 0.011706, 0.011696, 0.0117, 0.011784000000000001, 0.011781999999999999, 0.011742, 0.011708, 0.011684, 0.011640000000000001, 0.011662, 0.011538, 0.011598, 0.011479999999999999, 0.011476, 0.01149, 0.011568, 0.011496, 0.011482, 0.011486, 0.01145, 0.0115, 0.011482, 0.01137, 0.011396, 0.011415999999999999, 0.0113, 0.0113, 0.011198, 0.011193999999999999, 0.0112, 0.011302, 0.011268, 0.011298, 0.011298, 0.011316, 0.011294, 0.01126, 0.01126, 0.011196, 0.011274, 0.011262000000000001, 0.011182, 0.011136, 0.011094, 0.011059999999999999, 0.01107, 0.011082, 0.011094, 0.011144, 0.0111, 0.011144, 0.011073999999999999, 0.011094, 0.011086, 0.011018, 0.011048, 0.011000000000000001, 0.011108, 0.011000000000000001, 0.011000000000000001, 0.011000000000000001, 0.011000000000000001, 0.010981999999999999, 0.01099, 0.010998, 0.01096, 0.01111, 0.011006, 0.010994, 0.011000000000000001, 0.010998, 0.011000000000000001, 0.010995999999999999, 0.010994, 0.011000000000000001, 0.011000000000000001, 0.011000000000000001, 0.011000000000000001, 0.011000000000000001, 0.011000000000000001, 0.011000000000000001, 0.010995999999999999, 0.010974, 0.010981999999999999, 0.011036, 0.011018, 0.011034, 0.011018, 0.011006, 0.011000000000000001, 0.010998, 0.011014, 0.011016, 0.011006, 0.010971999999999999, 0.011040000000000001, 0.011008, 0.010978, 0.010944, 0.01093, 0.01095, 0.010948000000000001, 0.011000000000000001, 0.010978, 0.010884, 0.010896, 0.010896, 0.010896, 0.010946, 0.010964, 0.010978, 0.010978, 0.0109, 0.010894, 0.010876, 0.010879999999999999, 0.01089, 0.0109, 0.010808, 0.010848, 0.010838, 0.01084, 0.010868000000000001, 0.0108, 0.0108, 0.010798, 0.0108, 0.01075, 0.01075, 0.010698000000000001, 0.010695999999999999, 0.0107, 0.010698000000000001, 0.010698000000000001, 0.0107, 0.010759999999999999, 0.010716, 0.01077, 0.0107, 0.0107, 0.0107, 0.0107, 0.0107, 0.0107, 0.010698000000000001, 0.01067, 0.010688, 0.010702, 0.01085, 0.0109, 0.010902, 0.010882, 0.01086, 0.01087, 0.010968, 0.010936, 0.011068000000000001, 0.011078, 0.011094, 0.01113, 0.011132, 0.01114, 0.0112, 0.011196, 0.011188, 0.011162, 0.011122, 0.011066, 0.011036, 0.011082, 0.011073999999999999, 0.010981999999999999, 0.011016]}, {\"marker\": {\"color\": [\"green\", \"red\", \"green\", \"red\", \"green\", \"red\", \"green\", \"red\", \"green\", \"red\", \"green\", \"red\", \"green\", \"red\", \"green\", \"red\", \"green\", \"red\", \"green\", \"red\", \"green\", \"red\", \"green\", \"red\", \"green\", \"red\", \"green\", \"red\", \"green\", \"red\", \"green\"], \"size\": 12, \"symbol\": [\"triangle-up\", \"triangle-down\", \"triangle-up\", \"triangle-down\", \"triangle-up\", \"triangle-down\", \"triangle-up\", \"triangle-down\", \"triangle-up\", \"triangle-down\", \"triangle-up\", \"triangle-down\", \"triangle-up\", \"triangle-down\", \"triangle-up\", \"triangle-down\", \"triangle-up\", \"triangle-down\", \"triangle-up\", \"triangle-down\", \"triangle-up\", \"triangle-down\", \"triangle-up\", \"triangle-down\", \"triangle-up\", \"triangle-down\", \"triangle-up\", \"triangle-down\", \"triangle-up\", \"triangle-down\", \"triangle-up\"]}, \"mode\": \"markers\", \"type\": \"scatter\", \"x\": [20, 21, 110, 124, 187, 189, 197, 200, 209, 216, 327, 374, 375, 384, 472, 561, 598, 608, 625, 651, 662, 663, 666, 669, 671, 675, 676, 681, 683, 753, 811], \"y\": [0.01277, 0.0127, 0.012608, 0.012522, 0.012202, 0.012212, 0.011290000000000001, 0.01123, 0.011064000000000001, 0.011008, 0.011000000000000001, 0.011415999999999999, 0.011308, 0.011478, 0.011594, 0.011528, 0.011590000000000001, 0.012001999999999999, 0.01179, 0.011598, 0.01137, 0.011396, 0.0113, 0.0112, 0.011268, 0.011294, 0.01126, 0.011182, 0.011094, 0.010894, 0.010981999999999999]}],\n",
              "                        {\"template\": {\"data\": {\"bar\": [{\"error_x\": {\"color\": \"#2a3f5f\"}, \"error_y\": {\"color\": \"#2a3f5f\"}, \"marker\": {\"line\": {\"color\": \"#E5ECF6\", \"width\": 0.5}}, \"type\": \"bar\"}], \"barpolar\": [{\"marker\": {\"line\": {\"color\": \"#E5ECF6\", \"width\": 0.5}}, \"type\": \"barpolar\"}], \"carpet\": [{\"aaxis\": {\"endlinecolor\": \"#2a3f5f\", \"gridcolor\": \"white\", \"linecolor\": \"white\", \"minorgridcolor\": \"white\", \"startlinecolor\": \"#2a3f5f\"}, \"baxis\": {\"endlinecolor\": \"#2a3f5f\", \"gridcolor\": \"white\", \"linecolor\": \"white\", \"minorgridcolor\": \"white\", \"startlinecolor\": \"#2a3f5f\"}, \"type\": \"carpet\"}], \"choropleth\": [{\"colorbar\": {\"outlinewidth\": 0, \"ticks\": \"\"}, \"type\": \"choropleth\"}], \"contour\": [{\"colorbar\": {\"outlinewidth\": 0, \"ticks\": \"\"}, \"colorscale\": [[0.0, \"#0d0887\"], [0.1111111111111111, \"#46039f\"], [0.2222222222222222, \"#7201a8\"], [0.3333333333333333, \"#9c179e\"], [0.4444444444444444, \"#bd3786\"], [0.5555555555555556, \"#d8576b\"], [0.6666666666666666, \"#ed7953\"], [0.7777777777777778, \"#fb9f3a\"], [0.8888888888888888, \"#fdca26\"], [1.0, \"#f0f921\"]], \"type\": \"contour\"}], \"contourcarpet\": [{\"colorbar\": {\"outlinewidth\": 0, \"ticks\": \"\"}, \"type\": \"contourcarpet\"}], \"heatmap\": [{\"colorbar\": {\"outlinewidth\": 0, \"ticks\": \"\"}, \"colorscale\": [[0.0, \"#0d0887\"], [0.1111111111111111, \"#46039f\"], [0.2222222222222222, \"#7201a8\"], [0.3333333333333333, \"#9c179e\"], [0.4444444444444444, \"#bd3786\"], [0.5555555555555556, \"#d8576b\"], [0.6666666666666666, \"#ed7953\"], [0.7777777777777778, \"#fb9f3a\"], [0.8888888888888888, \"#fdca26\"], [1.0, \"#f0f921\"]], \"type\": \"heatmap\"}], \"heatmapgl\": [{\"colorbar\": {\"outlinewidth\": 0, \"ticks\": \"\"}, \"colorscale\": [[0.0, \"#0d0887\"], [0.1111111111111111, \"#46039f\"], [0.2222222222222222, \"#7201a8\"], [0.3333333333333333, \"#9c179e\"], [0.4444444444444444, \"#bd3786\"], [0.5555555555555556, \"#d8576b\"], [0.6666666666666666, \"#ed7953\"], [0.7777777777777778, \"#fb9f3a\"], [0.8888888888888888, \"#fdca26\"], [1.0, \"#f0f921\"]], \"type\": \"heatmapgl\"}], \"histogram\": [{\"marker\": {\"colorbar\": {\"outlinewidth\": 0, \"ticks\": \"\"}}, \"type\": \"histogram\"}], \"histogram2d\": [{\"colorbar\": {\"outlinewidth\": 0, \"ticks\": \"\"}, \"colorscale\": [[0.0, \"#0d0887\"], [0.1111111111111111, \"#46039f\"], [0.2222222222222222, \"#7201a8\"], [0.3333333333333333, \"#9c179e\"], [0.4444444444444444, \"#bd3786\"], [0.5555555555555556, \"#d8576b\"], [0.6666666666666666, \"#ed7953\"], [0.7777777777777778, \"#fb9f3a\"], [0.8888888888888888, \"#fdca26\"], [1.0, \"#f0f921\"]], \"type\": \"histogram2d\"}], \"histogram2dcontour\": [{\"colorbar\": {\"outlinewidth\": 0, \"ticks\": \"\"}, \"colorscale\": [[0.0, \"#0d0887\"], [0.1111111111111111, \"#46039f\"], [0.2222222222222222, \"#7201a8\"], [0.3333333333333333, \"#9c179e\"], [0.4444444444444444, \"#bd3786\"], [0.5555555555555556, \"#d8576b\"], [0.6666666666666666, \"#ed7953\"], [0.7777777777777778, \"#fb9f3a\"], [0.8888888888888888, \"#fdca26\"], [1.0, \"#f0f921\"]], \"type\": \"histogram2dcontour\"}], \"mesh3d\": [{\"colorbar\": {\"outlinewidth\": 0, \"ticks\": \"\"}, \"type\": \"mesh3d\"}], \"parcoords\": [{\"line\": {\"colorbar\": {\"outlinewidth\": 0, \"ticks\": \"\"}}, \"type\": \"parcoords\"}], \"pie\": [{\"automargin\": true, \"type\": \"pie\"}], \"scatter\": [{\"marker\": {\"colorbar\": {\"outlinewidth\": 0, \"ticks\": \"\"}}, \"type\": \"scatter\"}], \"scatter3d\": [{\"line\": {\"colorbar\": {\"outlinewidth\": 0, \"ticks\": \"\"}}, \"marker\": {\"colorbar\": {\"outlinewidth\": 0, \"ticks\": \"\"}}, \"type\": \"scatter3d\"}], \"scattercarpet\": [{\"marker\": {\"colorbar\": {\"outlinewidth\": 0, \"ticks\": \"\"}}, \"type\": \"scattercarpet\"}], \"scattergeo\": [{\"marker\": {\"colorbar\": {\"outlinewidth\": 0, \"ticks\": \"\"}}, \"type\": \"scattergeo\"}], \"scattergl\": [{\"marker\": {\"colorbar\": {\"outlinewidth\": 0, \"ticks\": \"\"}}, \"type\": \"scattergl\"}], \"scattermapbox\": [{\"marker\": {\"colorbar\": {\"outlinewidth\": 0, \"ticks\": \"\"}}, \"type\": \"scattermapbox\"}], \"scatterpolar\": [{\"marker\": {\"colorbar\": {\"outlinewidth\": 0, \"ticks\": \"\"}}, \"type\": \"scatterpolar\"}], \"scatterpolargl\": [{\"marker\": {\"colorbar\": {\"outlinewidth\": 0, \"ticks\": \"\"}}, \"type\": \"scatterpolargl\"}], \"scatterternary\": [{\"marker\": {\"colorbar\": {\"outlinewidth\": 0, \"ticks\": \"\"}}, \"type\": \"scatterternary\"}], \"surface\": [{\"colorbar\": {\"outlinewidth\": 0, \"ticks\": \"\"}, \"colorscale\": [[0.0, \"#0d0887\"], [0.1111111111111111, \"#46039f\"], [0.2222222222222222, \"#7201a8\"], [0.3333333333333333, \"#9c179e\"], [0.4444444444444444, \"#bd3786\"], [0.5555555555555556, \"#d8576b\"], [0.6666666666666666, \"#ed7953\"], [0.7777777777777778, \"#fb9f3a\"], [0.8888888888888888, \"#fdca26\"], [1.0, \"#f0f921\"]], \"type\": \"surface\"}], \"table\": [{\"cells\": {\"fill\": {\"color\": \"#EBF0F8\"}, \"line\": {\"color\": \"white\"}}, \"header\": {\"fill\": {\"color\": \"#C8D4E3\"}, \"line\": {\"color\": \"white\"}}, \"type\": \"table\"}]}, \"layout\": {\"annotationdefaults\": {\"arrowcolor\": \"#2a3f5f\", \"arrowhead\": 0, \"arrowwidth\": 1}, \"coloraxis\": {\"colorbar\": {\"outlinewidth\": 0, \"ticks\": \"\"}}, \"colorscale\": {\"diverging\": [[0, \"#8e0152\"], [0.1, \"#c51b7d\"], [0.2, \"#de77ae\"], [0.3, \"#f1b6da\"], [0.4, \"#fde0ef\"], [0.5, \"#f7f7f7\"], [0.6, \"#e6f5d0\"], [0.7, \"#b8e186\"], [0.8, \"#7fbc41\"], [0.9, \"#4d9221\"], [1, \"#276419\"]], \"sequential\": [[0.0, \"#0d0887\"], [0.1111111111111111, \"#46039f\"], [0.2222222222222222, \"#7201a8\"], [0.3333333333333333, \"#9c179e\"], [0.4444444444444444, \"#bd3786\"], [0.5555555555555556, \"#d8576b\"], [0.6666666666666666, \"#ed7953\"], [0.7777777777777778, \"#fb9f3a\"], [0.8888888888888888, \"#fdca26\"], [1.0, \"#f0f921\"]], \"sequentialminus\": [[0.0, \"#0d0887\"], [0.1111111111111111, \"#46039f\"], [0.2222222222222222, \"#7201a8\"], [0.3333333333333333, \"#9c179e\"], [0.4444444444444444, \"#bd3786\"], [0.5555555555555556, \"#d8576b\"], [0.6666666666666666, \"#ed7953\"], [0.7777777777777778, \"#fb9f3a\"], [0.8888888888888888, \"#fdca26\"], [1.0, \"#f0f921\"]]}, \"colorway\": [\"#636efa\", \"#EF553B\", \"#00cc96\", \"#ab63fa\", \"#FFA15A\", \"#19d3f3\", \"#FF6692\", \"#B6E880\", \"#FF97FF\", \"#FECB52\"], \"font\": {\"color\": \"#2a3f5f\"}, \"geo\": {\"bgcolor\": \"white\", \"lakecolor\": \"white\", \"landcolor\": \"#E5ECF6\", \"showlakes\": true, \"showland\": true, \"subunitcolor\": \"white\"}, \"hoverlabel\": {\"align\": \"left\"}, \"hovermode\": \"closest\", \"mapbox\": {\"style\": \"light\"}, \"paper_bgcolor\": \"white\", \"plot_bgcolor\": \"#E5ECF6\", \"polar\": {\"angularaxis\": {\"gridcolor\": \"white\", \"linecolor\": \"white\", \"ticks\": \"\"}, \"bgcolor\": \"#E5ECF6\", \"radialaxis\": {\"gridcolor\": \"white\", \"linecolor\": \"white\", \"ticks\": \"\"}}, \"scene\": {\"xaxis\": {\"backgroundcolor\": \"#E5ECF6\", \"gridcolor\": \"white\", \"gridwidth\": 2, \"linecolor\": \"white\", \"showbackground\": true, \"ticks\": \"\", \"zerolinecolor\": \"white\"}, \"yaxis\": {\"backgroundcolor\": \"#E5ECF6\", \"gridcolor\": \"white\", \"gridwidth\": 2, \"linecolor\": \"white\", \"showbackground\": true, \"ticks\": \"\", \"zerolinecolor\": \"white\"}, \"zaxis\": {\"backgroundcolor\": \"#E5ECF6\", \"gridcolor\": \"white\", \"gridwidth\": 2, \"linecolor\": \"white\", \"showbackground\": true, \"ticks\": \"\", \"zerolinecolor\": \"white\"}}, \"shapedefaults\": {\"line\": {\"color\": \"#2a3f5f\"}}, \"ternary\": {\"aaxis\": {\"gridcolor\": \"white\", \"linecolor\": \"white\", \"ticks\": \"\"}, \"baxis\": {\"gridcolor\": \"white\", \"linecolor\": \"white\", \"ticks\": \"\"}, \"bgcolor\": \"#E5ECF6\", \"caxis\": {\"gridcolor\": \"white\", \"linecolor\": \"white\", \"ticks\": \"\"}}, \"title\": {\"x\": 0.05}, \"xaxis\": {\"automargin\": true, \"gridcolor\": \"white\", \"linecolor\": \"white\", \"ticks\": \"\", \"title\": {\"standoff\": 15}, \"zerolinecolor\": \"white\", \"zerolinewidth\": 2}, \"yaxis\": {\"automargin\": true, \"gridcolor\": \"white\", \"linecolor\": \"white\", \"ticks\": \"\", \"title\": {\"standoff\": 15}, \"zerolinecolor\": \"white\", \"zerolinewidth\": 2}}}},\n",
              "                        {\"responsive\": true}\n",
              "                    ).then(function(){\n",
              "                            \n",
              "var gd = document.getElementById('62b2221a-d08d-4982-b19b-13c029416259');\n",
              "var x = new MutationObserver(function (mutations, observer) {{\n",
              "        var display = window.getComputedStyle(gd).display;\n",
              "        if (!display || display === 'none') {{\n",
              "            console.log([gd, 'removed!']);\n",
              "            Plotly.purge(gd);\n",
              "            observer.disconnect();\n",
              "        }}\n",
              "}});\n",
              "\n",
              "// Listen for the removal of the full notebook cells\n",
              "var notebookContainer = gd.closest('#notebook-container');\n",
              "if (notebookContainer) {{\n",
              "    x.observe(notebookContainer, {childList: true});\n",
              "}}\n",
              "\n",
              "// Listen for the clearing of the current output cell\n",
              "var outputEl = gd.closest('.output');\n",
              "if (outputEl) {{\n",
              "    x.observe(outputEl, {childList: true});\n",
              "}}\n",
              "\n",
              "                        })\n",
              "                };\n",
              "                \n",
              "            </script>\n",
              "        </div>\n",
              "</body>\n",
              "</html>"
            ]
          },
          "metadata": {}
        },
        {
          "output_type": "stream",
          "name": "stdout",
          "text": [
            "101670.58302867408\n",
            "0\n"
          ]
        }
      ]
    },
    {
      "cell_type": "code",
      "metadata": {
        "colab": {
          "base_uri": "https://localhost:8080/",
          "height": 265
        },
        "id": "U2E5LX6AztCw",
        "outputId": "ff6c5a35-4e87-41eb-fd5f-58d48706bd69"
      },
      "source": [
        "# Построим график капитала на предсказаниях сетки\n",
        "plt.plot(ms1)\n",
        "plt.show()"
      ],
      "execution_count": 67,
      "outputs": [
        {
          "output_type": "display_data",
          "data": {
            "image/png": "[encoded data removed]",
            "text/plain": [
              "<Figure size 432x288 with 1 Axes>"
            ]
          },
          "metadata": {
            "needs_background": "light"
          }
        }
      ]
    },
    {
      "cell_type": "markdown",
      "metadata": {
        "id": "-fiifNsX_pJT"
      },
      "source": [
        "Ужасная торговля. За два года заработал 1670 рублей сверх 100 тысяч капитала. Сетка плохо предсказывает тренды. Лучше всего у нее получается предсказывать нудевой тренд, но толку в этом нет. Надо экспериментировать. И разобраться как работает торгующая функция из терры, там где-то ошибка, и она отдает слишком хорошие результаты при плохой игре\n",
        "\n",
        "Сравни графики сделаок на терре и мой. Обрати внимание что на моем во второй половине графика очень много мусорных сделок, а у терры их нет. Пойми почему так? Ведь сетка одна и та же и вход у нее один и тот же. Может терра что-то сглаживает???"
      ]
    },
    {
      "cell_type": "markdown",
      "metadata": {
        "id": "fgd2isaM6-3Z"
      },
      "source": [
        "#Попробуем код из терры"
      ]
    },
    {
      "cell_type": "code",
      "metadata": {
        "id": "gSXlxLC-7BkN"
      },
      "source": [
        "# функция проверки нейросети, торгует нейросетью на деньги\n",
        "# Model: вход - \n",
        "def trading(model, x_test, xScaler):\n",
        "  returns = pd.DataFrame()\n",
        "  statement = 0 #  {0:держим кэш, 1:в длинной позиции, 2:в короткой позиции}\n",
        "  stock = 0.   # Число акций на руках\n",
        "  cash = 100000.   # Стартовая сумма капитала\n",
        "\n",
        "  # inv_capital - вероятно, кол-во денег в акциях, на момент покупки\n",
        "  # -----------------------------------------\n",
        "\n",
        "  for i in range(len(x_test)):   # Выбираю пример\n",
        "    x = x_test[i]\n",
        "    x = np.expand_dims(x, axis=0)\n",
        "    prediction = model.predict(x) # Распознаём наш пример  == {0:stay, 1:up, 2:down}\n",
        "    signal = np.argmax(prediction) # Получаем индекс самого большого элемента (это итоговая цифра)\n",
        "    close = xScaler.inverse_transform(x_test[i])[-3][0] # опрелеяем текущую цену, подаваемую в нейронку\n",
        "\n",
        "    if statement == 0  and  signal == 1:## если мы в кэше и цена будет расти то \n",
        "      statement = 1 # идем в длинную позицию (то есть покупаем, чтобы потом продать)\n",
        "      capital = cash//close * close + cash - cash//close * close  # ЭТО ЧТО ЗА БРЕД??????\n",
        "      # TODO формула выше сокращается до capital = cash\n",
        "      \n",
        "      inv_capital = cash//close * close # сколько денег потратили на покупку акций\n",
        "\n",
        "      line = pd.DataFrame({'statement':[0], 'signal':[signal], 'close':[close],'stock':[cash//close],  'deal_prise':[close],\n",
        "                            'long':[close*0.9], 'short':[0],\n",
        "                          'inv_capital':[inv_capital], 'cash':[cash - cash//close * close],\n",
        "                          'capital':[capital], 'ret(i)':[0] })\n",
        "      returns = returns.append(line, ignore_index=True)\n",
        "      continue\n",
        "\n",
        "    elif statement == 0  and  signal == 2: ## если мы в кэше и цена будет падать то\n",
        "      statement = 2 # идем в короткую поззицию (то есть продаем, чтобы потом купить - здесь будет комиссия брокера за интрадэй)\n",
        "      stock = -(cash//close)  # имеем отрицательное кол-во акций\n",
        "      inv_capital = -close*stock  # деньги в акциях все равно положительные\n",
        "\n",
        "      line = pd.DataFrame({'statement':[0], 'signal':[signal], 'close':[close], 'stock':[stock], 'deal_prise':[close],\n",
        "                            'long':[0], 'short':[close*1.1],\n",
        "                          'inv_capital':[inv_capital],  'cash':[cash - inv_capital], \n",
        "                          'capital':[cash], 'ret(i)':[0] })\n",
        "      returns = returns.append(line, ignore_index=True)\n",
        "      continue\n",
        "      \n",
        "    elif statement == 0  and  signal == 0:## если мы в кэше, и явного сигнала нет, то ничего не делаем\n",
        "      line = pd.DataFrame({'statement':[statement], 'signal':[signal], 'close':[close],'stock':[0],  'deal_prise':[0],\n",
        "                            'long':[0], 'short':[0],\n",
        "                          'inv_capital':[0], 'cash':[cash],\n",
        "                          'capital':[cash], 'ret(i)':[0] })\n",
        "      returns = returns.append(line, ignore_index=True)\n",
        "      continue\n",
        "      \n",
        "    elif statement == 2  and  signal == 1: ## если мы в короткой позиции, и цена будет расти\n",
        "      statement = 1 # TODO понять это - переходим в длинную позицию что-ли? это как?\n",
        "      ret = (close-returns.iloc[i-1][4])*stock # ret - сколько денег получим с закрытия позиции, \n",
        "      # умножаем кол-во акций на разницу между текущей ценой и ценой последней сделки (то есть ценой открытия шорт-позиции)\n",
        "      # помним что у нас отрицательное кол-во акций, разность цен в хорошем случае тоже отрицательная\n",
        "      capital = -stock*returns.iloc[i-1][4] + returns.iloc[i-1][6] + ret\n",
        "      stock = capital//close\n",
        "      inv_capital = close*stock\n",
        "      cash = capital - inv_capital\n",
        "\n",
        "      line = pd.DataFrame({'statement':[2], 'signal':[signal], 'close':[close], 'stock':[stock], 'deal_prise':[close],\n",
        "                            'long':[close*0.9], 'short':[0],\n",
        "                          'inv_capital':[inv_capital], 'cash':[cash], 'capital':[capital], 'ret(i)':[ret] })\n",
        "      returns = returns.append(line, ignore_index=True)\n",
        "      continue\n",
        "\n",
        "    elif statement == 2  and  signal == 2: ## если мы в короткой позиции, и цена будет падать\n",
        "      # то не нужно ничего делать\n",
        "      stock = returns.iloc[i-1][3]\n",
        "      cash = returns.iloc[i-1][6] # проверь это вычисление, оно странное, почему в 6-й позиции массива - КЭШ,\n",
        "      inv_capital = -stock*returns.iloc[i-1][4] + (close - returns.iloc[i-1][4])*stock\n",
        "      capital = inv_capital + cash\n",
        "\n",
        "      line = pd.DataFrame({'statement':[statement], 'signal':[signal], 'close':[close], 'stock':[stock], 'deal_prise':[returns.iloc[i-1][4]],\n",
        "                            'long':[0], 'short':[0],\n",
        "                          'inv_capital':[inv_capital], 'cash':[cash], 'capital':[capital], 'ret(i)':[0] })\n",
        "      returns = returns.append(line, ignore_index=True)\n",
        "      continue\n",
        "      \n",
        "    elif statement == 2  and  signal == 0: ## ## если мы в короткой позиции, и нет сигнала\n",
        "      # ничего не делаем\n",
        "      stock = returns.iloc[i-1][3]\n",
        "      cash = returns.iloc[i-1][6]\n",
        "      inv_capital = -stock*returns.iloc[i-1][4] + (close - returns.iloc[i-1][4])*stock\n",
        "      capital = inv_capital + cash\n",
        "\n",
        "      line = pd.DataFrame({'statement':[statement], 'signal':[signal], 'close':[close], 'stock':[stock], 'deal_prise':[returns.iloc[i-1][4]],\n",
        "                            'long':[0], 'short':[0],\n",
        "                            'inv_capital':[inv_capital], 'cash':[cash], 'capital':[capital], 'ret(i)':[0] })\n",
        "      returns = returns.append(line, ignore_index=True)\n",
        "      continue\n",
        "      \n",
        "    elif statement == 1  and  signal == 1:## если мы в длинной позиции и сигнал на рост\n",
        "      # то по идее ничего не надо делать, ждать сигнала\n",
        "      stock = returns.iloc[i-1][3]\n",
        "      cash = returns.iloc[i-1][6]\n",
        "      inv_capital = close*stock\n",
        "      capital = close*stock+cash\n",
        "\n",
        "      line = pd.DataFrame({'statement':[statement], 'signal':[signal], 'close':[close], 'stock':[stock], 'deal_prise':[returns.iloc[i-1][4]],\n",
        "                            'long':[0], 'short':[0],\n",
        "                            'inv_capital':[inv_capital], 'cash':[cash],  'capital':[capital], 'ret(i)':[0] })\n",
        "      returns = returns.append(line, ignore_index=True)\n",
        "      continue\n",
        "\n",
        "    elif statement == 1  and  signal == 2:## если мы в длинной позиции и сигнал на падение цены\n",
        "      statement = 2 # это открытие короткой позиции что-ли?\n",
        "      stock = returns.iloc[i-1][3]\n",
        "      ret = (close - returns.iloc[i-1][4]) * stock\n",
        "      capital = close * stock + returns.iloc[i-1][6]\n",
        "      stock = -capital//close\n",
        "      inv_capital = -close*stock\n",
        "      cash = capital - inv_capital\n",
        "\n",
        "      line = pd.DataFrame({'statement':[1], 'signal':[signal], 'close':[close], 'stock':[stock], 'deal_prise':[close],\n",
        "                            'long':[0], 'short':[close*1.1],\n",
        "                            'inv_capital':[inv_capital], 'cash':[cash], 'capital':[capital], 'ret(i)':[ret] })\n",
        "      returns = returns.append(line, ignore_index=True)\n",
        "      continue\n",
        "      \n",
        "    elif statement == 1  and  signal == 0:## если мы в длинной позиции и сигнала нет\n",
        "      # по идее ничего делать не надо, ждать сигнала\n",
        "      stock = returns.iloc[i-1][3]\n",
        "      cash = returns.iloc[i-1][6]\n",
        "      inv_capital = close*stock\n",
        "      capital = close*stock+cash\n",
        "\n",
        "      line = pd.DataFrame({'statement':[statement], 'signal':[signal], 'close':[close], 'stock':[stock], 'deal_prise':[returns.iloc[i-1][4]],\n",
        "                            'long':[0], 'short':[0],\n",
        "                            'inv_capital':[inv_capital], 'cash':[cash], 'capital':[capital], 'ret(i)':[0] })\n",
        "      returns = returns.append(line, ignore_index=True)\n",
        "      continue\n",
        "  start = 100000 \n",
        "  print('Стартовый капитал:', start)\n",
        "  print('Прирост после торгов: +', int(capital) - start)\n",
        "  print('Итого:', int(capital))\n",
        "  return returns\n",
        "  "
      ],
      "execution_count": 34,
      "outputs": []
    },
    {
      "cell_type": "code",
      "metadata": {
        "id": "UzF-A4ABHnxr"
      },
      "source": [
        "def trading_all(model, x_test, xScaler):\n",
        "    returns = trading(model, x_test, xScaler).copy()\n",
        "    short = returns['short'].values\n",
        "    short = short.astype(bool)\n",
        "    long = returns['long'].values\n",
        "    long = long.astype(bool)\n",
        "    idx_long = np.where(long) \n",
        "    idx_short = np.where(short)\n",
        "    show_long_short(returns, idx_long, idx_short)\n",
        "    show_capital(returns)"
      ],
      "execution_count": 35,
      "outputs": []
    },
    {
      "cell_type": "code",
      "metadata": {
        "id": "m0CAcrR0H7PM"
      },
      "source": [
        "def show_long_short(returns, idx_long, idx_short):\n",
        "    plt.figure(figsize=(24,12)) \n",
        "    plt.plot(returns['close'], alpha=0.6)\n",
        "    l = np.array(idx_long)[np.array(idx_long) < 600]\n",
        "    s = np.array(idx_short)[np.array(idx_short) < 600]\n",
        "    plt.plot(l, returns['close'].values[[l]], '^', c='g')\n",
        "    plt.plot(s, returns['close'].values[[s]], 'v', c='r')    \n",
        "    plt.show()    \n",
        "\n",
        "def show_capital(returns):\n",
        "  plt.figure(figsize=(24,8))\n",
        "  plt.plot(returns['capital'])\n",
        "  plt.show()"
      ],
      "execution_count": 36,
      "outputs": []
    },
    {
      "cell_type": "code",
      "metadata": {
        "colab": {
          "base_uri": "https://localhost:8080/",
          "height": 1000
        },
        "id": "c7fFuY4hkI-U",
        "outputId": "5dea960f-6afd-4546-a856-6f112d95a6b7"
      },
      "source": [
        "trading_all(model_conv1, xTest, xScaler)"
      ],
      "execution_count": 68,
      "outputs": [
        {
          "output_type": "stream",
          "name": "stdout",
          "text": [
            "Стартовый капитал: 100000\n",
            "Прирост после торгов: + 8502\n",
            "Итого: 108502\n"
          ]
        },
        {
          "output_type": "display_data",
          "data": {
            "image/png": "[encoded data removed]",
            "text/plain": [
              "<Figure size 1728x864 with 1 Axes>"
            ]
          },
          "metadata": {
            "needs_background": "light"
          }
        },
        {
          "output_type": "display_data",
          "data": {
            "image/png": "[encoded data removed]",
            "text/plain": [
              "<Figure size 1728x576 with 1 Axes>"
            ]
          },
          "metadata": {
            "needs_background": "light"
          }
        }
      ]
    },
    {
      "cell_type": "markdown",
      "metadata": {
        "id": "IW14xEBznbSY"
      },
      "source": [
        "Нужно проверить свою модель на торгующей функции из терры\n",
        "\n",
        "ниже представлены отсчеты на которых я бы хотел отыгрывать покупку/продажу\n",
        "* 7538-7539 0.012850-0.012790=0.0046\n",
        "* 7527-7528 0.012770-0.012700=0.0055\n",
        "* 7528-7529 0.012700-0.012796=0.0075\n",
        "* 7547-7548 0.012840-0.012750=0.0070\n",
        "\n",
        "будем отыгрывать все что выше 0,005\n",
        "\n",
        "\n",
        "нет даже вот такие:\n",
        "* 7663\t2021-06-25 15:00:00+00:00\t0.012322\n",
        "* 7664\t2021-06-28 07:00:00+00:00\t0.012522\n",
        "это 0,015 т.е 1,5%\n",
        "\n",
        "а вообще надо подбирать этот порог, вот и весь сказ. чем выше порог тем реже сделаки, но крупнее выигрыши на каждую. чем ниже порог тем больше сделок, то меньше выигрыш на каждой (также больше комиссия). надо стремиться к редким но метким сделкам\n",
        "\n",
        "\n",
        "1,5% это при капитале 100 000 выигрыш 1,5 тыс, в принципе нормально."
      ]
    }
  ]
}