{
  "nbformat": 4,
  "nbformat_minor": 0,
  "metadata": {
    "colab": {
      "name": "Диплом",
      "provenance": [],
      "collapsed_sections": [
        "5Wu4UMeN8HlJ"
      ],
      "authorship_tag": "ABX9TyP/fF70TbIEohCULLp7WJME",
      "include_colab_link": true
    },
    "kernelspec": {
      "name": "python3",
      "display_name": "Python 3"
    },
    "language_info": {
      "name": "python"
    }
  },
  "cells": [
    {
      "cell_type": "markdown",
      "metadata": {
        "id": "view-in-github",
        "colab_type": "text"
      },
      "source": [
        "<a href=\"https://colab.research.google.com/github/vgrinin/diploma/blob/main/%D0%94%D0%B8%D0%BF%D0%BB%D0%BE%D0%BC.ipynb\" target=\"_parent\"><img src=\"https://colab.research.google.com/assets/colab-badge.svg\" alt=\"Open In Colab\"/></a>"
      ]
    },
    {
      "cell_type": "markdown",
      "metadata": {
        "id": "5Wu4UMeN8HlJ"
      },
      "source": [
        "##Переписка с куратором"
      ]
    },
    {
      "cell_type": "markdown",
      "metadata": {
        "id": "y7CjLZvIWDBX"
      },
      "source": [
        "Мой инвестиционный план подразумевает регулярное пополнение своего долгосрочного инвестиционного портфеля. Мои ближайшие инвестиционные цели - 10 лет.\n",
        "Однако, я хочу также на небольшие суммы (5-10 % от ежемесячных вложений) заниматься автоматическим трейдингом, для чего хочу написать своего торгового робота.\n",
        "Таким образом тема дипломного проекта: **Робот для трейдинга на фондовом рынке**.\n",
        "\n",
        "Помимо простой тренировки сети на временных рядах, можно еще попробовать, если хватит сил и времени, добавить в данные для обучения поиск стандартных фигур на графиках (типа двойная вершина и т.д.), ориентирование бота на новости, связанные с ожиданиями инвесторов (здесь уже может понадобиться анализ самого текста - тикер акции, общее настроение новости), добавление на вход НС значений различных стандартных индикаторов (RSI и т.д), близость выплаты дивидендов, близость и ожидания выпуска финансовой отчетности.\n",
        "Бот для совершения сделок должен учитывать направление тренда и ожидаемую силу тренда, чтобы не вступать в кучу мелких сделок, а выбирать только потенциально крупные."
      ]
    },
    {
      "cell_type": "markdown",
      "metadata": {
        "id": "3QgH9FqJWGai"
      },
      "source": [
        "**Ответ куратора**: Вам нужно внимательно посмотреть лекцию по временным рядам. Если хотите использовать любые дополнительные данные, нужно будет синхронизировать с основным рядом. Стратегию вам нужно будет определить самостоятельно. Так же у нас нет уроков по интеграции с торговым терминалом  - это придется изучить самостоятельно. В целом, по подобным работам: удавалась уверенно предсказывать тренд, но будущие значения предсказывается хуже. "
      ]
    },
    {
      "cell_type": "markdown",
      "metadata": {
        "id": "Rfp2f9FAV2yD"
      },
      "source": [
        "Так как у меня есть брокерский счет в Тиньков, то планирую забирать временные ряды по тикерам из его api. Собственно к api в песочнице я уже подключился. Данные из него идет в следующем формате:\n",
        "{'payload': {'candles': [{'c': 229.01,\n",
        "'figi': 'BBG004730RP0',\n",
        "'h': 229.41,\n",
        "'interval': '1min',\n",
        "'l': 229.01,\n",
        "'o': 229.35,\n",
        "'time': datetime.datetime(2019, 8, 7, 10, 0, tzinfo=tzlocal()),\n",
        "'v': 15298},\n",
        "{'c': 228.82,\n",
        "'figi': 'BBG004730RP0',\n",
        "'h': 229.05,\n",
        "'interval': '1min',\n",
        "'l': 228.81,\n",
        "'o': 229.05,\n",
        "'time': datetime.datetime(2019, 8, 7, 10, 1, tzinfo=tzlocal()),\n",
        "'v': 5193},\n",
        "{'c': 228.93,\n",
        "'figi': 'BBG004730RP0',\n",
        "'h': 229.1,\n",
        "'interval': '1min',\n",
        "'l': 228.81,\n",
        "'o': 228.82,\n",
        "'time': datetime.datetime(2019, 8, 7, 10, 2, tzinfo=tzlocal()),\n",
        "'v': 7289},\n",
        "То есть это стандартные отсчеты: High, Low, Open, Close, Volume. Планирую использовать для предсказания все 5 значений, надеюсь это даст алгоритму больше понимания по волатильности рынка, свечам пробития и т.д.\n",
        "\n",
        "По поводу использования финансовых новостей для помощи алгоритму в анализе, пока вижу такой вариант - использую сайт interfax, типа такого url: https://www.interfax.ru/business/788267. Заметил, что при последовательном декременте идентификатора новости мы просто переходим к предыдущей новости агентства, вне зависимости от того к какой категории она относится. Так что придется запустить долгий неспешный цикл закачки новостей с парсингом html, фильтрацией по категории новости, а также поиском в тексте новости ключевых слов, которые помогают отнести новость к релевантной. Фильтрация по категории как мне видится делается достаточно просто. При запросе новости, сервер присылает редирект на страницу с другой категорией, нам осталось лишь прочитать урл и найти в нем вхождение строки business. Например если запросить новость https://www.interfax.ru/business/788266 то я получаю редирект на https://www.interfax.ru/russia/788266, и вижу, что категория у новости 788266 - russia, а не business. Получив такой редирект, можно уже не запрашивать страницу с новостью, и делать декремент дальше.\n",
        "\n",
        "Думаю, что придется выбрать 1-2 финансовых инструмента (акции), сформировать на каждый из них набор ключевых слов, для фильтрации.\n",
        "Например, если выбрать акции Лукойла, то список ключевых слов примерно такой: лукойл, lukoil, нефт, бензин, топлив, и т.д."
      ]
    },
    {
      "cell_type": "markdown",
      "metadata": {
        "id": "POg7TCMiV8Bo"
      },
      "source": [
        "**Ответ куратора**: Можно выбрать проверять тексты на характерные слова, либо переводить в Embedding в BOWи сравнивать по результирующему вектору. "
      ]
    },
    {
      "cell_type": "markdown",
      "metadata": {
        "id": "pKVLMWto8NGY"
      },
      "source": [
        "## Формирование базы"
      ]
    },
    {
      "cell_type": "markdown",
      "metadata": {
        "id": "5P0MzEhJ-aLn"
      },
      "source": [
        "### Общий код"
      ]
    },
    {
      "cell_type": "code",
      "metadata": {
        "id": "HoIY5RtI98cv"
      },
      "source": [
        "# импорт библиотек\n",
        "import configparser\n",
        "import requests\n",
        "from bs4 import BeautifulSoup\n",
        "import pandas as pd \n",
        "import csv\n",
        "\n",
        "from openapi_client import openapi\n",
        "from datetime import datetime, timedelta\n",
        "from pytz import timezone\n",
        "import datetime\n",
        "import json"
      ],
      "execution_count": 1,
      "outputs": []
    },
    {
      "cell_type": "code",
      "metadata": {
        "colab": {
          "base_uri": "https://localhost:8080/"
        },
        "id": "NPfYqMQYwCmE",
        "outputId": "07af9719-1e32-4eab-8398-69bb2ae7978b"
      },
      "source": [
        "from google.colab import drive\n",
        "drive.mount('/content/drive')\n",
        "driveFolder = '/content/drive/My Drive/neuralnetwork/diploma/'"
      ],
      "execution_count": 2,
      "outputs": [
        {
          "output_type": "stream",
          "name": "stdout",
          "text": [
            "Drive already mounted at /content/drive; to attempt to forcibly remount, call drive.mount(\"/content/drive\", force_remount=True).\n"
          ]
        }
      ]
    },
    {
      "cell_type": "code",
      "metadata": {
        "id": "6R9cvvY5xAXn"
      },
      "source": [
        "# Считываем конфигурацию, которую не стоит светить в коде (пароли, и т.д.)\n",
        "config = configparser.ConfigParser()\n",
        "config.read(driveFolder + 'app.properties')\n",
        "\n",
        "token = config.get(\"DEFAULT\", \"tinkoff.sandbox\")"
      ],
      "execution_count": 3,
      "outputs": []
    },
    {
      "cell_type": "code",
      "metadata": {
        "id": "VUPiN9yBPeRL"
      },
      "source": [
        "# Пишет данные в csv-файл\n",
        "def csvWrite(fileName, data, columns):\n",
        "  with open(fileName, 'w', newline=\"\", encoding='utf-16') as file:\n",
        "    writer = csv.DictWriter(file, delimiter=\",\", fieldnames=columns)\n",
        "    writer.writeheader()\n",
        "    writer.writerows(data)"
      ],
      "execution_count": 4,
      "outputs": []
    },
    {
      "cell_type": "markdown",
      "metadata": {
        "id": "qhyIo0MD9svk"
      },
      "source": [
        "### Загрузка цен по выбранной акции"
      ]
    },
    {
      "cell_type": "code",
      "metadata": {
        "colab": {
          "base_uri": "https://localhost:8080/"
        },
        "id": "UFnvG_yQZI0B",
        "outputId": "b1994ae2-cb37-4f75-9184-7eae4a065bd7"
      },
      "source": [
        "# Грузим клиентскую часть для api\n",
        "!pip install -i https://test.pypi.org/simple/ --extra-index-url=https://pypi.org/simple/ tinkoff-invest-openapi-client"
      ],
      "execution_count": 5,
      "outputs": [
        {
          "output_type": "stream",
          "name": "stdout",
          "text": [
            "Looking in indexes: https://test.pypi.org/simple/, https://pypi.org/simple/\n",
            "Requirement already satisfied: tinkoff-invest-openapi-client in /usr/local/lib/python3.7/dist-packages (0.0.7)\n",
            "Requirement already satisfied: setuptools>=21.0.0 in /usr/local/lib/python3.7/dist-packages (from tinkoff-invest-openapi-client) (57.4.0)\n",
            "Requirement already satisfied: websocket-client==0.56.0 in /usr/local/lib/python3.7/dist-packages (from tinkoff-invest-openapi-client) (0.56.0)\n",
            "Requirement already satisfied: pytz==2019.3 in /usr/local/lib/python3.7/dist-packages (from tinkoff-invest-openapi-client) (2019.3)\n",
            "Requirement already satisfied: urllib3>=1.15.1 in /usr/local/lib/python3.7/dist-packages (from tinkoff-invest-openapi-client) (1.24.3)\n",
            "Requirement already satisfied: six>=1.10 in /usr/local/lib/python3.7/dist-packages (from tinkoff-invest-openapi-client) (1.15.0)\n",
            "Requirement already satisfied: certifi>=14.05.14 in /usr/local/lib/python3.7/dist-packages (from tinkoff-invest-openapi-client) (2021.5.30)\n",
            "Requirement already satisfied: python-dateutil>=2.5.3 in /usr/local/lib/python3.7/dist-packages (from tinkoff-invest-openapi-client) (2.8.2)\n"
          ]
        }
      ]
    },
    {
      "cell_type": "code",
      "metadata": {
        "colab": {
          "base_uri": "https://localhost:8080/"
        },
        "id": "USoJ4y_LZOMr",
        "outputId": "1738d74b-4026-4b2c-b0e2-3b81b5ab44ac"
      },
      "source": [
        "!git clone https://github.com/Awethon/open-api-python-client.git"
      ],
      "execution_count": 6,
      "outputs": [
        {
          "output_type": "stream",
          "name": "stdout",
          "text": [
            "fatal: destination path 'open-api-python-client' already exists and is not an empty directory.\n"
          ]
        }
      ]
    },
    {
      "cell_type": "code",
      "metadata": {
        "id": "O0T89I77Qk8x"
      },
      "source": [
        "# преобразует данные одной свечи в json-объект\n",
        "def candleToJson(candle):\n",
        "  return {\n",
        "      'time': candle.time,\n",
        "      'open': candle.o,\n",
        "      'close': candle.c,\n",
        "      'high': candle.h,\n",
        "      'low': candle.l,\n",
        "      'volume': candle.v\n",
        "  }\n",
        "\n",
        "# сохраняет в csv данные по свечам за конкретный период для одного инструмента\n",
        "def saveCandles(client, ticker, dateFrom, dateTo, interval, fileName):\n",
        "  resp = client.market.market_candles_get(ticker, dateFrom, dateTo, interval)\n",
        "  columns = ['time', 'open', 'high', 'low', 'close', 'volume']\n",
        "  jsonCandles = []\n",
        "  for candle in resp.payload.candles:\n",
        "    jsonCandles.append(candleToJson(candle))\n",
        "  csvWrite(fileName, jsonCandles, columns)"
      ],
      "execution_count": 7,
      "outputs": []
    },
    {
      "cell_type": "code",
      "metadata": {
        "id": "M79iQXpGZV3N"
      },
      "source": [
        "# грузим данные по ценам в файл\n",
        "client = openapi.sandbox_api_client(token)\n",
        "ticker = 'BBG004730RP0'\n",
        "fileName = driveFolder + ticker + '.csv'\n",
        "saveCandles(client, ticker, '2019-08-07T10:00:00.0Z', '2019-08-07T18:00:00.0Z', '1min', fileName)"
      ],
      "execution_count": 8,
      "outputs": []
    },
    {
      "cell_type": "markdown",
      "metadata": {
        "id": "p7ChJB-mPiCF"
      },
      "source": [
        "### Загрузка новостей с сайта Interfax"
      ]
    },
    {
      "cell_type": "code",
      "metadata": {
        "id": "dhW-j57PdS5K"
      },
      "source": [
        "# хидеры, которые формируются браузером при обращении к сайту interfax\n",
        "requestHeaders = {\n",
        "'accept': 'text/html,application/xhtml+xml,application/xml;q=0.9,image/avif,image/webp,image/apng,*/*;q=0.8,application/signed-exchange;v=b3;q=0.9',\n",
        "'accept-encoding': 'gzip, deflate, br',\n",
        "'accept-language': 'ru-RU,ru;q=0.9,en-US;q=0.8,en;q=0.7,gl;q=0.6',\n",
        "'cache-control': 'max-age=0',\n",
        "'if-modified-since': 'Fri, 4 Sep 2021 20:55:32 GMT',\n",
        "'sec-ch-ua': '\"Chromium\";v=\"92\", \" Not A;Brand\";v=\"99\", \"Google Chrome\";v=\"92\"',\n",
        "'sec-ch-ua-mobile': '?0',\n",
        "'sec-fetch-dest': 'document',\n",
        "'sec-fetch-mode': 'navigate',\n",
        "'sec-fetch-site': 'none',\n",
        "'sec-fetch-user': '?1',\n",
        "'upgrade-insecure-requests': '1',\n",
        "'user-agent': 'Mozilla/5.0 (Windows NT 10.0; Win64; x64) AppleWebKit/537.36 (KHTML, like Gecko) Chrome/92.0.4515.159 Safari/537.36'\n",
        "}\n",
        "\n",
        "# формирует запрос с нужными хидерами и cookie, притворяясь браузером\n",
        "def newRequest(ssn, url):\n",
        "  r = ssn.get(url, allow_redirects=False)\n",
        "  r.request.headers = requestHeaders\n",
        "  r.encoding='windows-1251'\n",
        "  return r"
      ],
      "execution_count": 9,
      "outputs": []
    },
    {
      "cell_type": "code",
      "metadata": {
        "id": "VlZHHB-5iuDD"
      },
      "source": [
        "# парсит одну новость из запроса req\n",
        "def getRow(req, page):\n",
        "  soup = BeautifulSoup(req.text, features = 'html.parser')\n",
        "  mainDiv = soup.find('div', {'class': 'infinitblock'})\n",
        "  timeString = mainDiv.find('time')[\"datetime\"]\n",
        "  item = mainDiv.find('article', {'itemprop': 'articleBody'})\n",
        "  header = item.find('h1', {'itemprop': 'headline'}).text\n",
        "  paragraphs = item.findAll('p')\n",
        "  text=''\n",
        "  for p in paragraphs:\n",
        "    text+=p.text+' '\n",
        "  return {'datetime': timeString, 'header': header, 'text': text, 'number': page, 'url': req.url}\n",
        "\n",
        "# проверяет принадлежность url к одной из категорий в списке cats\n",
        "def isUrlOfCategories(url, cats):\n",
        "  return any(x in url for x in cats)"
      ],
      "execution_count": 10,
      "outputs": []
    },
    {
      "cell_type": "code",
      "metadata": {
        "id": "4WaGIquytDy0"
      },
      "source": [
        "# читает блок новостей на baseUrl в интервале идентификаторов [startPage, endPage]\n",
        "# берет только категории из списка categories\n",
        "# параметр workerName нужен только для отображения прогресса\n",
        "# процедура возвращает dict - список новостей\n",
        "def parseBlock(baseUrl, startPage, endPage, categories, workerName='worker'):\n",
        "  print(workerName, end='')\n",
        "  newsOutput = []\n",
        "  ssn = requests.Session() # готовим сессию, чтобы быть более похожим на браузер\n",
        "  for page in range(startPage, endPage, -1):\n",
        "    print('.', end='') # прогресс, чтобы было видно, что работаем\n",
        "    r = newRequest(ssn, baseUrl+'/'+str(page))\n",
        "    if r.status_code == 404:\n",
        "      continue\n",
        "    if r.status_code == 301:\n",
        "      # был редирект\n",
        "      location = r.headers['Location']\n",
        "      if not 'http' in location: \n",
        "        location = baseUrl + location\n",
        "      # попали мы на интересующую нас категорию\n",
        "      if isUrlOfCategories(location, categories):\n",
        "        # если после редиректа мы получили нужную категорию, то перезапросим урл из редиректа\n",
        "        r = newRequest(ssn, location)\n",
        "      else:\n",
        "        # Был редирект на неподходящую категорию\n",
        "        continue\n",
        "    newsOutput.append(getRow(r, page))\n",
        "    print('\\r', r.url)\n",
        "    print(workerName, end='')\n",
        "  return newsOutput"
      ],
      "execution_count": 11,
      "outputs": []
    },
    {
      "cell_type": "code",
      "metadata": {
        "colab": {
          "base_uri": "https://localhost:8080/"
        },
        "id": "IuNPrswQdT54",
        "outputId": "656e389e-3403-4e13-c85f-b9ddd5e360dc"
      },
      "source": [
        "# Парсим блок новостей\n",
        "baseUrl = 'https://www.interfax.ru'\n",
        "categories = ['https://www.interfax.ru/business']\n",
        "startPage = 788577 \n",
        "endPage = startPage - 300\n",
        "\n",
        "newsOutput = parseBlock(baseUrl, startPage, endPage, categories, 'worker 001')\n",
        "columns = ['datetime', 'header', 'text', 'number', 'url']\n",
        "csvWrite(driveFolder + str(startPage) + '_' + str(endPage) + '.csv', newsOutput, columns)"
      ],
      "execution_count": 12,
      "outputs": [
        {
          "output_type": "stream",
          "name": "stdout",
          "text": [
            " https://www.interfax.ru/business/788577\n",
            " https://www.interfax.ru/business/788527\n",
            " https://www.interfax.ru/business/788525\n",
            " https://www.interfax.ru/business/788522\n",
            " https://www.interfax.ru/business/788521\n",
            " https://www.interfax.ru/business/788520\n",
            " https://www.interfax.ru/business/788516\n",
            " https://www.interfax.ru/business/788515\n",
            " https://www.interfax.ru/business/788513\n",
            " https://www.interfax.ru/business/788511\n",
            " https://www.interfax.ru/business/788499\n",
            " https://www.interfax.ru/business/788488\n",
            " https://www.interfax.ru/business/788481\n",
            " https://www.interfax.ru/business/788479\n",
            " https://www.interfax.ru/business/788472\n",
            " https://www.interfax.ru/business/788471\n",
            " https://www.interfax.ru/business/788469\n",
            " https://www.interfax.ru/business/788466\n",
            " https://www.interfax.ru/business/788464\n",
            " https://www.interfax.ru/business/788462\n",
            " https://www.interfax.ru/business/788452\n",
            " https://www.interfax.ru/business/788448\n",
            " https://www.interfax.ru/business/788442\n",
            " https://www.interfax.ru/business/788440\n",
            " https://www.interfax.ru/business/788434\n",
            " https://www.interfax.ru/business/788430\n",
            " https://www.interfax.ru/business/788428\n",
            " https://www.interfax.ru/business/788427\n",
            " https://www.interfax.ru/business/788425\n",
            " https://www.interfax.ru/business/788419\n",
            " https://www.interfax.ru/business/788416\n",
            " https://www.interfax.ru/business/788401\n",
            " https://www.interfax.ru/business/788374\n",
            " https://www.interfax.ru/business/788373\n",
            " https://www.interfax.ru/business/788370\n",
            " https://www.interfax.ru/business/788368\n",
            " https://www.interfax.ru/business/788365\n",
            " https://www.interfax.ru/business/788364\n",
            " https://www.interfax.ru/business/788363\n",
            " https://www.interfax.ru/business/788362\n",
            " https://www.interfax.ru/business/788357\n",
            " https://www.interfax.ru/business/788355\n",
            " https://www.interfax.ru/business/788352\n",
            " https://www.interfax.ru/business/788351\n",
            " https://www.interfax.ru/business/788350\n",
            " https://www.interfax.ru/business/788349\n",
            " https://www.interfax.ru/business/788348\n",
            " https://www.interfax.ru/business/788347\n",
            " https://www.interfax.ru/business/788346\n",
            " https://www.interfax.ru/business/788345\n",
            " https://www.interfax.ru/business/788344\n",
            " https://www.interfax.ru/business/788343\n",
            " https://www.interfax.ru/business/788342\n",
            " https://www.interfax.ru/business/788339\n",
            " https://www.interfax.ru/business/788338\n",
            " https://www.interfax.ru/business/788337\n",
            " https://www.interfax.ru/business/788335\n",
            " https://www.interfax.ru/business/788334\n",
            " https://www.interfax.ru/business/788333\n",
            " https://www.interfax.ru/business/788332\n",
            " https://www.interfax.ru/business/788331\n",
            " https://www.interfax.ru/business/788328\n",
            " https://www.interfax.ru/business/788327\n",
            " https://www.interfax.ru/business/788325\n",
            " https://www.interfax.ru/business/788324\n",
            " https://www.interfax.ru/business/788323\n",
            " https://www.interfax.ru/business/788322\n",
            " https://www.interfax.ru/business/788321\n",
            " https://www.interfax.ru/business/788318\n",
            " https://www.interfax.ru/business/788315\n",
            " https://www.interfax.ru/business/788314\n",
            " https://www.interfax.ru/business/788313\n",
            " https://www.interfax.ru/business/788312\n",
            " https://www.interfax.ru/business/788311\n",
            " https://www.interfax.ru/business/788310\n",
            " https://www.interfax.ru/business/788309\n",
            " https://www.interfax.ru/business/788308\n",
            " https://www.interfax.ru/business/788307\n",
            " https://www.interfax.ru/business/788306\n",
            " https://www.interfax.ru/business/788304\n",
            " https://www.interfax.ru/business/788303\n",
            " https://www.interfax.ru/business/788302\n",
            " https://www.interfax.ru/business/788300\n",
            " https://www.interfax.ru/business/788299\n",
            " https://www.interfax.ru/business/788297\n",
            " https://www.interfax.ru/business/788295\n",
            " https://www.interfax.ru/business/788294\n",
            " https://www.interfax.ru/business/788293\n",
            " https://www.interfax.ru/business/788292\n",
            " https://www.interfax.ru/business/788290\n",
            " https://www.interfax.ru/business/788288\n",
            " https://www.interfax.ru/business/788287\n",
            " https://www.interfax.ru/business/788284\n",
            " https://www.interfax.ru/business/788283\n",
            "worker 001....."
          ]
        }
      ]
    },
    {
      "cell_type": "markdown",
      "metadata": {
        "id": "VBHga9hT-1oK"
      },
      "source": [
        "##TODO:"
      ]
    },
    {
      "cell_type": "markdown",
      "metadata": {
        "id": "hFK9MExJm17L"
      },
      "source": [
        "* что буду делать, если сайт начнет запрашивать у меня капчу?\n",
        "* сохранять в гуглдрайве номер последней обработанной страницы, чтобы продолжать после перезапуска\n",
        "* сделать многопоточную загрузку, в каждом потоке своя сессия\n",
        "* выбрать акции, которые буду отслеживать\n",
        "* подобрать ключевые слова для новостей"
      ]
    }
  ]
}