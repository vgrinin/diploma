{
  "nbformat": 4,
  "nbformat_minor": 0,
  "metadata": {
    "colab": {
      "name": "Диплом",
      "provenance": [],
      "collapsed_sections": [],
      "authorship_tag": "ABX9TyMf9G+OoU2Eq/TGL5XtWEB/",
      "include_colab_link": true
    },
    "kernelspec": {
      "name": "python3",
      "display_name": "Python 3"
    },
    "language_info": {
      "name": "python"
    }
  },
  "cells": [
    {
      "cell_type": "markdown",
      "metadata": {
        "id": "view-in-github",
        "colab_type": "text"
      },
      "source": [
        "<a href=\"https://colab.research.google.com/github/vgrinin/diploma/blob/main/%D0%94%D0%B8%D0%BF%D0%BB%D0%BE%D0%BC.ipynb\" target=\"_parent\"><img src=\"https://colab.research.google.com/assets/colab-badge.svg\" alt=\"Open In Colab\"/></a>"
      ]
    },
    {
      "cell_type": "markdown",
      "metadata": {
        "id": "y7CjLZvIWDBX"
      },
      "source": [
        "Недавно я прошел курсы по инвестициям в фондовый рынок. Инвестиции подразумевают регулярное пополнение своего долгосрочного инвестиционного портфеля. Мои ближайшие инвестиционные цели - 10 лет.\n",
        "Однако, я хочу также на небольшие суммы (5-10 % от ежемесячных вложений) заниматься автоматическим трейдингом, для чего хочу написать своего торгового робота.\n",
        "Таким образом тема дипломного проекта: Робот для трейдинга на фондовом рынке.\n",
        "Помимо простой тренировки сети на временных рядах, можно еще попробовать, если хватит сил и времени, добавить в данные для обучения поиск стандартных фигур на графиках (типа двойная вершина и т.д.), ориентирование бота на новости, связанные с ожиданиями инвесторов (здесь уже может понадобиться анализ самого текста - тикер акции, общее настроение новости), добавление на вход НС значений различных стандартных индикаторов (RSI и т.д), близость выплаты дивидендов, близость и ожидания выпуска финансовой отчетности.\n",
        "Бот для совершения сделок должен учитывать направление тренда и ожидаемую силу тренда, чтобы не вступать в кучу мелких сделок, а выбирать только потенциально крупные.\n",
        "Сомневаюсь, что все это можно успеть к дате сдачи диплома, но хотя бы часть можно попробовать."
      ]
    },
    {
      "cell_type": "markdown",
      "metadata": {
        "id": "3QgH9FqJWGai"
      },
      "source": [
        "Здравствуйте, Вячеслав.  Тему пометил. Вам нужно внимательно посмотреть лекцию по временным рядам. Если хотите использовать любые дополнительные данные, нужно будет синхронизировать с основным рядом. Стратегию вам нужно будет определить самостоятельно. Так же у нас нет уроков по интеграции с торговым терминалом  - это придется изучить самостоятельно. В целом, по подобным работам: удавалась уверенно предсказывать тренд, но будущие значения предсказывается хуже. "
      ]
    },
    {
      "cell_type": "markdown",
      "metadata": {
        "id": "Rfp2f9FAV2yD"
      },
      "source": [
        "Так как у меня есть брокерский счет на Тинькове, то планирую забирать временные ряды по тикерам из его api. Собственно к api в песочнице я уже подключился. Данные из него идет в следующем формате:\n",
        "{'payload': {'candles': [{'c': 229.01,\n",
        "'figi': 'BBG004730RP0',\n",
        "'h': 229.41,\n",
        "'interval': '1min',\n",
        "'l': 229.01,\n",
        "'o': 229.35,\n",
        "'time': datetime.datetime(2019, 8, 7, 10, 0, tzinfo=tzlocal()),\n",
        "'v': 15298},\n",
        "{'c': 228.82,\n",
        "'figi': 'BBG004730RP0',\n",
        "'h': 229.05,\n",
        "'interval': '1min',\n",
        "'l': 228.81,\n",
        "'o': 229.05,\n",
        "'time': datetime.datetime(2019, 8, 7, 10, 1, tzinfo=tzlocal()),\n",
        "'v': 5193},\n",
        "{'c': 228.93,\n",
        "'figi': 'BBG004730RP0',\n",
        "'h': 229.1,\n",
        "'interval': '1min',\n",
        "'l': 228.81,\n",
        "'o': 228.82,\n",
        "'time': datetime.datetime(2019, 8, 7, 10, 2, tzinfo=tzlocal()),\n",
        "'v': 7289},\n",
        "То есть это стандартные отсчеты: High, Low, Open, Close, Volume. Планирую использовать для предсказания все 5 значений, надеюсь это даст алгоритму больше понимания по волатильности рынка, свечам пробития и т.д.\n",
        "По поводу использования финансовых новостей для помощи алгоритму в анализе, пока вижу такой вариант - использую сайт interfax, типа такого ула https://www.interfax.ru/business/788267. Заметил, что при последовательном декременте идентификатора новости мы просто переходим к предыдущей новости агентства, вне зависимости от того к какой категории она относится. Так что придется запустить долгий неспешный цикл закачки новостей с парсингом html, фильтрацией по категории новости, а также поиском в тексте новости ключевых слов, которые помогают отнести новость к релевантной. Фильтрация по категории как мне видится делается достаточно просто. При запросе новости, сервер присылает редирект на страницу с другой категорией, нам осталось лишь прочитать урл и найти в нем вхождение строки business. Например если запросить новость https://www.interfax.ru/business/788266 то я получаю редирект на https://www.interfax.ru/russia/788266, и вижу, что категория у новости 788266 - russia, а не business. Получив такой редирект, можно уже не запрашивать страницу с новостью, и делать декремент дальше.\n",
        "Думаю, что придется выбрать 1-2 финансовых инструмента (акции), сформировать на каждый из них набор ключевых слов, для фильтрации.\n",
        "Например, если выбрать акции Лукойла, то список ключевых слов примерно такой: лукойл, lukoil, нефт, бензин, топлив, и т.д."
      ]
    },
    {
      "cell_type": "markdown",
      "metadata": {
        "id": "POg7TCMiV8Bo"
      },
      "source": [
        "Здравствуйте, Вячеслав. Этап принят.\n",
        "\n",
        " Можно выбрать проверять тексты на характерные слова, либо переводить в Embedding в BOWи сравнивать по результирующему вектору. "
      ]
    },
    {
      "cell_type": "code",
      "metadata": {
        "colab": {
          "base_uri": "https://localhost:8080/",
          "height": 474
        },
        "id": "UFnvG_yQZI0B",
        "outputId": "339e8b8a-cb1b-471d-d10a-e8021efae3b7"
      },
      "source": [
        "!pip install -i https://test.pypi.org/simple/ --extra-index-url=https://pypi.org/simple/ tinkoff-invest-openapi-client"
      ],
      "execution_count": 2,
      "outputs": [
        {
          "output_type": "stream",
          "name": "stdout",
          "text": [
            "Looking in indexes: https://test.pypi.org/simple/, https://pypi.org/simple/\n",
            "Collecting tinkoff-invest-openapi-client\n",
            "  Downloading https://test-files.pythonhosted.org/packages/d7/8e/33d54b098bbf6a805f1d43bc760841d6c353ace2fab31943f35f2f676305/tinkoff_invest_openapi_client-0.0.7-py3-none-any.whl (148 kB)\n",
            "\u001b[K     |████████████████████████████████| 148 kB 2.7 MB/s \n",
            "\u001b[?25hCollecting websocket-client==0.56.0\n",
            "  Downloading websocket_client-0.56.0-py2.py3-none-any.whl (200 kB)\n",
            "\u001b[K     |████████████████████████████████| 200 kB 4.3 MB/s \n",
            "\u001b[?25hRequirement already satisfied: urllib3>=1.15.1 in /usr/local/lib/python3.7/dist-packages (from tinkoff-invest-openapi-client) (1.24.3)\n",
            "Requirement already satisfied: six>=1.10 in /usr/local/lib/python3.7/dist-packages (from tinkoff-invest-openapi-client) (1.15.0)\n",
            "Collecting pytz==2019.3\n",
            "  Downloading pytz-2019.3-py2.py3-none-any.whl (509 kB)\n",
            "\u001b[K     |████████████████████████████████| 509 kB 43.4 MB/s \n",
            "\u001b[?25hRequirement already satisfied: setuptools>=21.0.0 in /usr/local/lib/python3.7/dist-packages (from tinkoff-invest-openapi-client) (57.4.0)\n",
            "Requirement already satisfied: python-dateutil>=2.5.3 in /usr/local/lib/python3.7/dist-packages (from tinkoff-invest-openapi-client) (2.8.2)\n",
            "Requirement already satisfied: certifi>=14.05.14 in /usr/local/lib/python3.7/dist-packages (from tinkoff-invest-openapi-client) (2021.5.30)\n",
            "Installing collected packages: websocket-client, pytz, tinkoff-invest-openapi-client\n",
            "  Attempting uninstall: pytz\n",
            "    Found existing installation: pytz 2018.9\n",
            "    Uninstalling pytz-2018.9:\n",
            "      Successfully uninstalled pytz-2018.9\n",
            "Successfully installed pytz-2019.3 tinkoff-invest-openapi-client-0.0.7 websocket-client-0.56.0\n"
          ]
        },
        {
          "output_type": "display_data",
          "data": {
            "application/vnd.colab-display-data+json": {
              "pip_warning": {
                "packages": [
                  "pytz"
                ]
              }
            }
          },
          "metadata": {}
        }
      ]
    },
    {
      "cell_type": "code",
      "metadata": {
        "colab": {
          "base_uri": "https://localhost:8080/"
        },
        "id": "USoJ4y_LZOMr",
        "outputId": "a5735b8a-e301-4f11-9fef-4b95c4a1e159"
      },
      "source": [
        "!git clone https://github.com/Awethon/open-api-python-client.git"
      ],
      "execution_count": 3,
      "outputs": [
        {
          "output_type": "stream",
          "name": "stdout",
          "text": [
            "Cloning into 'open-api-python-client'...\n",
            "remote: Enumerating objects: 322, done.\u001b[K\n",
            "remote: Counting objects: 100% (322/322), done.\u001b[K\n",
            "remote: Compressing objects: 100% (121/121), done.\u001b[K\n",
            "remote: Total 322 (delta 235), reused 275 (delta 197), pack-reused 0\u001b[K\n",
            "Receiving objects: 100% (322/322), 90.89 KiB | 1.30 MiB/s, done.\n",
            "Resolving deltas: 100% (235/235), done.\n"
          ]
        }
      ]
    },
    {
      "cell_type": "code",
      "metadata": {
        "colab": {
          "base_uri": "https://localhost:8080/"
        },
        "id": "NPfYqMQYwCmE",
        "outputId": "a744f91f-e31c-47c9-fa39-2b6c6580f978"
      },
      "source": [
        "from google.colab import drive\n",
        "drive.mount('/content/drive')\n",
        "\n",
        "driveFolder = '/content/drive/My Drive/neuralnetwork/diploma/'"
      ],
      "execution_count": 4,
      "outputs": [
        {
          "output_type": "stream",
          "name": "stdout",
          "text": [
            "Mounted at /content/drive\n"
          ]
        }
      ]
    },
    {
      "cell_type": "code",
      "metadata": {
        "id": "6R9cvvY5xAXn"
      },
      "source": [
        "import configparser\n",
        "\n",
        "config = configparser.ConfigParser()\n",
        "config.read(driveFolder + 'app.properties')\n",
        "\n",
        "token = config.get(\"DEFAULT\", \"tinkoff.sandbox\")"
      ],
      "execution_count": 5,
      "outputs": []
    },
    {
      "cell_type": "code",
      "metadata": {
        "colab": {
          "base_uri": "https://localhost:8080/"
        },
        "id": "M79iQXpGZV3N",
        "outputId": "418a58bd-5784-49f4-a0b1-ca26ac3a4f9e"
      },
      "source": [
        "from openapi_client import openapi\n",
        "from datetime import datetime, timedelta\n",
        "from pytz import timezone\n",
        "import datetime\n",
        "\n",
        "client = openapi.sandbox_api_client(token)\n",
        "client.sandbox.sandbox_register_post()\n",
        "client.sandbox.sandbox_clear_post()\n",
        "client.sandbox.sandbox_currencies_balance_post(sandbox_set_currency_balance_request={\"currency\": \"USD\", \"balance\": 1000})\n",
        "\n",
        "\n",
        "def set_balance():\n",
        "    balance_set = client.sandbox.sandbox_currencies_balance_post({\"currency\": \"USD\", \"balance\": 10000})\n",
        "    print(\"balance\")\n",
        "    print(balance_set)\n",
        "    print()\n",
        "\n",
        "\n",
        "def print_24hr_operations():\n",
        "    now = datetime.now(tz=timezone('Europe/Moscow'))\n",
        "    yesterday = now - timedelta(days=1)\n",
        "    ops = client.operations.operations_get(_from=yesterday.isoformat(), to=now.isoformat())\n",
        "    print(\"operations\")\n",
        "    print(ops)\n",
        "    print()\n",
        "\n",
        "\n",
        "def print_orders():\n",
        "    orders = client.orders.orders_get()\n",
        "    print(\"active orders\")\n",
        "    print(orders)\n",
        "    print()\n",
        "\n",
        "\n",
        "def make_order():\n",
        "    order_response = client.orders.orders_limit_order_post(figi='BBG009S39JX6',\n",
        "                                                           limit_order_request={\"lots\": 1,\n",
        "                                                                                \"operation\": \"Buy\",\n",
        "                                                                                \"price\": 0.01})\n",
        "    print(\"make order\")\n",
        "    print(order_response)\n",
        "    print()\n",
        "    return order_response\n",
        "\n",
        "\n",
        "# won't work in sandbox - orders are being instantly executed\n",
        "def cancel_order(order_id):\n",
        "    cancellation_result = client.orders.orders_cancel_post(order_id=order_id)\n",
        "    print(\"cancel order\")\n",
        "    print(cancellation_result)\n",
        "    print()\n",
        "\n",
        "\n",
        "'''set_balance()\n",
        "print_24hr_operations()\n",
        "print_orders()\n",
        "order_response = make_order()\n",
        "print_orders()\n",
        "# cancel_order(order_response.payload.order_id)\n",
        "# print_orders()\n",
        "'''\n",
        "\n",
        "#stocks = client.market.market_stocks_get()\n",
        "#print(stocks)\n",
        "\n",
        "\n",
        "client.market.market_candles_get('BBG004730RP0', '2019-08-07T10:00:00.029721253Z', '2019-08-07T10:05:00.029721253Z', '1min')\n"
      ],
      "execution_count": 6,
      "outputs": [
        {
          "output_type": "execute_result",
          "data": {
            "text/plain": [
              "{'payload': {'candles': [{'c': 229.01,\n",
              "                          'figi': 'BBG004730RP0',\n",
              "                          'h': 229.41,\n",
              "                          'interval': '1min',\n",
              "                          'l': 229.01,\n",
              "                          'o': 229.35,\n",
              "                          'time': datetime.datetime(2019, 8, 7, 10, 0, tzinfo=tzlocal()),\n",
              "                          'v': 15298},\n",
              "                         {'c': 228.82,\n",
              "                          'figi': 'BBG004730RP0',\n",
              "                          'h': 229.05,\n",
              "                          'interval': '1min',\n",
              "                          'l': 228.81,\n",
              "                          'o': 229.05,\n",
              "                          'time': datetime.datetime(2019, 8, 7, 10, 1, tzinfo=tzlocal()),\n",
              "                          'v': 5193},\n",
              "                         {'c': 228.93,\n",
              "                          'figi': 'BBG004730RP0',\n",
              "                          'h': 229.1,\n",
              "                          'interval': '1min',\n",
              "                          'l': 228.81,\n",
              "                          'o': 228.82,\n",
              "                          'time': datetime.datetime(2019, 8, 7, 10, 2, tzinfo=tzlocal()),\n",
              "                          'v': 7289},\n",
              "                         {'c': 229.1,\n",
              "                          'figi': 'BBG004730RP0',\n",
              "                          'h': 229.26,\n",
              "                          'interval': '1min',\n",
              "                          'l': 229.0,\n",
              "                          'o': 229.0,\n",
              "                          'time': datetime.datetime(2019, 8, 7, 10, 3, tzinfo=tzlocal()),\n",
              "                          'v': 4668},\n",
              "                         {'c': 229.16,\n",
              "                          'figi': 'BBG004730RP0',\n",
              "                          'h': 229.2,\n",
              "                          'interval': '1min',\n",
              "                          'l': 229.1,\n",
              "                          'o': 229.1,\n",
              "                          'time': datetime.datetime(2019, 8, 7, 10, 4, tzinfo=tzlocal()),\n",
              "                          'v': 617},\n",
              "                         {'c': 229.36,\n",
              "                          'figi': 'BBG004730RP0',\n",
              "                          'h': 229.38,\n",
              "                          'interval': '1min',\n",
              "                          'l': 229.17,\n",
              "                          'o': 229.18,\n",
              "                          'time': datetime.datetime(2019, 8, 7, 10, 5, tzinfo=tzlocal()),\n",
              "                          'v': 7640}],\n",
              "             'figi': 'BBG004730RP0',\n",
              "             'interval': '1min'},\n",
              " 'status': 'Ok',\n",
              " 'tracking_id': 'a0792cb3b3e15ecb'}"
            ]
          },
          "metadata": {},
          "execution_count": 6
        }
      ]
    },
    {
      "cell_type": "code",
      "metadata": {
        "id": "JtUyJjkVZcJF"
      },
      "source": [
        "import requests\n",
        "from bs4 import BeautifulSoup\n",
        "import pandas as pd \n",
        "import csv"
      ],
      "execution_count": 7,
      "outputs": []
    },
    {
      "cell_type": "code",
      "metadata": {
        "id": "8mIDvVrJy1Ln"
      },
      "source": [
        "def csvWrite(fileName, data):\n",
        "  with open(fileName, 'w', newline=\"\", encoding='utf-16') as file:\n",
        "    columns = ['datetime', 'header', 'text', 'number', 'url']\n",
        "    writer = csv.DictWriter(file, delimiter=\",\", fieldnames=columns)\n",
        "    writer.writeheader()\n",
        "    writer.writerows(data)"
      ],
      "execution_count": 8,
      "outputs": []
    },
    {
      "cell_type": "code",
      "metadata": {
        "id": "dhW-j57PdS5K"
      },
      "source": [
        "# хидеры, которые формируются браузером при обращении к сайту interfax\n",
        "requestHeaders = {\n",
        "'accept': 'text/html,application/xhtml+xml,application/xml;q=0.9,image/avif,image/webp,image/apng,*/*;q=0.8,application/signed-exchange;v=b3;q=0.9',\n",
        "'accept-encoding': 'gzip, deflate, br',\n",
        "'accept-language': 'ru-RU,ru;q=0.9,en-US;q=0.8,en;q=0.7,gl;q=0.6',\n",
        "'cache-control': 'max-age=0',\n",
        "'if-modified-since': 'Fri, 4 Sep 2021 20:55:32 GMT',\n",
        "'sec-ch-ua': '\"Chromium\";v=\"92\", \" Not A;Brand\";v=\"99\", \"Google Chrome\";v=\"92\"',\n",
        "'sec-ch-ua-mobile': '?0',\n",
        "'sec-fetch-dest': 'document',\n",
        "'sec-fetch-mode': 'navigate',\n",
        "'sec-fetch-site': 'none',\n",
        "'sec-fetch-user': '?1',\n",
        "'upgrade-insecure-requests': '1',\n",
        "'user-agent': 'Mozilla/5.0 (Windows NT 10.0; Win64; x64) AppleWebKit/537.36 (KHTML, like Gecko) Chrome/92.0.4515.159 Safari/537.36'\n",
        "}\n",
        "\n",
        "# формирует запрос с нужными хидерами и cookie, притворяясь браузером\n",
        "def newRequest(ssn, url):\n",
        "  r = ssn.get(url, allow_redirects=False)\n",
        "  r.request.headers = requestHeaders\n",
        "  r.encoding='windows-1251'\n",
        "  return r"
      ],
      "execution_count": 9,
      "outputs": []
    },
    {
      "cell_type": "code",
      "metadata": {
        "id": "VlZHHB-5iuDD"
      },
      "source": [
        "# парсит одну новость из запроса req\n",
        "def getRow(req, page):\n",
        "  soup = BeautifulSoup(req.text, features = 'html.parser')\n",
        "  mainDiv = soup.find('div', {'class': 'infinitblock'})\n",
        "  timeString = mainDiv.find('time')[\"datetime\"]\n",
        "  item = mainDiv.find('article', {'itemprop': 'articleBody'})\n",
        "  header = item.find('h1', {'itemprop': 'headline'}).text\n",
        "  paragraphs = item.findAll('p')\n",
        "  text=''\n",
        "  for p in paragraphs:\n",
        "    text+=p.text+' '\n",
        "  return {'datetime': timeString, 'header': header, 'text': text, 'number': page, 'url': req.url}\n",
        "\n",
        "# проверяет принадлежность url к одной из категорий в списке cats\n",
        "def isUrlOfCategories(url, cats):\n",
        "  return any(x in url for x in cats)"
      ],
      "execution_count": 10,
      "outputs": []
    },
    {
      "cell_type": "code",
      "metadata": {
        "id": "4WaGIquytDy0"
      },
      "source": [
        "# читает блок новостей на baseUrl в интервале идентификаторов [startPage, endPage]\n",
        "# берет только категории из списка categories\n",
        "# параметр workerName нужен только для отображения прогресса\n",
        "# процедура возвращает dict - список новостей\n",
        "def parseBlock(baseUrl, startPage, endPage, categories, workerName='worker'):\n",
        "  print(workerName, end='')\n",
        "  newsOutput = []\n",
        "  ssn = requests.Session() # готовим сессию, чтобы быть более похожим на браузер\n",
        "  for page in range(startPage, endPage, -1):\n",
        "    print('.', end='') # прогресс, чтобы было видно, что работаем\n",
        "    r = newRequest(ssn, baseUrl+'/'+str(page))\n",
        "    if r.status_code == 404:\n",
        "      continue\n",
        "    if r.status_code == 301:\n",
        "      # был редирект\n",
        "      location = r.headers['Location']\n",
        "      if not 'http' in location: \n",
        "        location = baseUrl + location\n",
        "      # попали мы на интересующую нас категорию\n",
        "      if isUrlOfCategories(location, categories):\n",
        "        # если после редиректа мы получили нужную категорию, то перезапросим урл из редиректа\n",
        "        r = newRequest(ssn, location)\n",
        "      else:\n",
        "        # Был редирект на неподходящую категорию\n",
        "        continue\n",
        "    newsOutput.append(getRow(r, page))\n",
        "    print('\\r', r.url)\n",
        "    print(workerName, end='')\n",
        "  return newsOutput"
      ],
      "execution_count": 11,
      "outputs": []
    },
    {
      "cell_type": "markdown",
      "metadata": {
        "id": "oXWGh2RnLAaX"
      },
      "source": [
        "Парсим блок новостей"
      ]
    },
    {
      "cell_type": "code",
      "metadata": {
        "colab": {
          "base_uri": "https://localhost:8080/"
        },
        "id": "IuNPrswQdT54",
        "outputId": "8af9c850-6c99-4752-aec5-5967fe4bcfbd"
      },
      "source": [
        "baseUrl = 'https://www.interfax.ru'\n",
        "categories = ['https://www.interfax.ru/business']\n",
        "startPage = 788577 \n",
        "endPage = startPage - 100\n",
        "\n",
        "newsOutput = parseBlock(baseUrl, startPage, endPage, categories, 'worker 001')\n",
        "csvWrite(driveFolder + str(startPage) + '_' + str(endPage) + '.csv', newsOutput)"
      ],
      "execution_count": 12,
      "outputs": [
        {
          "output_type": "stream",
          "name": "stdout",
          "text": [
            " https://www.interfax.ru/business/788577\n",
            " https://www.interfax.ru/business/788527\n",
            " https://www.interfax.ru/business/788525\n",
            " https://www.interfax.ru/business/788522\n",
            " https://www.interfax.ru/business/788521\n",
            " https://www.interfax.ru/business/788520\n",
            " https://www.interfax.ru/business/788516\n",
            " https://www.interfax.ru/business/788515\n",
            " https://www.interfax.ru/business/788513\n",
            " https://www.interfax.ru/business/788511\n",
            " https://www.interfax.ru/business/788499\n",
            " https://www.interfax.ru/business/788488\n",
            " https://www.interfax.ru/business/788481\n",
            " https://www.interfax.ru/business/788479\n",
            "worker 001."
          ]
        }
      ]
    },
    {
      "cell_type": "markdown",
      "metadata": {
        "id": "hFK9MExJm17L"
      },
      "source": [
        "TODO list:\n",
        "* что буду делать, если сайт начнет запрашивать у меня капчу?\n",
        "* сохранять в гуглдрайве текущую отпаршенную страницу \n",
        "* сделать многопоточную загрузку, в каждом потоке своя сессия"
      ]
    }
  ]
}